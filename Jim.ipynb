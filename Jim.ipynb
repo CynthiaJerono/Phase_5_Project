{
 "cells": [
  {
   "cell_type": "markdown",
   "metadata": {},
   "source": [
    "# Mental Health Detection via Online Textual Conversations"
   ]
  },
  {
   "cell_type": "markdown",
   "metadata": {},
   "source": [
    "# Problem Statement:\n",
    "Mental health issues like depression, anxiety, and suicidal tendencies often go unnoticed in daily conversations, especially in online forums, social media posts, or text-based support systems. Existing tools are either too general or overly reliant on structured input, missing subtle signs of mental distress embedded in unstructured conversations. This project aims to identify potential mental health concerns based on users’ language and conversational patterns in online texts.\n",
    "# Objective:\n",
    "Build an NLP model that detects signs of mental health issues (like depression, anxiety, or suicidal ideation) from text conversations in online forums or social media. The model should analyze emotion, tone shifts, and contextual triggers across the conversation to detect mental health signals and provide early warnings.\n"
   ]
  },
  {
   "cell_type": "markdown",
   "metadata": {},
   "source": [
    "# Data Loading"
   ]
  },
  {
   "cell_type": "code",
   "execution_count": 4,
   "metadata": {},
   "outputs": [],
   "source": [
    "# Import essential libraries\n",
    "import pandas as pd\n",
    "import numpy as np\n",
    "import matplotlib.pyplot as plt\n",
    "import seaborn as sns\n",
    "import re\n",
    "import string\n",
    "from sklearn.model_selection import train_test_split\n",
    "from sklearn.feature_extraction.text import TfidfVectorizer\n",
    "from sklearn.metrics import accuracy_score, precision_score, recall_score, f1_score, classification_report\n",
    "from sklearn.linear_model import LogisticRegression\n",
    "from sklearn.naive_bayes import MultinomialNB\n",
    "\n"
   ]
  },
  {
   "cell_type": "code",
   "execution_count": 5,
   "metadata": {},
   "outputs": [
    {
     "name": "stderr",
     "output_type": "stream",
     "text": [
      "C:\\Users\\hp\\AppData\\Local\\Temp\\ipykernel_16768\\1398302225.py:2: DtypeWarning: Columns (25) have mixed types. Specify dtype option on import or set low_memory=False.\n",
      "  data = pd.read_csv('broad_reddit_search4.csv')\n"
     ]
    },
    {
     "data": {
      "text/html": [
       "<div>\n",
       "<style scoped>\n",
       "    .dataframe tbody tr th:only-of-type {\n",
       "        vertical-align: middle;\n",
       "    }\n",
       "\n",
       "    .dataframe tbody tr th {\n",
       "        vertical-align: top;\n",
       "    }\n",
       "\n",
       "    .dataframe thead th {\n",
       "        text-align: right;\n",
       "    }\n",
       "</style>\n",
       "<table border=\"1\" class=\"dataframe\">\n",
       "  <thead>\n",
       "    <tr style=\"text-align: right;\">\n",
       "      <th></th>\n",
       "      <th>title</th>\n",
       "      <th>post_body</th>\n",
       "      <th>comment_body</th>\n",
       "      <th>comment_score</th>\n",
       "      <th>post_url</th>\n",
       "      <th>created</th>\n",
       "      <th>subreddit</th>\n",
       "      <th>post_score</th>\n",
       "      <th>post_num_comments</th>\n",
       "      <th>author</th>\n",
       "      <th>...</th>\n",
       "      <th>author_premium</th>\n",
       "      <th>distinguished</th>\n",
       "      <th>all_awardings</th>\n",
       "      <th>num_crossposts</th>\n",
       "      <th>total_awards_received</th>\n",
       "      <th>post_thumbnail</th>\n",
       "      <th>link_flair_text</th>\n",
       "      <th>post_id</th>\n",
       "      <th>comment_id</th>\n",
       "      <th>author_flair_text</th>\n",
       "    </tr>\n",
       "  </thead>\n",
       "  <tbody>\n",
       "    <tr>\n",
       "      <th>0</th>\n",
       "      <td>Need some advice in life</td>\n",
       "      <td>I'm a 21-year-old male final year engineering ...</td>\n",
       "      <td>You can talk to me. I am a final year engineer...</td>\n",
       "      <td>1</td>\n",
       "      <td>https://www.reddit.com/r/mentalhealth/comments...</td>\n",
       "      <td>1.730402e+09</td>\n",
       "      <td>mentalhealth</td>\n",
       "      <td>1</td>\n",
       "      <td>1</td>\n",
       "      <td>LandscapeStriking288</td>\n",
       "      <td>...</td>\n",
       "      <td>False</td>\n",
       "      <td>NaN</td>\n",
       "      <td>[]</td>\n",
       "      <td>0</td>\n",
       "      <td>0</td>\n",
       "      <td>self</td>\n",
       "      <td>Need Support</td>\n",
       "      <td>1gglxsi</td>\n",
       "      <td>luqr7bk</td>\n",
       "      <td>NaN</td>\n",
       "    </tr>\n",
       "    <tr>\n",
       "      <th>1</th>\n",
       "      <td>CW// Abuse** Is it normal for a psychologist t...</td>\n",
       "      <td>\\nI’m seeking an ADHD diagnosis and had my int...</td>\n",
       "      <td>I do not see what the FUCK detailed accounts o...</td>\n",
       "      <td>2</td>\n",
       "      <td>https://www.reddit.com/r/mentalhealth/comments...</td>\n",
       "      <td>1.730401e+09</td>\n",
       "      <td>mentalhealth</td>\n",
       "      <td>1</td>\n",
       "      <td>1</td>\n",
       "      <td>CarSoggy7883</td>\n",
       "      <td>...</td>\n",
       "      <td>False</td>\n",
       "      <td>NaN</td>\n",
       "      <td>[]</td>\n",
       "      <td>0</td>\n",
       "      <td>0</td>\n",
       "      <td>self</td>\n",
       "      <td>Opinion / Thoughts</td>\n",
       "      <td>1gglv5z</td>\n",
       "      <td>luqn8ow</td>\n",
       "      <td>NaN</td>\n",
       "    </tr>\n",
       "    <tr>\n",
       "      <th>2</th>\n",
       "      <td>How can I overcome my anger/fear towards women?</td>\n",
       "      <td>As the title states, this is an issue I have b...</td>\n",
       "      <td>There's never an easy answer to \"how do I get ...</td>\n",
       "      <td>1</td>\n",
       "      <td>https://www.reddit.com/r/mentalhealth/comments...</td>\n",
       "      <td>1.730403e+09</td>\n",
       "      <td>mentalhealth</td>\n",
       "      <td>3</td>\n",
       "      <td>1</td>\n",
       "      <td>SoulSpiegel12</td>\n",
       "      <td>...</td>\n",
       "      <td>False</td>\n",
       "      <td>NaN</td>\n",
       "      <td>[]</td>\n",
       "      <td>0</td>\n",
       "      <td>0</td>\n",
       "      <td>self</td>\n",
       "      <td>Need Support</td>\n",
       "      <td>1ggktk3</td>\n",
       "      <td>luqvdmq</td>\n",
       "      <td>NaN</td>\n",
       "    </tr>\n",
       "    <tr>\n",
       "      <th>3</th>\n",
       "      <td>I'm not ok</td>\n",
       "      <td>I got diagnosed with a bunch of mental health ...</td>\n",
       "      <td>It’s concerning that your wife is not more emo...</td>\n",
       "      <td>1</td>\n",
       "      <td>https://www.reddit.com/r/mentalhealth/comments...</td>\n",
       "      <td>1.730396e+09</td>\n",
       "      <td>mentalhealth</td>\n",
       "      <td>3</td>\n",
       "      <td>2</td>\n",
       "      <td>loopedmatch</td>\n",
       "      <td>...</td>\n",
       "      <td>False</td>\n",
       "      <td>NaN</td>\n",
       "      <td>[]</td>\n",
       "      <td>0</td>\n",
       "      <td>0</td>\n",
       "      <td>self</td>\n",
       "      <td>Need Support</td>\n",
       "      <td>1gghfn5</td>\n",
       "      <td>luq6l9l</td>\n",
       "      <td>NaN</td>\n",
       "    </tr>\n",
       "    <tr>\n",
       "      <th>4</th>\n",
       "      <td>Mental Health is weird</td>\n",
       "      <td>I literally had a full blown crying breakdown ...</td>\n",
       "      <td>Literally, I left work a few weeks back on a S...</td>\n",
       "      <td>1</td>\n",
       "      <td>https://www.reddit.com/r/mentalhealth/comments...</td>\n",
       "      <td>1.730391e+09</td>\n",
       "      <td>mentalhealth</td>\n",
       "      <td>2</td>\n",
       "      <td>1</td>\n",
       "      <td>Substantial-Iron-453</td>\n",
       "      <td>...</td>\n",
       "      <td>False</td>\n",
       "      <td>NaN</td>\n",
       "      <td>[]</td>\n",
       "      <td>0</td>\n",
       "      <td>0</td>\n",
       "      <td>self</td>\n",
       "      <td>Opinion / Thoughts</td>\n",
       "      <td>1gggldf</td>\n",
       "      <td>lups45m</td>\n",
       "      <td>NaN</td>\n",
       "    </tr>\n",
       "  </tbody>\n",
       "</table>\n",
       "<p>5 rows × 26 columns</p>\n",
       "</div>"
      ],
      "text/plain": [
       "                                               title  \\\n",
       "0                           Need some advice in life   \n",
       "1  CW// Abuse** Is it normal for a psychologist t...   \n",
       "2   How can I overcome my anger/fear towards women?    \n",
       "3                                         I'm not ok   \n",
       "4                             Mental Health is weird   \n",
       "\n",
       "                                           post_body  \\\n",
       "0  I'm a 21-year-old male final year engineering ...   \n",
       "1  \\nI’m seeking an ADHD diagnosis and had my int...   \n",
       "2  As the title states, this is an issue I have b...   \n",
       "3  I got diagnosed with a bunch of mental health ...   \n",
       "4  I literally had a full blown crying breakdown ...   \n",
       "\n",
       "                                        comment_body  comment_score  \\\n",
       "0  You can talk to me. I am a final year engineer...              1   \n",
       "1  I do not see what the FUCK detailed accounts o...              2   \n",
       "2  There's never an easy answer to \"how do I get ...              1   \n",
       "3  It’s concerning that your wife is not more emo...              1   \n",
       "4  Literally, I left work a few weeks back on a S...              1   \n",
       "\n",
       "                                            post_url       created  \\\n",
       "0  https://www.reddit.com/r/mentalhealth/comments...  1.730402e+09   \n",
       "1  https://www.reddit.com/r/mentalhealth/comments...  1.730401e+09   \n",
       "2  https://www.reddit.com/r/mentalhealth/comments...  1.730403e+09   \n",
       "3  https://www.reddit.com/r/mentalhealth/comments...  1.730396e+09   \n",
       "4  https://www.reddit.com/r/mentalhealth/comments...  1.730391e+09   \n",
       "\n",
       "      subreddit  post_score  post_num_comments                author  ...  \\\n",
       "0  mentalhealth           1                  1  LandscapeStriking288  ...   \n",
       "1  mentalhealth           1                  1          CarSoggy7883  ...   \n",
       "2  mentalhealth           3                  1         SoulSpiegel12  ...   \n",
       "3  mentalhealth           3                  2           loopedmatch  ...   \n",
       "4  mentalhealth           2                  1  Substantial-Iron-453  ...   \n",
       "\n",
       "  author_premium  distinguished all_awardings  num_crossposts  \\\n",
       "0          False            NaN            []               0   \n",
       "1          False            NaN            []               0   \n",
       "2          False            NaN            []               0   \n",
       "3          False            NaN            []               0   \n",
       "4          False            NaN            []               0   \n",
       "\n",
       "   total_awards_received  post_thumbnail     link_flair_text  post_id  \\\n",
       "0                      0            self        Need Support  1gglxsi   \n",
       "1                      0            self  Opinion / Thoughts  1gglv5z   \n",
       "2                      0            self        Need Support  1ggktk3   \n",
       "3                      0            self        Need Support  1gghfn5   \n",
       "4                      0            self  Opinion / Thoughts  1gggldf   \n",
       "\n",
       "  comment_id  author_flair_text  \n",
       "0    luqr7bk                NaN  \n",
       "1    luqn8ow                NaN  \n",
       "2    luqvdmq                NaN  \n",
       "3    luq6l9l                NaN  \n",
       "4    lups45m                NaN  \n",
       "\n",
       "[5 rows x 26 columns]"
      ]
     },
     "execution_count": 5,
     "metadata": {},
     "output_type": "execute_result"
    }
   ],
   "source": [
    "# Load the data\n",
    "data = pd.read_csv('broad_reddit_search4.csv')\n",
    "data.head()\n"
   ]
  },
  {
   "cell_type": "code",
   "execution_count": 13,
   "metadata": {},
   "outputs": [
    {
     "name": "stderr",
     "output_type": "stream",
     "text": [
      "C:\\Users\\hp\\AppData\\Local\\Temp\\ipykernel_16768\\1476975777.py:4: DtypeWarning: Columns (25) have mixed types. Specify dtype option on import or set low_memory=False.\n",
      "  df = pd.read_csv('broad_reddit_search4.csv')\n"
     ]
    }
   ],
   "source": [
    "import pandas as pd\n",
    "\n",
    "# Load data into df\n",
    "df = pd.read_csv('broad_reddit_search4.csv')"
   ]
  },
  {
   "cell_type": "code",
   "execution_count": 14,
   "metadata": {},
   "outputs": [
    {
     "data": {
      "text/html": [
       "<div>\n",
       "<style scoped>\n",
       "    .dataframe tbody tr th:only-of-type {\n",
       "        vertical-align: middle;\n",
       "    }\n",
       "\n",
       "    .dataframe tbody tr th {\n",
       "        vertical-align: top;\n",
       "    }\n",
       "\n",
       "    .dataframe thead th {\n",
       "        text-align: right;\n",
       "    }\n",
       "</style>\n",
       "<table border=\"1\" class=\"dataframe\">\n",
       "  <thead>\n",
       "    <tr style=\"text-align: right;\">\n",
       "      <th></th>\n",
       "      <th>title</th>\n",
       "      <th>post_body</th>\n",
       "      <th>comment_body</th>\n",
       "      <th>comment_score</th>\n",
       "      <th>post_url</th>\n",
       "      <th>created</th>\n",
       "      <th>subreddit</th>\n",
       "      <th>post_score</th>\n",
       "      <th>post_num_comments</th>\n",
       "      <th>author</th>\n",
       "      <th>...</th>\n",
       "      <th>author_premium</th>\n",
       "      <th>distinguished</th>\n",
       "      <th>all_awardings</th>\n",
       "      <th>num_crossposts</th>\n",
       "      <th>total_awards_received</th>\n",
       "      <th>post_thumbnail</th>\n",
       "      <th>link_flair_text</th>\n",
       "      <th>post_id</th>\n",
       "      <th>comment_id</th>\n",
       "      <th>author_flair_text</th>\n",
       "    </tr>\n",
       "  </thead>\n",
       "  <tbody>\n",
       "    <tr>\n",
       "      <th>46929</th>\n",
       "      <td>My 18yo sister is seeing a married guy(27) who...</td>\n",
       "      <td>Hey y’all, as an older sister(25) I wanted to ...</td>\n",
       "      <td>well you have to ask, why is your sister with ...</td>\n",
       "      <td>-1</td>\n",
       "      <td>https://www.reddit.com/r/relationships/comment...</td>\n",
       "      <td>1.726353e+09</td>\n",
       "      <td>relationships</td>\n",
       "      <td>106</td>\n",
       "      <td>29</td>\n",
       "      <td>Azalealea</td>\n",
       "      <td>...</td>\n",
       "      <td>False</td>\n",
       "      <td>NaN</td>\n",
       "      <td>[]</td>\n",
       "      <td>0</td>\n",
       "      <td>0</td>\n",
       "      <td>self</td>\n",
       "      <td>NaN</td>\n",
       "      <td>1fgwdlj</td>\n",
       "      <td>ln5ot1c</td>\n",
       "      <td>NaN</td>\n",
       "    </tr>\n",
       "    <tr>\n",
       "      <th>46930</th>\n",
       "      <td>My 18yo sister is seeing a married guy(27) who...</td>\n",
       "      <td>Hey y’all, as an older sister(25) I wanted to ...</td>\n",
       "      <td>I would also do it anon bc otherwise your sist...</td>\n",
       "      <td>1</td>\n",
       "      <td>https://www.reddit.com/r/relationships/comment...</td>\n",
       "      <td>1.726455e+09</td>\n",
       "      <td>relationships</td>\n",
       "      <td>106</td>\n",
       "      <td>29</td>\n",
       "      <td>Azalealea</td>\n",
       "      <td>...</td>\n",
       "      <td>False</td>\n",
       "      <td>NaN</td>\n",
       "      <td>[]</td>\n",
       "      <td>0</td>\n",
       "      <td>0</td>\n",
       "      <td>self</td>\n",
       "      <td>NaN</td>\n",
       "      <td>1fgwdlj</td>\n",
       "      <td>lncrj9b</td>\n",
       "      <td>NaN</td>\n",
       "    </tr>\n",
       "    <tr>\n",
       "      <th>46931</th>\n",
       "      <td>My 18yo sister is seeing a married guy(27) who...</td>\n",
       "      <td>Hey y’all, as an older sister(25) I wanted to ...</td>\n",
       "      <td>&gt;And you can remind her of her innate worth an...</td>\n",
       "      <td>9</td>\n",
       "      <td>https://www.reddit.com/r/relationships/comment...</td>\n",
       "      <td>1.726360e+09</td>\n",
       "      <td>relationships</td>\n",
       "      <td>106</td>\n",
       "      <td>29</td>\n",
       "      <td>Azalealea</td>\n",
       "      <td>...</td>\n",
       "      <td>False</td>\n",
       "      <td>NaN</td>\n",
       "      <td>[]</td>\n",
       "      <td>0</td>\n",
       "      <td>0</td>\n",
       "      <td>self</td>\n",
       "      <td>NaN</td>\n",
       "      <td>1fgwdlj</td>\n",
       "      <td>ln69hkn</td>\n",
       "      <td>NaN</td>\n",
       "    </tr>\n",
       "    <tr>\n",
       "      <th>46932</th>\n",
       "      <td>My 18yo sister is seeing a married guy(27) who...</td>\n",
       "      <td>Hey y’all, as an older sister(25) I wanted to ...</td>\n",
       "      <td>I agree with all this. Also makes sure she get...</td>\n",
       "      <td>16</td>\n",
       "      <td>https://www.reddit.com/r/relationships/comment...</td>\n",
       "      <td>1.726359e+09</td>\n",
       "      <td>relationships</td>\n",
       "      <td>106</td>\n",
       "      <td>29</td>\n",
       "      <td>Azalealea</td>\n",
       "      <td>...</td>\n",
       "      <td>False</td>\n",
       "      <td>NaN</td>\n",
       "      <td>[]</td>\n",
       "      <td>0</td>\n",
       "      <td>0</td>\n",
       "      <td>self</td>\n",
       "      <td>NaN</td>\n",
       "      <td>1fgwdlj</td>\n",
       "      <td>ln65wpl</td>\n",
       "      <td>NaN</td>\n",
       "    </tr>\n",
       "    <tr>\n",
       "      <th>46933</th>\n",
       "      <td>I (20F) have been struggling a lot whilst my b...</td>\n",
       "      <td>\\nTo give some context, we have been together ...</td>\n",
       "      <td>There is a lot of change in your life, and thi...</td>\n",
       "      <td>1</td>\n",
       "      <td>https://www.reddit.com/r/relationships/comment...</td>\n",
       "      <td>1.726344e+09</td>\n",
       "      <td>relationships</td>\n",
       "      <td>1</td>\n",
       "      <td>1</td>\n",
       "      <td>Legitimate_Writing55</td>\n",
       "      <td>...</td>\n",
       "      <td>False</td>\n",
       "      <td>NaN</td>\n",
       "      <td>[]</td>\n",
       "      <td>0</td>\n",
       "      <td>0</td>\n",
       "      <td>self</td>\n",
       "      <td>NaN</td>\n",
       "      <td>1fgqgh1</td>\n",
       "      <td>ln4vuu7</td>\n",
       "      <td>NaN</td>\n",
       "    </tr>\n",
       "  </tbody>\n",
       "</table>\n",
       "<p>5 rows × 26 columns</p>\n",
       "</div>"
      ],
      "text/plain": [
       "                                                   title  \\\n",
       "46929  My 18yo sister is seeing a married guy(27) who...   \n",
       "46930  My 18yo sister is seeing a married guy(27) who...   \n",
       "46931  My 18yo sister is seeing a married guy(27) who...   \n",
       "46932  My 18yo sister is seeing a married guy(27) who...   \n",
       "46933  I (20F) have been struggling a lot whilst my b...   \n",
       "\n",
       "                                               post_body  \\\n",
       "46929  Hey y’all, as an older sister(25) I wanted to ...   \n",
       "46930  Hey y’all, as an older sister(25) I wanted to ...   \n",
       "46931  Hey y’all, as an older sister(25) I wanted to ...   \n",
       "46932  Hey y’all, as an older sister(25) I wanted to ...   \n",
       "46933  \\nTo give some context, we have been together ...   \n",
       "\n",
       "                                            comment_body  comment_score  \\\n",
       "46929  well you have to ask, why is your sister with ...             -1   \n",
       "46930  I would also do it anon bc otherwise your sist...              1   \n",
       "46931  >And you can remind her of her innate worth an...              9   \n",
       "46932  I agree with all this. Also makes sure she get...             16   \n",
       "46933  There is a lot of change in your life, and thi...              1   \n",
       "\n",
       "                                                post_url       created  \\\n",
       "46929  https://www.reddit.com/r/relationships/comment...  1.726353e+09   \n",
       "46930  https://www.reddit.com/r/relationships/comment...  1.726455e+09   \n",
       "46931  https://www.reddit.com/r/relationships/comment...  1.726360e+09   \n",
       "46932  https://www.reddit.com/r/relationships/comment...  1.726359e+09   \n",
       "46933  https://www.reddit.com/r/relationships/comment...  1.726344e+09   \n",
       "\n",
       "           subreddit  post_score  post_num_comments                author  \\\n",
       "46929  relationships         106                 29             Azalealea   \n",
       "46930  relationships         106                 29             Azalealea   \n",
       "46931  relationships         106                 29             Azalealea   \n",
       "46932  relationships         106                 29             Azalealea   \n",
       "46933  relationships           1                  1  Legitimate_Writing55   \n",
       "\n",
       "       ... author_premium  distinguished all_awardings  num_crossposts  \\\n",
       "46929  ...          False            NaN            []               0   \n",
       "46930  ...          False            NaN            []               0   \n",
       "46931  ...          False            NaN            []               0   \n",
       "46932  ...          False            NaN            []               0   \n",
       "46933  ...          False            NaN            []               0   \n",
       "\n",
       "       total_awards_received  post_thumbnail  link_flair_text  post_id  \\\n",
       "46929                      0            self              NaN  1fgwdlj   \n",
       "46930                      0            self              NaN  1fgwdlj   \n",
       "46931                      0            self              NaN  1fgwdlj   \n",
       "46932                      0            self              NaN  1fgwdlj   \n",
       "46933                      0            self              NaN  1fgqgh1   \n",
       "\n",
       "      comment_id  author_flair_text  \n",
       "46929    ln5ot1c                NaN  \n",
       "46930    lncrj9b                NaN  \n",
       "46931    ln69hkn                NaN  \n",
       "46932    ln65wpl                NaN  \n",
       "46933    ln4vuu7                NaN  \n",
       "\n",
       "[5 rows x 26 columns]"
      ]
     },
     "execution_count": 14,
     "metadata": {},
     "output_type": "execute_result"
    }
   ],
   "source": [
    "df.tail()"
   ]
  },
  {
   "cell_type": "code",
   "execution_count": 15,
   "metadata": {},
   "outputs": [
    {
     "data": {
      "text/plain": [
       "<bound method DataFrame.info of                                                    title  \\\n",
       "0                               Need some advice in life   \n",
       "1      CW// Abuse** Is it normal for a psychologist t...   \n",
       "2       How can I overcome my anger/fear towards women?    \n",
       "3                                             I'm not ok   \n",
       "4                                 Mental Health is weird   \n",
       "...                                                  ...   \n",
       "46929  My 18yo sister is seeing a married guy(27) who...   \n",
       "46930  My 18yo sister is seeing a married guy(27) who...   \n",
       "46931  My 18yo sister is seeing a married guy(27) who...   \n",
       "46932  My 18yo sister is seeing a married guy(27) who...   \n",
       "46933  I (20F) have been struggling a lot whilst my b...   \n",
       "\n",
       "                                               post_body  \\\n",
       "0      I'm a 21-year-old male final year engineering ...   \n",
       "1      \\nI’m seeking an ADHD diagnosis and had my int...   \n",
       "2      As the title states, this is an issue I have b...   \n",
       "3      I got diagnosed with a bunch of mental health ...   \n",
       "4      I literally had a full blown crying breakdown ...   \n",
       "...                                                  ...   \n",
       "46929  Hey y’all, as an older sister(25) I wanted to ...   \n",
       "46930  Hey y’all, as an older sister(25) I wanted to ...   \n",
       "46931  Hey y’all, as an older sister(25) I wanted to ...   \n",
       "46932  Hey y’all, as an older sister(25) I wanted to ...   \n",
       "46933  \\nTo give some context, we have been together ...   \n",
       "\n",
       "                                            comment_body  comment_score  \\\n",
       "0      You can talk to me. I am a final year engineer...              1   \n",
       "1      I do not see what the FUCK detailed accounts o...              2   \n",
       "2      There's never an easy answer to \"how do I get ...              1   \n",
       "3      It’s concerning that your wife is not more emo...              1   \n",
       "4      Literally, I left work a few weeks back on a S...              1   \n",
       "...                                                  ...            ...   \n",
       "46929  well you have to ask, why is your sister with ...             -1   \n",
       "46930  I would also do it anon bc otherwise your sist...              1   \n",
       "46931  >And you can remind her of her innate worth an...              9   \n",
       "46932  I agree with all this. Also makes sure she get...             16   \n",
       "46933  There is a lot of change in your life, and thi...              1   \n",
       "\n",
       "                                                post_url       created  \\\n",
       "0      https://www.reddit.com/r/mentalhealth/comments...  1.730402e+09   \n",
       "1      https://www.reddit.com/r/mentalhealth/comments...  1.730401e+09   \n",
       "2      https://www.reddit.com/r/mentalhealth/comments...  1.730403e+09   \n",
       "3      https://www.reddit.com/r/mentalhealth/comments...  1.730396e+09   \n",
       "4      https://www.reddit.com/r/mentalhealth/comments...  1.730391e+09   \n",
       "...                                                  ...           ...   \n",
       "46929  https://www.reddit.com/r/relationships/comment...  1.726353e+09   \n",
       "46930  https://www.reddit.com/r/relationships/comment...  1.726455e+09   \n",
       "46931  https://www.reddit.com/r/relationships/comment...  1.726360e+09   \n",
       "46932  https://www.reddit.com/r/relationships/comment...  1.726359e+09   \n",
       "46933  https://www.reddit.com/r/relationships/comment...  1.726344e+09   \n",
       "\n",
       "           subreddit  post_score  post_num_comments                author  \\\n",
       "0       mentalhealth           1                  1  LandscapeStriking288   \n",
       "1       mentalhealth           1                  1          CarSoggy7883   \n",
       "2       mentalhealth           3                  1         SoulSpiegel12   \n",
       "3       mentalhealth           3                  2           loopedmatch   \n",
       "4       mentalhealth           2                  1  Substantial-Iron-453   \n",
       "...              ...         ...                ...                   ...   \n",
       "46929  relationships         106                 29             Azalealea   \n",
       "46930  relationships         106                 29             Azalealea   \n",
       "46931  relationships         106                 29             Azalealea   \n",
       "46932  relationships         106                 29             Azalealea   \n",
       "46933  relationships           1                  1  Legitimate_Writing55   \n",
       "\n",
       "       ... author_premium  distinguished all_awardings  num_crossposts  \\\n",
       "0      ...          False            NaN            []               0   \n",
       "1      ...          False            NaN            []               0   \n",
       "2      ...          False            NaN            []               0   \n",
       "3      ...          False            NaN            []               0   \n",
       "4      ...          False            NaN            []               0   \n",
       "...    ...            ...            ...           ...             ...   \n",
       "46929  ...          False            NaN            []               0   \n",
       "46930  ...          False            NaN            []               0   \n",
       "46931  ...          False            NaN            []               0   \n",
       "46932  ...          False            NaN            []               0   \n",
       "46933  ...          False            NaN            []               0   \n",
       "\n",
       "       total_awards_received  post_thumbnail     link_flair_text  post_id  \\\n",
       "0                          0            self        Need Support  1gglxsi   \n",
       "1                          0            self  Opinion / Thoughts  1gglv5z   \n",
       "2                          0            self        Need Support  1ggktk3   \n",
       "3                          0            self        Need Support  1gghfn5   \n",
       "4                          0            self  Opinion / Thoughts  1gggldf   \n",
       "...                      ...             ...                 ...      ...   \n",
       "46929                      0            self                 NaN  1fgwdlj   \n",
       "46930                      0            self                 NaN  1fgwdlj   \n",
       "46931                      0            self                 NaN  1fgwdlj   \n",
       "46932                      0            self                 NaN  1fgwdlj   \n",
       "46933                      0            self                 NaN  1fgqgh1   \n",
       "\n",
       "      comment_id  author_flair_text  \n",
       "0        luqr7bk                NaN  \n",
       "1        luqn8ow                NaN  \n",
       "2        luqvdmq                NaN  \n",
       "3        luq6l9l                NaN  \n",
       "4        lups45m                NaN  \n",
       "...          ...                ...  \n",
       "46929    ln5ot1c                NaN  \n",
       "46930    lncrj9b                NaN  \n",
       "46931    ln69hkn                NaN  \n",
       "46932    ln65wpl                NaN  \n",
       "46933    ln4vuu7                NaN  \n",
       "\n",
       "[46934 rows x 26 columns]>"
      ]
     },
     "execution_count": 15,
     "metadata": {},
     "output_type": "execute_result"
    }
   ],
   "source": [
    "df.info"
   ]
  },
  {
   "cell_type": "markdown",
   "metadata": {},
   "source": [
    "# Data Description"
   ]
  },
  {
   "cell_type": "code",
   "execution_count": 8,
   "metadata": {},
   "outputs": [
    {
     "name": "stdout",
     "output_type": "stream",
     "text": [
      "<class 'pandas.core.frame.DataFrame'>\n",
      "RangeIndex: 46934 entries, 0 to 46933\n",
      "Data columns (total 26 columns):\n",
      " #   Column                 Non-Null Count  Dtype  \n",
      "---  ------                 --------------  -----  \n",
      " 0   title                  46934 non-null  object \n",
      " 1   post_body              43267 non-null  object \n",
      " 2   comment_body           46934 non-null  object \n",
      " 3   comment_score          46934 non-null  int64  \n",
      " 4   post_url               46931 non-null  object \n",
      " 5   created                46934 non-null  float64\n",
      " 6   subreddit              46934 non-null  object \n",
      " 7   post_score             46934 non-null  int64  \n",
      " 8   post_num_comments      46934 non-null  int64  \n",
      " 9   author                 46931 non-null  object \n",
      " 10  comment_author         43900 non-null  object \n",
      " 11  post_created           46934 non-null  float64\n",
      " 12  post_flair             17512 non-null  object \n",
      " 13  upvote_ratio           46934 non-null  float64\n",
      " 14  over_18                46934 non-null  bool   \n",
      " 15  is_self_post           46934 non-null  bool   \n",
      " 16  author_premium         46934 non-null  bool   \n",
      " 17  distinguished          0 non-null      float64\n",
      " 18  all_awardings          46934 non-null  object \n",
      " 19  num_crossposts         46934 non-null  int64  \n",
      " 20  total_awards_received  46934 non-null  int64  \n",
      " 21  post_thumbnail         46934 non-null  object \n",
      " 22  link_flair_text        17512 non-null  object \n",
      " 23  post_id                46934 non-null  object \n",
      " 24  comment_id             46934 non-null  object \n",
      " 25  author_flair_text      299 non-null    object \n",
      "dtypes: bool(3), float64(4), int64(5), object(14)\n",
      "memory usage: 8.4+ MB\n"
     ]
    }
   ],
   "source": [
    "data.info()"
   ]
  },
  {
   "cell_type": "code",
   "execution_count": 9,
   "metadata": {},
   "outputs": [
    {
     "data": {
      "text/plain": [
       "(46934, 26)"
      ]
     },
     "execution_count": 9,
     "metadata": {},
     "output_type": "execute_result"
    }
   ],
   "source": [
    "#CHECK NUMBER OF ROWS AND COLUMNS\n",
    "data.shape"
   ]
  },
  {
   "cell_type": "markdown",
   "metadata": {},
   "source": [
    "# Data Cleaning"
   ]
  },
  {
   "cell_type": "code",
   "execution_count": 16,
   "metadata": {},
   "outputs": [
    {
     "name": "stdout",
     "output_type": "stream",
     "text": [
      "title                        0\n",
      "post_body                 3667\n",
      "comment_body                 0\n",
      "comment_score                0\n",
      "post_url                     3\n",
      "created                      0\n",
      "subreddit                    0\n",
      "post_score                   0\n",
      "post_num_comments            0\n",
      "author                       3\n",
      "comment_author            3034\n",
      "post_created                 0\n",
      "post_flair               29422\n",
      "upvote_ratio                 0\n",
      "over_18                      0\n",
      "is_self_post                 0\n",
      "author_premium               0\n",
      "distinguished            46934\n",
      "all_awardings                0\n",
      "num_crossposts               0\n",
      "total_awards_received        0\n",
      "post_thumbnail               0\n",
      "link_flair_text          29422\n",
      "post_id                      0\n",
      "comment_id                   0\n",
      "author_flair_text        46635\n",
      "dtype: int64\n"
     ]
    }
   ],
   "source": [
    "# Check for missing values\n",
    "print(df.isnull().sum())"
   ]
  },
  {
   "cell_type": "markdown",
   "metadata": {},
   "source": [
    "Filling Numerical Data (with mean, median, or mode):"
   ]
  },
  {
   "cell_type": "code",
   "execution_count": 18,
   "metadata": {},
   "outputs": [],
   "source": [
    "import pandas as pd\n",
    "\n",
    "# Fill numerical columns with mean (you can replace 'mean' with 'median' or 'mode')\n",
    "df['post_score'] = df['post_score'].fillna(df['post_score'].mean())\n",
    "df['num_crossposts'] = df['num_crossposts'].fillna(df['num_crossposts'].median())\n",
    "df['upvote_ratio'] = df['upvote_ratio'].fillna(df['upvote_ratio'].mode()[0])\n"
   ]
  },
  {
   "cell_type": "markdown",
   "metadata": {},
   "source": [
    "Filling Categorical or Text Data (with mode or a placeholder):"
   ]
  },
  {
   "cell_type": "code",
   "execution_count": 19,
   "metadata": {},
   "outputs": [],
   "source": [
    "# Fill categorical/text columns with 'Unknown' or the most frequent value\n",
    "df['post_url'] = df['post_url'].fillna('Unknown')  # For text or URL columns\n",
    "df['author'] = df['author'].fillna(df['author'].mode()[0])  # For author names\n",
    "df['comment_author'] = df['comment_author'].fillna(df['comment_author'].mode()[0])\n",
    "\n",
    "# For the 'post_flair' or 'link_flair_text' columns, fill with a placeholder or mode\n",
    "df['post_flair'] = df['post_flair'].fillna('No flair')\n",
    "df['link_flair_text'] = df['link_flair_text'].fillna('No flair text')\n"
   ]
  },
  {
   "cell_type": "markdown",
   "metadata": {},
   "source": [
    "Filling with Forward or Backward Fill (if the data is sequential): If your dataset represents time-series or ordered data, you can fill the missing values using the forward or backward fill method:"
   ]
  },
  {
   "cell_type": "code",
   "execution_count": 20,
   "metadata": {},
   "outputs": [
    {
     "name": "stderr",
     "output_type": "stream",
     "text": [
      "C:\\Users\\hp\\AppData\\Local\\Temp\\ipykernel_16768\\2467874912.py:1: FutureWarning: Series.fillna with 'method' is deprecated and will raise in a future version. Use obj.ffill() or obj.bfill() instead.\n",
      "  df['post_id'] = df['post_id'].fillna(method='ffill')  # Forward fill\n",
      "C:\\Users\\hp\\AppData\\Local\\Temp\\ipykernel_16768\\2467874912.py:2: FutureWarning: Series.fillna with 'method' is deprecated and will raise in a future version. Use obj.ffill() or obj.bfill() instead.\n",
      "  df['comment_id'] = df['comment_id'].fillna(method='bfill')  # Backward fill\n"
     ]
    }
   ],
   "source": [
    "df['post_id'] = df['post_id'].fillna(method='ffill')  # Forward fill\n",
    "df['comment_id'] = df['comment_id'].fillna(method='bfill')  # Backward fill\n"
   ]
  },
  {
   "cell_type": "markdown",
   "metadata": {},
   "source": [
    "Filling with a Specific Value: If you want to fill the null values with a specific value, such as 0 or 'None':"
   ]
  },
  {
   "cell_type": "code",
   "execution_count": 21,
   "metadata": {},
   "outputs": [],
   "source": [
    "df['post_thumbnail'] = df['post_thumbnail'].fillna('No thumbnail')\n",
    "df['author_flair_text'] = df['author_flair_text'].fillna('No flair')\n"
   ]
  },
  {
   "cell_type": "markdown",
   "metadata": {},
   "source": [
    "checking that there are no more null values in the dataset:"
   ]
  },
  {
   "cell_type": "code",
   "execution_count": 22,
   "metadata": {},
   "outputs": [
    {
     "name": "stdout",
     "output_type": "stream",
     "text": [
      "title                        0\n",
      "post_body                 3667\n",
      "comment_body                 0\n",
      "comment_score                0\n",
      "post_url                     0\n",
      "created                      0\n",
      "subreddit                    0\n",
      "post_score                   0\n",
      "post_num_comments            0\n",
      "author                       0\n",
      "comment_author               0\n",
      "post_created                 0\n",
      "post_flair                   0\n",
      "upvote_ratio                 0\n",
      "over_18                      0\n",
      "is_self_post                 0\n",
      "author_premium               0\n",
      "distinguished            46934\n",
      "all_awardings                0\n",
      "num_crossposts               0\n",
      "total_awards_received        0\n",
      "post_thumbnail               0\n",
      "link_flair_text              0\n",
      "post_id                      0\n",
      "comment_id                   0\n",
      "author_flair_text            0\n",
      "dtype: int64\n"
     ]
    }
   ],
   "source": [
    "print(df.isnull().sum())  # This will show the count of remaining missing values per column\n"
   ]
  },
  {
   "cell_type": "markdown",
   "metadata": {},
   "source": [
    "For post_body (3667 missing values):"
   ]
  },
  {
   "cell_type": "markdown",
   "metadata": {},
   "source": [
    "Since post_body represents the content of a post, which is likely text data, lets handle the missing values by; "
   ]
  },
  {
   "cell_type": "markdown",
   "metadata": {},
   "source": [
    "Filling with a placeholder (e.g., \"No content available\")"
   ]
  },
  {
   "cell_type": "code",
   "execution_count": 23,
   "metadata": {},
   "outputs": [],
   "source": [
    "df['post_body'] = df['post_body'].fillna('No content available')\n"
   ]
  },
  {
   "cell_type": "markdown",
   "metadata": {},
   "source": [
    "Filling with an empty string :\n",
    "python\n",
    "Copy code\n"
   ]
  },
  {
   "cell_type": "code",
   "execution_count": 24,
   "metadata": {},
   "outputs": [],
   "source": [
    "df['post_body'] = df['post_body'].fillna('')\n"
   ]
  },
  {
   "cell_type": "markdown",
   "metadata": {},
   "source": [
    "For distinguished (46,934 missing values):"
   ]
  },
  {
   "cell_type": "code",
   "execution_count": 27,
   "metadata": {},
   "outputs": [],
   "source": [
    "#Fill with a placeholder (e.g., 'Not distinguished'\n",
    "df['distinguished'] = df['distinguished'].fillna('Not distinguished')\n"
   ]
  },
  {
   "cell_type": "code",
   "execution_count": 26,
   "metadata": {},
   "outputs": [],
   "source": [
    "#Filling  with a specific category (if there's a mode or common value that makes sense):\n",
    "\n",
    "df['distinguished'] = df['distinguished'].fillna(df['distinguished'].mode()[0])"
   ]
  },
  {
   "cell_type": "code",
   "execution_count": 28,
   "metadata": {},
   "outputs": [
    {
     "name": "stdout",
     "output_type": "stream",
     "text": [
      "title                    0\n",
      "post_body                0\n",
      "comment_body             0\n",
      "comment_score            0\n",
      "post_url                 0\n",
      "created                  0\n",
      "subreddit                0\n",
      "post_score               0\n",
      "post_num_comments        0\n",
      "author                   0\n",
      "comment_author           0\n",
      "post_created             0\n",
      "post_flair               0\n",
      "upvote_ratio             0\n",
      "over_18                  0\n",
      "is_self_post             0\n",
      "author_premium           0\n",
      "distinguished            0\n",
      "all_awardings            0\n",
      "num_crossposts           0\n",
      "total_awards_received    0\n",
      "post_thumbnail           0\n",
      "link_flair_text          0\n",
      "post_id                  0\n",
      "comment_id               0\n",
      "author_flair_text        0\n",
      "dtype: int64\n"
     ]
    }
   ],
   "source": [
    "print(df.isnull().sum())\n"
   ]
  },
  {
   "cell_type": "code",
   "execution_count": 31,
   "metadata": {},
   "outputs": [
    {
     "data": {
      "text/html": [
       "<div>\n",
       "<style scoped>\n",
       "    .dataframe tbody tr th:only-of-type {\n",
       "        vertical-align: middle;\n",
       "    }\n",
       "\n",
       "    .dataframe tbody tr th {\n",
       "        vertical-align: top;\n",
       "    }\n",
       "\n",
       "    .dataframe thead th {\n",
       "        text-align: right;\n",
       "    }\n",
       "</style>\n",
       "<table border=\"1\" class=\"dataframe\">\n",
       "  <thead>\n",
       "    <tr style=\"text-align: right;\">\n",
       "      <th></th>\n",
       "      <th>title</th>\n",
       "      <th>post_body</th>\n",
       "      <th>comment_body</th>\n",
       "      <th>comment_score</th>\n",
       "      <th>post_url</th>\n",
       "      <th>created</th>\n",
       "      <th>subreddit</th>\n",
       "      <th>post_score</th>\n",
       "      <th>post_num_comments</th>\n",
       "      <th>author</th>\n",
       "      <th>...</th>\n",
       "      <th>distinguished</th>\n",
       "      <th>all_awardings</th>\n",
       "      <th>num_crossposts</th>\n",
       "      <th>total_awards_received</th>\n",
       "      <th>post_thumbnail</th>\n",
       "      <th>link_flair_text</th>\n",
       "      <th>post_id</th>\n",
       "      <th>comment_id</th>\n",
       "      <th>author_flair_text</th>\n",
       "      <th>cleaned_text</th>\n",
       "    </tr>\n",
       "  </thead>\n",
       "  <tbody>\n",
       "    <tr>\n",
       "      <th>0</th>\n",
       "      <td>Need some advice in life</td>\n",
       "      <td>I'm a 21-year-old male final year engineering ...</td>\n",
       "      <td>You can talk to me. I am a final year engineer...</td>\n",
       "      <td>1</td>\n",
       "      <td>https://www.reddit.com/r/mentalhealth/comments...</td>\n",
       "      <td>1.730402e+09</td>\n",
       "      <td>mentalhealth</td>\n",
       "      <td>1</td>\n",
       "      <td>1</td>\n",
       "      <td>LandscapeStriking288</td>\n",
       "      <td>...</td>\n",
       "      <td>NaN</td>\n",
       "      <td>[]</td>\n",
       "      <td>0</td>\n",
       "      <td>0</td>\n",
       "      <td>self</td>\n",
       "      <td>Need Support</td>\n",
       "      <td>1gglxsi</td>\n",
       "      <td>luqr7bk</td>\n",
       "      <td>NaN</td>\n",
       "      <td>im a  male final year engineering student and ...</td>\n",
       "    </tr>\n",
       "    <tr>\n",
       "      <th>1</th>\n",
       "      <td>CW// Abuse** Is it normal for a psychologist t...</td>\n",
       "      <td>\\nI’m seeking an ADHD diagnosis and had my int...</td>\n",
       "      <td>I do not see what the FUCK detailed accounts o...</td>\n",
       "      <td>2</td>\n",
       "      <td>https://www.reddit.com/r/mentalhealth/comments...</td>\n",
       "      <td>1.730401e+09</td>\n",
       "      <td>mentalhealth</td>\n",
       "      <td>1</td>\n",
       "      <td>1</td>\n",
       "      <td>CarSoggy7883</td>\n",
       "      <td>...</td>\n",
       "      <td>NaN</td>\n",
       "      <td>[]</td>\n",
       "      <td>0</td>\n",
       "      <td>0</td>\n",
       "      <td>self</td>\n",
       "      <td>Opinion / Thoughts</td>\n",
       "      <td>1gglv5z</td>\n",
       "      <td>luqn8ow</td>\n",
       "      <td>NaN</td>\n",
       "      <td>i’m seeking an adhd diagnosis and had my intak...</td>\n",
       "    </tr>\n",
       "    <tr>\n",
       "      <th>2</th>\n",
       "      <td>How can I overcome my anger/fear towards women?</td>\n",
       "      <td>As the title states, this is an issue I have b...</td>\n",
       "      <td>There's never an easy answer to \"how do I get ...</td>\n",
       "      <td>1</td>\n",
       "      <td>https://www.reddit.com/r/mentalhealth/comments...</td>\n",
       "      <td>1.730403e+09</td>\n",
       "      <td>mentalhealth</td>\n",
       "      <td>3</td>\n",
       "      <td>1</td>\n",
       "      <td>SoulSpiegel12</td>\n",
       "      <td>...</td>\n",
       "      <td>NaN</td>\n",
       "      <td>[]</td>\n",
       "      <td>0</td>\n",
       "      <td>0</td>\n",
       "      <td>self</td>\n",
       "      <td>Need Support</td>\n",
       "      <td>1ggktk3</td>\n",
       "      <td>luqvdmq</td>\n",
       "      <td>NaN</td>\n",
       "      <td>as the title states this is an issue i have be...</td>\n",
       "    </tr>\n",
       "    <tr>\n",
       "      <th>3</th>\n",
       "      <td>I'm not ok</td>\n",
       "      <td>I got diagnosed with a bunch of mental health ...</td>\n",
       "      <td>It’s concerning that your wife is not more emo...</td>\n",
       "      <td>1</td>\n",
       "      <td>https://www.reddit.com/r/mentalhealth/comments...</td>\n",
       "      <td>1.730396e+09</td>\n",
       "      <td>mentalhealth</td>\n",
       "      <td>3</td>\n",
       "      <td>2</td>\n",
       "      <td>loopedmatch</td>\n",
       "      <td>...</td>\n",
       "      <td>NaN</td>\n",
       "      <td>[]</td>\n",
       "      <td>0</td>\n",
       "      <td>0</td>\n",
       "      <td>self</td>\n",
       "      <td>Need Support</td>\n",
       "      <td>1gghfn5</td>\n",
       "      <td>luq6l9l</td>\n",
       "      <td>NaN</td>\n",
       "      <td>i got diagnosed with a bunch of mental health ...</td>\n",
       "    </tr>\n",
       "    <tr>\n",
       "      <th>4</th>\n",
       "      <td>Mental Health is weird</td>\n",
       "      <td>I literally had a full blown crying breakdown ...</td>\n",
       "      <td>Literally, I left work a few weeks back on a S...</td>\n",
       "      <td>1</td>\n",
       "      <td>https://www.reddit.com/r/mentalhealth/comments...</td>\n",
       "      <td>1.730391e+09</td>\n",
       "      <td>mentalhealth</td>\n",
       "      <td>2</td>\n",
       "      <td>1</td>\n",
       "      <td>Substantial-Iron-453</td>\n",
       "      <td>...</td>\n",
       "      <td>NaN</td>\n",
       "      <td>[]</td>\n",
       "      <td>0</td>\n",
       "      <td>0</td>\n",
       "      <td>self</td>\n",
       "      <td>Opinion / Thoughts</td>\n",
       "      <td>1gggldf</td>\n",
       "      <td>lups45m</td>\n",
       "      <td>NaN</td>\n",
       "      <td>i literally had a full blown crying breakdown ...</td>\n",
       "    </tr>\n",
       "  </tbody>\n",
       "</table>\n",
       "<p>5 rows × 27 columns</p>\n",
       "</div>"
      ],
      "text/plain": [
       "                                               title  \\\n",
       "0                           Need some advice in life   \n",
       "1  CW// Abuse** Is it normal for a psychologist t...   \n",
       "2   How can I overcome my anger/fear towards women?    \n",
       "3                                         I'm not ok   \n",
       "4                             Mental Health is weird   \n",
       "\n",
       "                                           post_body  \\\n",
       "0  I'm a 21-year-old male final year engineering ...   \n",
       "1  \\nI’m seeking an ADHD diagnosis and had my int...   \n",
       "2  As the title states, this is an issue I have b...   \n",
       "3  I got diagnosed with a bunch of mental health ...   \n",
       "4  I literally had a full blown crying breakdown ...   \n",
       "\n",
       "                                        comment_body  comment_score  \\\n",
       "0  You can talk to me. I am a final year engineer...              1   \n",
       "1  I do not see what the FUCK detailed accounts o...              2   \n",
       "2  There's never an easy answer to \"how do I get ...              1   \n",
       "3  It’s concerning that your wife is not more emo...              1   \n",
       "4  Literally, I left work a few weeks back on a S...              1   \n",
       "\n",
       "                                            post_url       created  \\\n",
       "0  https://www.reddit.com/r/mentalhealth/comments...  1.730402e+09   \n",
       "1  https://www.reddit.com/r/mentalhealth/comments...  1.730401e+09   \n",
       "2  https://www.reddit.com/r/mentalhealth/comments...  1.730403e+09   \n",
       "3  https://www.reddit.com/r/mentalhealth/comments...  1.730396e+09   \n",
       "4  https://www.reddit.com/r/mentalhealth/comments...  1.730391e+09   \n",
       "\n",
       "      subreddit  post_score  post_num_comments                author  ...  \\\n",
       "0  mentalhealth           1                  1  LandscapeStriking288  ...   \n",
       "1  mentalhealth           1                  1          CarSoggy7883  ...   \n",
       "2  mentalhealth           3                  1         SoulSpiegel12  ...   \n",
       "3  mentalhealth           3                  2           loopedmatch  ...   \n",
       "4  mentalhealth           2                  1  Substantial-Iron-453  ...   \n",
       "\n",
       "  distinguished  all_awardings num_crossposts  total_awards_received  \\\n",
       "0           NaN             []              0                      0   \n",
       "1           NaN             []              0                      0   \n",
       "2           NaN             []              0                      0   \n",
       "3           NaN             []              0                      0   \n",
       "4           NaN             []              0                      0   \n",
       "\n",
       "   post_thumbnail     link_flair_text  post_id  comment_id author_flair_text  \\\n",
       "0            self        Need Support  1gglxsi     luqr7bk               NaN   \n",
       "1            self  Opinion / Thoughts  1gglv5z     luqn8ow               NaN   \n",
       "2            self        Need Support  1ggktk3     luqvdmq               NaN   \n",
       "3            self        Need Support  1gghfn5     luq6l9l               NaN   \n",
       "4            self  Opinion / Thoughts  1gggldf     lups45m               NaN   \n",
       "\n",
       "                                        cleaned_text  \n",
       "0  im a  male final year engineering student and ...  \n",
       "1  i’m seeking an adhd diagnosis and had my intak...  \n",
       "2  as the title states this is an issue i have be...  \n",
       "3  i got diagnosed with a bunch of mental health ...  \n",
       "4  i literally had a full blown crying breakdown ...  \n",
       "\n",
       "[5 rows x 27 columns]"
      ]
     },
     "execution_count": 31,
     "metadata": {},
     "output_type": "execute_result"
    }
   ],
   "source": [
    "import re\n",
    "import string\n",
    "\n",
    "# Define the cleaning function with added handling for non-string values\n",
    "def clean_text(text):\n",
    "    if isinstance(text, str):  # Only clean if the value is a string\n",
    "        text = text.lower()  # Convert text to lowercase\n",
    "        text = re.sub(r'https?://\\S+|www\\.\\S+', '', text)  # Remove URLs\n",
    "        text = re.sub(r'<.*?>', '', text)  # Remove HTML tags\n",
    "        text = re.sub(r'[%s]' % re.escape(string.punctuation), '', text)  # Remove punctuation\n",
    "        text = re.sub(r'\\n', '', text)  # Remove line breaks\n",
    "        text = re.sub(r'\\w*\\d\\w*', '', text)  # Remove words containing numbers\n",
    "    return text\n",
    "\n",
    "# Apply the cleaning function to the correct column\n",
    "data['cleaned_text'] = data['post_body'].apply(clean_text)  # Replace 'post_body' with the correct column name\n",
    "\n",
    "# Check the cleaned text\n",
    "data.head()\n"
   ]
  },
  {
   "cell_type": "code",
   "execution_count": 32,
   "metadata": {},
   "outputs": [],
   "source": [
    "#fillING the missing values (NaN) in the post_body column with a placeholder string (e.g., \"No content available\") before applying the cleaning function:\n",
    "# Fill missing values with a placeholder\n",
    "data['post_body'] = data['post_body'].fillna('No content available')\n",
    "\n",
    "# Apply the cleaning function\n",
    "data['cleaned_text'] = data['post_body'].apply(clean_text)\n"
   ]
  },
  {
   "cell_type": "code",
   "execution_count": 36,
   "metadata": {},
   "outputs": [],
   "source": [
    "# Text Cleaning\n",
    "# The following code cleans the post_body column and saves it as cleaned_text:\n",
    "import re\n",
    "\n",
    "# Define the text cleaning function\n",
    "def clean_text(text):\n",
    "    text = str(text).lower()  # Convert text to lowercase\n",
    "    text = re.sub(r'[^\\w\\s]', '', text)  # Remove punctuation\n",
    "    text = re.sub(r'\\d+', '', text)  # Remove numbers\n",
    "    text = re.sub(r'\\s+', ' ', text).strip()  # Remove extra spaces\n",
    "    return text\n",
    "\n",
    "# Apply text cleaning to create 'cleaned_text' column based on 'post_body'\n",
    "df['cleaned_text'] = df['post_body'].apply(clean_text)\n"
   ]
  },
  {
   "cell_type": "markdown",
   "metadata": {},
   "source": [
    "# Step 3: Exploratory Data Analysis (EDA)"
   ]
  },
  {
   "cell_type": "markdown",
   "metadata": {},
   "source": [
    "Exploratory Data Analysis (EDA) is a crucial step in understanding the underlying patterns, relationships, and characteristics of your dataset before applying machine learning models or making any conclusions."
   ]
  },
  {
   "cell_type": "markdown",
   "metadata": {},
   "source": [
    "Step 4: Exploratory Data Analysis (EDA)\n",
    "We’ll perform EDA to understand:\n",
    "\n",
    "Text length distributions\n",
    "Most common words and word clouds\n",
    "Relationships and patterns in post metadata\n",
    "Sentiment analysis distribution\n",
    "1. Text Length Analysis\n",
    "Understanding the length of text can provide insights into post structure and verbosity."
   ]
  },
  {
   "cell_type": "code",
   "execution_count": 37,
   "metadata": {},
   "outputs": [
    {
     "name": "stdout",
     "output_type": "stream",
     "text": [
      "Index(['title', 'post_body', 'comment_body', 'comment_score', 'post_url',\n",
      "       'created', 'subreddit', 'post_score', 'post_num_comments', 'author',\n",
      "       'comment_author', 'post_created', 'post_flair', 'upvote_ratio',\n",
      "       'over_18', 'is_self_post', 'author_premium', 'distinguished',\n",
      "       'all_awardings', 'num_crossposts', 'total_awards_received',\n",
      "       'post_thumbnail', 'link_flair_text', 'post_id', 'comment_id',\n",
      "       'author_flair_text', 'cleaned_text'],\n",
      "      dtype='object')\n"
     ]
    }
   ],
   "source": [
    "print(df.columns)"
   ]
  },
  {
   "cell_type": "code",
   "execution_count": 38,
   "metadata": {},
   "outputs": [
    {
     "name": "stderr",
     "output_type": "stream",
     "text": [
      "c:\\Users\\hp\\anaconda3\\Lib\\site-packages\\seaborn\\_oldcore.py:1119: FutureWarning: use_inf_as_na option is deprecated and will be removed in a future version. Convert inf values to NaN before operating instead.\n",
      "  with pd.option_context('mode.use_inf_as_na', True):\n"
     ]
    },
    {
     "data": {
      "image/png": "[encoded data removed]",
      "text/plain": [
       "<Figure size 1000x600 with 1 Axes>"
      ]
     },
     "metadata": {},
     "output_type": "display_data"
    }
   ],
   "source": [
    "# Analyzing the distribution of word count per post can give additional insight into how detailed users are in their posts.import matplotlib.pyplot as plt\n",
    "import seaborn as sns\n",
    "\n",
    "# Calculate word counts\n",
    "df['word_count'] = df['cleaned_text'].apply(lambda x: len(x.split()))\n",
    "\n",
    "# Plot word count distribution\n",
    "plt.figure(figsize=(10, 6))\n",
    "sns.histplot(df['word_count'], kde=True, color='green')\n",
    "plt.title('Distribution of Word Counts per Post')\n",
    "plt.xlabel('Word Count')\n",
    "plt.ylabel('Frequency')\n",
    "plt.show()\n"
   ]
  },
  {
   "cell_type": "markdown",
   "metadata": {},
   "source": [
    "2. Distribution of Alphabetic Characters"
   ]
  },
  {
   "cell_type": "markdown",
   "metadata": {},
   "source": [
    "Counting only alphabetic characters (i.e., excluding spaces and punctuation) to get a sense of the text's length without white space or symbols."
   ]
  },
  {
   "cell_type": "code",
   "execution_count": 39,
   "metadata": {},
   "outputs": [
    {
     "name": "stderr",
     "output_type": "stream",
     "text": [
      "c:\\Users\\hp\\anaconda3\\Lib\\site-packages\\seaborn\\_oldcore.py:1119: FutureWarning: use_inf_as_na option is deprecated and will be removed in a future version. Convert inf values to NaN before operating instead.\n",
      "  with pd.option_context('mode.use_inf_as_na', True):\n"
     ]
    },
    {
     "data": {
      "image/png": "[encoded data removed]",
      "text/plain": [
       "<Figure size 1000x600 with 1 Axes>"
      ]
     },
     "metadata": {},
     "output_type": "display_data"
    }
   ],
   "source": [
    "# Calculate alphabetic character count\n",
    "df['char_count'] = df['cleaned_text'].apply(lambda x: len(re.sub(r'[^a-zA-Z]', '', x)))\n",
    "\n",
    "# Plot character count distribution\n",
    "plt.figure(figsize=(10, 6))\n",
    "sns.histplot(df['char_count'], kde=True, color='orange')\n",
    "plt.title('Distribution of Alphabetic Character Counts')\n",
    "plt.xlabel('Character Count')\n",
    "plt.ylabel('Frequency')\n",
    "plt.show()\n"
   ]
  },
  {
   "cell_type": "markdown",
   "metadata": {},
   "source": [
    "3. Average Word Length\n"
   ]
  },
  {
   "cell_type": "markdown",
   "metadata": {},
   "source": [
    "Average word length can provide insight into vocabulary complexity. Posts with higher average word lengths may contain more sophisticated language."
   ]
  },
  {
   "cell_type": "code",
   "execution_count": 40,
   "metadata": {},
   "outputs": [
    {
     "name": "stderr",
     "output_type": "stream",
     "text": [
      "c:\\Users\\hp\\anaconda3\\Lib\\site-packages\\seaborn\\_oldcore.py:1119: FutureWarning: use_inf_as_na option is deprecated and will be removed in a future version. Convert inf values to NaN before operating instead.\n",
      "  with pd.option_context('mode.use_inf_as_na', True):\n"
     ]
    },
    {
     "data": {
      "image/png": "[encoded data removed]",
      "text/plain": [
       "<Figure size 1000x600 with 1 Axes>"
      ]
     },
     "metadata": {},
     "output_type": "display_data"
    }
   ],
   "source": [
    "# Calculate average word length\n",
    "df['avg_word_length'] = df['cleaned_text'].apply(lambda x: np.mean([len(word) for word in x.split()]))\n",
    "\n",
    "# Plot average word length distribution\n",
    "plt.figure(figsize=(10, 6))\n",
    "sns.histplot(df['avg_word_length'], kde=True, color='red')\n",
    "plt.title('Distribution of Average Word Lengths')\n",
    "plt.xlabel('Average Word Length')\n",
    "plt.ylabel('Frequency')\n",
    "plt.show()\n"
   ]
  },
  {
   "cell_type": "markdown",
   "metadata": {},
   "source": [
    "4. Most Common Bigrams and Trigrams\n",
    "\n"
   ]
  },
  {
   "cell_type": "markdown",
   "metadata": {},
   "source": [
    "Instead of single words, i am extract common phrases using bigrams and trigrams to capture popular expressions or terms."
   ]
  },
  {
   "cell_type": "code",
   "execution_count": 41,
   "metadata": {},
   "outputs": [
    {
     "name": "stderr",
     "output_type": "stream",
     "text": [
      "c:\\Users\\hp\\anaconda3\\Lib\\site-packages\\seaborn\\_oldcore.py:1765: FutureWarning: unique with argument that is not not a Series, Index, ExtensionArray, or np.ndarray is deprecated and will raise in a future version.\n",
      "  order = pd.unique(vector)\n",
      "c:\\Users\\hp\\anaconda3\\Lib\\site-packages\\seaborn\\_oldcore.py:1765: FutureWarning: unique with argument that is not not a Series, Index, ExtensionArray, or np.ndarray is deprecated and will raise in a future version.\n",
      "  order = pd.unique(vector)\n"
     ]
    },
    {
     "data": {
      "image/png": "[encoded data removed]",
      "text/plain": [
       "<Figure size 1500x600 with 2 Axes>"
      ]
     },
     "metadata": {},
     "output_type": "display_data"
    }
   ],
   "source": [
    "from sklearn.feature_extraction.text import CountVectorizer\n",
    "\n",
    "# Function to get top n-grams\n",
    "def get_top_ngrams(corpus, ngram_range=(2, 2), n=None):\n",
    "    vec = CountVectorizer(stop_words='english', ngram_range=ngram_range).fit(corpus)\n",
    "    bag_of_words = vec.transform(corpus)\n",
    "    sum_words = bag_of_words.sum(axis=0) \n",
    "    words_freq = [(word, sum_words[0, idx]) for word, idx in vec.vocabulary_.items()]\n",
    "    words_freq = sorted(words_freq, key = lambda x: x[1], reverse=True)\n",
    "    return words_freq[:n]\n",
    "\n",
    "# Get top bigrams\n",
    "top_bigrams = get_top_ngrams(df['cleaned_text'], ngram_range=(2, 2), n=10)\n",
    "\n",
    "# Get top trigrams\n",
    "top_trigrams = get_top_ngrams(df['cleaned_text'], ngram_range=(3, 3), n=10)\n",
    "\n",
    "# Plot top bigrams and trigrams\n",
    "fig, axes = plt.subplots(1, 2, figsize=(15, 6))\n",
    "sns.barplot(x=[freq for word, freq in top_bigrams], y=[word for word, freq in top_bigrams], ax=axes[0], color=\"blue\")\n",
    "axes[0].set_title('Top 10 Bigrams')\n",
    "sns.barplot(x=[freq for word, freq in top_trigrams], y=[word for word, freq in top_trigrams], ax=axes[1], color=\"purple\")\n",
    "axes[1].set_title('Top 10 Trigrams')\n",
    "plt.show()\n"
   ]
  },
  {
   "cell_type": "markdown",
   "metadata": {},
   "source": [
    "# Step 3: Topic Modeling (LDA)"
   ]
  },
  {
   "cell_type": "markdown",
   "metadata": {},
   "source": [
    "Step 1: Text Preprocessing and Feature Engineering\n",
    " We will implement:\n",
    "\n",
    "- Tokenization\n",
    "- Lemmatization\n",
    "- N-grams to capture phrases or multi-word expressions\n",
    "- TF-IDF Vectorization for feature extraction"
   ]
  },
  {
   "cell_type": "markdown",
   "metadata": {},
   "source": [
    "Enhanced Text Preprocessing"
   ]
  },
  {
   "cell_type": "code",
   "execution_count": 60,
   "metadata": {},
   "outputs": [
    {
     "name": "stdout",
     "output_type": "stream",
     "text": [
      "Index(['title', 'post_body', 'comment_body', 'comment_score', 'post_url',\n",
      "       'created', 'subreddit', 'post_score', 'post_num_comments', 'author',\n",
      "       'comment_author', 'post_created', 'post_flair', 'upvote_ratio',\n",
      "       'over_18', 'is_self_post', 'author_premium', 'distinguished',\n",
      "       'all_awardings', 'num_crossposts', 'total_awards_received',\n",
      "       'post_thumbnail', 'link_flair_text', 'post_id', 'comment_id',\n",
      "       'author_flair_text', 'cleaned_text', 'word_count', 'char_count',\n",
      "       'avg_word_length'],\n",
      "      dtype='object')\n"
     ]
    }
   ],
   "source": [
    "# Print the column names to identify the correct column\n",
    "print(df.columns)\n"
   ]
  },
  {
   "cell_type": "markdown",
   "metadata": {},
   "source": [
    "1. Preprocessing and Text Cleaning"
   ]
  },
  {
   "cell_type": "code",
   "execution_count": 61,
   "metadata": {},
   "outputs": [
    {
     "name": "stderr",
     "output_type": "stream",
     "text": [
      "[nltk_data] Downloading package punkt to\n",
      "[nltk_data]     C:\\Users\\hp\\AppData\\Roaming\\nltk_data...\n",
      "[nltk_data]   Package punkt is already up-to-date!\n",
      "[nltk_data] Downloading package wordnet to\n",
      "[nltk_data]     C:\\Users\\hp\\AppData\\Roaming\\nltk_data...\n",
      "[nltk_data]   Package wordnet is already up-to-date!\n",
      "[nltk_data] Downloading package stopwords to\n",
      "[nltk_data]     C:\\Users\\hp\\AppData\\Roaming\\nltk_data...\n",
      "[nltk_data]   Package stopwords is already up-to-date!\n"
     ]
    }
   ],
   "source": [
    "import pandas as pd\n",
    "import numpy as np\n",
    "import re\n",
    "import nltk\n",
    "from nltk.tokenize import word_tokenize\n",
    "from nltk.stem import WordNetLemmatizer\n",
    "from nltk.corpus import stopwords\n",
    "\n",
    "# Download necessary NLTK resources\n",
    "nltk.download('punkt')\n",
    "nltk.download('wordnet')\n",
    "nltk.download('stopwords')\n",
    "\n",
    "# Initialize lemmatizer and stopwords\n",
    "lemmatizer = WordNetLemmatizer()\n",
    "stop_words = set(stopwords.words('english'))\n",
    "\n",
    "# Function to clean and preprocess text\n",
    "def clean_text(text):\n",
    "    # Lowercasing\n",
    "    text = text.lower()\n",
    "\n",
    "    # Remove non-alphabetic characters (punctuation, numbers, etc.)\n",
    "    text = re.sub(r'[^a-zA-Z\\s]', '', text)\n",
    "\n",
    "    # Tokenize the text into words\n",
    "    tokens = word_tokenize(text)\n",
    "\n",
    "    # Remove stopwords and lemmatize the words\n",
    "    tokens = [lemmatizer.lemmatize(word) for word in tokens if word not in stop_words]\n",
    "\n",
    "    # Return cleaned text as a string\n",
    "    return ' '.join(tokens)\n",
    "\n",
    "# Apply text cleaning to the relevant columns\n",
    "df['cleaned_post_body'] = df['post_body'].apply(clean_text)\n",
    "df['cleaned_comment_body'] = df['comment_body'].apply(clean_text)\n",
    "\n",
    "# Combine both cleaned post and comment bodies (optional)\n",
    "df['combined_cleaned_text'] = df['cleaned_post_body'] + ' ' + df['cleaned_comment_body']\n"
   ]
  },
  {
   "cell_type": "markdown",
   "metadata": {},
   "source": [
    "2. Emotion and Sentiment Detection"
   ]
  },
  {
   "cell_type": "markdown",
   "metadata": {},
   "source": [
    "For sentiment analysis and emotion detection, I’ll use a pre-trained model from HuggingFace for detecting emotions (like hopelessness, guilt, etc.), going beyond simple positive/negative sentiment. For this, you can use models like distilbert-base-uncased or bert-base-uncased fine-tuned for sentiment analysis."
   ]
  },
  {
   "cell_type": "code",
   "execution_count": 64,
   "metadata": {},
   "outputs": [
    {
     "ename": "ModuleNotFoundError",
     "evalue": "No module named 'transformers'",
     "output_type": "error",
     "traceback": [
      "\u001b[1;31m---------------------------------------------------------------------------\u001b[0m",
      "\u001b[1;31mModuleNotFoundError\u001b[0m                       Traceback (most recent call last)",
      "Cell \u001b[1;32mIn[64], line 1\u001b[0m\n\u001b[1;32m----> 1\u001b[0m \u001b[38;5;28;01mfrom\u001b[39;00m \u001b[38;5;21;01mtransformers\u001b[39;00m \u001b[38;5;28;01mimport\u001b[39;00m pipeline\n\u001b[0;32m      3\u001b[0m \u001b[38;5;66;03m# Load a pre-trained sentiment analysis model\u001b[39;00m\n\u001b[0;32m      4\u001b[0m sentiment_analyzer \u001b[38;5;241m=\u001b[39m pipeline(\u001b[38;5;124m'\u001b[39m\u001b[38;5;124msentiment-analysis\u001b[39m\u001b[38;5;124m'\u001b[39m, model\u001b[38;5;241m=\u001b[39m\u001b[38;5;124m'\u001b[39m\u001b[38;5;124mdistilbert-base-uncased\u001b[39m\u001b[38;5;124m'\u001b[39m)\n",
      "\u001b[1;31mModuleNotFoundError\u001b[0m: No module named 'transformers'"
     ]
    }
   ],
   "source": [
    "from transformers import pipeline\n",
    "\n",
    "# Load a pre-trained sentiment analysis model\n",
    "sentiment_analyzer = pipeline('sentiment-analysis', model='distilbert-base-uncased')\n",
    "\n",
    "# Load a pre-trained emotion detection model\n",
    "emotion_analyzer = pipeline('text-classification', model=\"j-hartmann/emotion-english-distilroberta-base\")\n",
    "\n",
    "# Function to get sentiment\n",
    "def get_sentiment(text):\n",
    "    if not text or pd.isna(text):  # Handle empty or NaN values\n",
    "        return 'Neutral'  # or another default label\n",
    "    sentiment = sentiment_analyzer(text)\n",
    "    return sentiment[0]['label'] if sentiment else 'Neutral'\n",
    "\n",
    "# Function to get emotion\n",
    "def get_emotion(text):\n",
    "    if not text or pd.isna(text):  # Handle empty or NaN values\n",
    "        return 'No Emotion'  # or another default label\n",
    "    emotion = emotion_analyzer(text)\n",
    "    return emotion[0]['label'] if emotion else 'No Emotion'\n",
    "\n",
    "# Apply sentiment and emotion analysis\n",
    "df['post_sentiment'] = df['cleaned_post_body'].apply(get_sentiment)\n",
    "df['comment_sentiment'] = df['cleaned_comment_body'].apply(get_sentiment)\n",
    "df['post_emotion'] = df['cleaned_post_body'].apply(get_emotion)\n",
    "df['comment_emotion'] = df['cleaned_comment_body'].apply(get_emotion)\n",
    "\n",
    "# Display results\n",
    "print(df[['post_sentiment', 'comment_sentiment', 'post_emotion', 'comment_emotion']].head())\n"
   ]
  }
 ],
 "metadata": {
  "kernelspec": {
   "display_name": "base",
   "language": "python",
   "name": "python3"
  },
  "language_info": {
   "codemirror_mode": {
    "name": "ipython",
    "version": 3
   },
   "file_extension": ".py",
   "mimetype": "text/x-python",
   "name": "python",
   "nbconvert_exporter": "python",
   "pygments_lexer": "ipython3",
   "version": "3.11.7"
  }
 },
 "nbformat": 4,
 "nbformat_minor": 2
}
