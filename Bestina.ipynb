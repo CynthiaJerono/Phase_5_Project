{
 "cells": [
  {
   "cell_type": "markdown",
   "metadata": {},
   "source": [
    "Exploring Patterns in Mental Health Discourse \n",
    "\n",
    "Introduction\n",
    "\n",
    "With increasing awareness of mental health issues, more people are turning to online platforms to seek support, share experiences, and gain information. Reddit’s r/mentalhealth community provides a rich, real-time source of data on how people experience and discuss mental health challenges.\n",
    "Social media platforms like Reddit offer users a degree of anonymity, which can make them feel safer sharing sensitive or stigmatized issues.\n",
    "\n",
    "Understanding how people discuss their mental health can guide practitioners and organizations in designing more effective outreach materials, support systems, and public health interventions tailored to current needs and issues."
   ]
  },
  {
   "cell_type": "markdown",
   "metadata": {},
   "source": [
    "Problem statement\n",
    "\n",
    "Understanding the nature and dynamics of mental health discussions on Reddit's r/mentalhealth subreddit to identify prevalent mental health concerns, patterns of user engagement, and indicators of community support, with the goal of informing mental health support strategies and enhancing online community resources.\""
   ]
  },
  {
   "cell_type": "code",
   "execution_count": null,
   "metadata": {},
   "outputs": [],
   "source": [
    "objectives\n",
    "\n",
    "Analyze Sentiment and Emotional Tone: Use natural language processing (NLP) to detect the sentiment (positive, negative, neutral) and emotional tone (e.g., anger, sadness, hope) of posts and comments, offering insights into users' emotional states and the community’s overall atmosphere.\n",
    "\n",
    "Detect Peaks in Mental Health Conversations: Use timestamps to identify periods of high activity, such as specific times of day, days of the week, or months when mental health discussions peak, potentially tied to external events or seasonal changes.\n",
    "\n",
    "Identify Risk Indicators or Crisis Language: Use text analysis to detect potential crisis language or self-harm indicators, helping mental health professionals understand how at-risk users might express distress online.\n",
    "\n",
    "Understand Impact of User Demographics: Analyze metadata like account age or author premium status to see if user characteristics influence post topics, comment behavior, or engagement.\n",
    "\n",
    "Explore Support Networks and User Interaction: Identify patterns in how users support each other, such as common phrases in supportive comments, frequency of advice-giving, and presence of empathy in responses.\n"
   ]
  },
  {
   "cell_type": "markdown",
   "metadata": {},
   "source": [
    "Stakeholders of the data\n",
    "\n",
    "Mental Health Researchers and Psychologists: Interested in understanding patterns in mental health discussions, symptoms, or coping mechanisms shared by users. \n",
    "\n",
    "Mental Health Organizations and Nonprofits: These groups could leverage insights to shape awareness campaigns, identify support needs, or understand prevalent mental health issues within specific online communities.\n",
    "\n",
    "Social Media Analysts and Data Scientists: Professionals who focus on social media behavior or online discourse may be interested in the methods used and results from analyzing user-generated content around sensitive topics like mental health.\n",
    "\n",
    "Academic Institutions and Students: Academic institutions and students studying data science, psychology, or public health might find this research beneficial for educational purposes, providing real-world examples of how social data can be analyzed for mental health research.\n",
    "\n",
    "Public Health Policymakers: Insights into public mental health concerns and trends could inform policies, support services, or funding for mental health resources at a population level."
   ]
  },
  {
   "cell_type": "code",
   "execution_count": 3,
   "metadata": {},
   "outputs": [],
   "source": [
    "import pandas as pd\n",
    "import numpy as numpy \n",
    "import matplotlib.pyplot as plt\n",
    "import seaborn as sns\n",
    "import sklearn\n",
    "import scipy\n",
    "import statsmodels.api as sm\n",
    "import nltk\n",
    "import re\n",
    "from sklearn.preprocessing import OneHotEncoder\n",
    "from sklearn.feature_extraction.text import TfidfVectorizer\n",
    "from nltk.corpus import stopwords\n",
    "from nltk.stem import WordNetLemmatizer"
   ]
  },
  {
   "cell_type": "code",
   "execution_count": 4,
   "metadata": {},
   "outputs": [
    {
     "name": "stderr",
     "output_type": "stream",
     "text": [
      "c:\\anaconda\\envs\\learn-env\\lib\\site-packages\\IPython\\core\\interactiveshell.py:3145: DtypeWarning: Columns (3,5,8,12,15,16,17,18,20) have mixed types.Specify dtype option on import or set low_memory=False.\n",
      "  has_raised = await self.run_ast_nodes(code_ast.body, cell_name,\n"
     ]
    },
    {
     "data": {
      "text/html": [
       "<div>\n",
       "<style scoped>\n",
       "    .dataframe tbody tr th:only-of-type {\n",
       "        vertical-align: middle;\n",
       "    }\n",
       "\n",
       "    .dataframe tbody tr th {\n",
       "        vertical-align: top;\n",
       "    }\n",
       "\n",
       "    .dataframe thead th {\n",
       "        text-align: right;\n",
       "    }\n",
       "</style>\n",
       "<table border=\"1\" class=\"dataframe\">\n",
       "  <thead>\n",
       "    <tr style=\"text-align: right;\">\n",
       "      <th></th>\n",
       "      <th>title</th>\n",
       "      <th>post_body</th>\n",
       "      <th>comment_body</th>\n",
       "      <th>comment_score</th>\n",
       "      <th>post_url</th>\n",
       "      <th>created</th>\n",
       "      <th>subreddit</th>\n",
       "      <th>label</th>\n",
       "      <th>post_score</th>\n",
       "      <th>post_num_comments</th>\n",
       "      <th>...</th>\n",
       "      <th>author_premium</th>\n",
       "      <th>distinguished</th>\n",
       "      <th>all_awardings</th>\n",
       "      <th>num_crossposts</th>\n",
       "      <th>total_awards_received</th>\n",
       "      <th>post_thumbnail</th>\n",
       "      <th>link_flair_text</th>\n",
       "      <th>post_id</th>\n",
       "      <th>comment_id</th>\n",
       "      <th>author_flair_text</th>\n",
       "    </tr>\n",
       "  </thead>\n",
       "  <tbody>\n",
       "    <tr>\n",
       "      <th>0</th>\n",
       "      <td>I don't know what's wrong with me</td>\n",
       "      <td>I'm finding it really hard to keep myself toge...</td>\n",
       "      <td>Have you got a therapist on board? Sounds like...</td>\n",
       "      <td>2</td>\n",
       "      <td>https://www.reddit.com/r/mentalhealth/comments...</td>\n",
       "      <td>1730483837</td>\n",
       "      <td>mentalhealth</td>\n",
       "      <td>mental_health_issue</td>\n",
       "      <td>1</td>\n",
       "      <td>1.0</td>\n",
       "      <td>...</td>\n",
       "      <td>False</td>\n",
       "      <td>NaN</td>\n",
       "      <td>[]</td>\n",
       "      <td>0</td>\n",
       "      <td>0.0</td>\n",
       "      <td>self</td>\n",
       "      <td>Venting</td>\n",
       "      <td>1ghb2bs</td>\n",
       "      <td>luw5fgj</td>\n",
       "      <td>NaN</td>\n",
       "    </tr>\n",
       "    <tr>\n",
       "      <th>1</th>\n",
       "      <td>Friends who distance themselves from you or cu...</td>\n",
       "      <td>Please tell me if I sound entitled or selfish....</td>\n",
       "      <td>I think it’s a combination of factors, and I s...</td>\n",
       "      <td>2</td>\n",
       "      <td>https://www.reddit.com/r/mentalhealth/comments...</td>\n",
       "      <td>1730479911</td>\n",
       "      <td>mentalhealth</td>\n",
       "      <td>mental_health_issue</td>\n",
       "      <td>1</td>\n",
       "      <td>1.0</td>\n",
       "      <td>...</td>\n",
       "      <td>False</td>\n",
       "      <td>NaN</td>\n",
       "      <td>[]</td>\n",
       "      <td>0</td>\n",
       "      <td>0.0</td>\n",
       "      <td>self</td>\n",
       "      <td>Venting</td>\n",
       "      <td>1gh9prb</td>\n",
       "      <td>luvspbv</td>\n",
       "      <td>NaN</td>\n",
       "    </tr>\n",
       "    <tr>\n",
       "      <th>2</th>\n",
       "      <td>sometimes my brain just keeps telling me bad t...</td>\n",
       "      <td>Does anyone else ever get like this? Or have a...</td>\n",
       "      <td>When I have a panic attack, I tend to think th...</td>\n",
       "      <td>1</td>\n",
       "      <td>https://www.reddit.com/r/mentalhealth/comments...</td>\n",
       "      <td>1730486174</td>\n",
       "      <td>mentalhealth</td>\n",
       "      <td>mental_health_issue</td>\n",
       "      <td>2</td>\n",
       "      <td>2.0</td>\n",
       "      <td>...</td>\n",
       "      <td>False</td>\n",
       "      <td>NaN</td>\n",
       "      <td>[]</td>\n",
       "      <td>0</td>\n",
       "      <td>0.0</td>\n",
       "      <td>self</td>\n",
       "      <td>Venting</td>\n",
       "      <td>1gh98yg</td>\n",
       "      <td>luwcwu7</td>\n",
       "      <td>NaN</td>\n",
       "    </tr>\n",
       "    <tr>\n",
       "      <th>3</th>\n",
       "      <td>sometimes my brain just keeps telling me bad t...</td>\n",
       "      <td>Does anyone else ever get like this? Or have a...</td>\n",
       "      <td>Im wondering if it was simply a panic attack. ...</td>\n",
       "      <td>2</td>\n",
       "      <td>https://www.reddit.com/r/mentalhealth/comments...</td>\n",
       "      <td>1730486726</td>\n",
       "      <td>mentalhealth</td>\n",
       "      <td>mental_health_issue</td>\n",
       "      <td>2</td>\n",
       "      <td>2.0</td>\n",
       "      <td>...</td>\n",
       "      <td>False</td>\n",
       "      <td>NaN</td>\n",
       "      <td>[]</td>\n",
       "      <td>0</td>\n",
       "      <td>0.0</td>\n",
       "      <td>self</td>\n",
       "      <td>Venting</td>\n",
       "      <td>1gh98yg</td>\n",
       "      <td>luwep2n</td>\n",
       "      <td>NaN</td>\n",
       "    </tr>\n",
       "    <tr>\n",
       "      <th>4</th>\n",
       "      <td>Need objective support. I’m in over my head</td>\n",
       "      <td>I feel in over my head and I’m not sure what t...</td>\n",
       "      <td>Please consider seeing a psychologist. Good luck!</td>\n",
       "      <td>1</td>\n",
       "      <td>https://www.reddit.com/r/mentalhealth/comments...</td>\n",
       "      <td>1730476772</td>\n",
       "      <td>mentalhealth</td>\n",
       "      <td>mental_health_issue</td>\n",
       "      <td>1</td>\n",
       "      <td>4.0</td>\n",
       "      <td>...</td>\n",
       "      <td>False</td>\n",
       "      <td>NaN</td>\n",
       "      <td>[]</td>\n",
       "      <td>0</td>\n",
       "      <td>0.0</td>\n",
       "      <td>self</td>\n",
       "      <td>Need Support</td>\n",
       "      <td>1gh8q6w</td>\n",
       "      <td>luvir86</td>\n",
       "      <td>NaN</td>\n",
       "    </tr>\n",
       "  </tbody>\n",
       "</table>\n",
       "<p>5 rows × 27 columns</p>\n",
       "</div>"
      ],
      "text/plain": [
       "                                               title  \\\n",
       "0                  I don't know what's wrong with me   \n",
       "1  Friends who distance themselves from you or cu...   \n",
       "2  sometimes my brain just keeps telling me bad t...   \n",
       "3  sometimes my brain just keeps telling me bad t...   \n",
       "4        Need objective support. I’m in over my head   \n",
       "\n",
       "                                           post_body  \\\n",
       "0  I'm finding it really hard to keep myself toge...   \n",
       "1  Please tell me if I sound entitled or selfish....   \n",
       "2  Does anyone else ever get like this? Or have a...   \n",
       "3  Does anyone else ever get like this? Or have a...   \n",
       "4  I feel in over my head and I’m not sure what t...   \n",
       "\n",
       "                                        comment_body comment_score  \\\n",
       "0  Have you got a therapist on board? Sounds like...             2   \n",
       "1  I think it’s a combination of factors, and I s...             2   \n",
       "2  When I have a panic attack, I tend to think th...             1   \n",
       "3  Im wondering if it was simply a panic attack. ...             2   \n",
       "4  Please consider seeing a psychologist. Good luck!             1   \n",
       "\n",
       "                                            post_url     created  \\\n",
       "0  https://www.reddit.com/r/mentalhealth/comments...  1730483837   \n",
       "1  https://www.reddit.com/r/mentalhealth/comments...  1730479911   \n",
       "2  https://www.reddit.com/r/mentalhealth/comments...  1730486174   \n",
       "3  https://www.reddit.com/r/mentalhealth/comments...  1730486726   \n",
       "4  https://www.reddit.com/r/mentalhealth/comments...  1730476772   \n",
       "\n",
       "      subreddit                label post_score  post_num_comments  ...  \\\n",
       "0  mentalhealth  mental_health_issue          1                1.0  ...   \n",
       "1  mentalhealth  mental_health_issue          1                1.0  ...   \n",
       "2  mentalhealth  mental_health_issue          2                2.0  ...   \n",
       "3  mentalhealth  mental_health_issue          2                2.0  ...   \n",
       "4  mentalhealth  mental_health_issue          1                4.0  ...   \n",
       "\n",
       "  author_premium distinguished all_awardings num_crossposts  \\\n",
       "0          False           NaN            []              0   \n",
       "1          False           NaN            []              0   \n",
       "2          False           NaN            []              0   \n",
       "3          False           NaN            []              0   \n",
       "4          False           NaN            []              0   \n",
       "\n",
       "   total_awards_received post_thumbnail link_flair_text  post_id comment_id  \\\n",
       "0                    0.0           self         Venting  1ghb2bs    luw5fgj   \n",
       "1                    0.0           self         Venting  1gh9prb    luvspbv   \n",
       "2                    0.0           self         Venting  1gh98yg    luwcwu7   \n",
       "3                    0.0           self         Venting  1gh98yg    luwep2n   \n",
       "4                    0.0           self    Need Support  1gh8q6w    luvir86   \n",
       "\n",
       "  author_flair_text  \n",
       "0               NaN  \n",
       "1               NaN  \n",
       "2               NaN  \n",
       "3               NaN  \n",
       "4               NaN  \n",
       "\n",
       "[5 rows x 27 columns]"
      ]
     },
     "execution_count": 4,
     "metadata": {},
     "output_type": "execute_result"
    }
   ],
   "source": [
    "data = pd.read_csv(r'C:\\Users\\custohmer link\\Documents\\Flatiron\\MENTAL HEALTH PROJCT DATA\\Phase_5_Project\\broad_reddit_search_with_labels (1).csv')\n",
    "data.head()"
   ]
  },
  {
   "cell_type": "code",
   "execution_count": 5,
   "metadata": {},
   "outputs": [
    {
     "data": {
      "text/plain": [
       "(92419, 27)"
      ]
     },
     "execution_count": 5,
     "metadata": {},
     "output_type": "execute_result"
    }
   ],
   "source": [
    "data.shape"
   ]
  },
  {
   "cell_type": "code",
   "execution_count": 6,
   "metadata": {},
   "outputs": [
    {
     "name": "stdout",
     "output_type": "stream",
     "text": [
      "<class 'pandas.core.frame.DataFrame'>\n",
      "RangeIndex: 92419 entries, 0 to 92418\n",
      "Data columns (total 27 columns):\n",
      " #   Column                 Non-Null Count  Dtype  \n",
      "---  ------                 --------------  -----  \n",
      " 0   title                  92407 non-null  object \n",
      " 1   post_body              63739 non-null  object \n",
      " 2   comment_body           92401 non-null  object \n",
      " 3   comment_score          92401 non-null  object \n",
      " 4   post_url               92395 non-null  object \n",
      " 5   created                92395 non-null  object \n",
      " 6   subreddit              92395 non-null  object \n",
      " 7   label                  92395 non-null  object \n",
      " 8   post_score             92395 non-null  object \n",
      " 9   post_num_comments      92395 non-null  float64\n",
      " 10  author                 92395 non-null  object \n",
      " 11  comment_author         92395 non-null  object \n",
      " 12  post_created           92395 non-null  object \n",
      " 13  post_flair             35214 non-null  object \n",
      " 14  upvote_ratio           92392 non-null  float64\n",
      " 15  over_18                92395 non-null  object \n",
      " 16  is_self_post           92395 non-null  object \n",
      " 17  author_premium         92395 non-null  object \n",
      " 18  distinguished          3 non-null      object \n",
      " 19  all_awardings          92392 non-null  object \n",
      " 20  num_crossposts         92395 non-null  object \n",
      " 21  total_awards_received  92395 non-null  float64\n",
      " 22  post_thumbnail         92395 non-null  object \n",
      " 23  link_flair_text        35214 non-null  object \n",
      " 24  post_id                92392 non-null  object \n",
      " 25  comment_id             92395 non-null  object \n",
      " 26  author_flair_text      4518 non-null   object \n",
      "dtypes: float64(3), object(24)\n",
      "memory usage: 19.0+ MB\n"
     ]
    }
   ],
   "source": [
    "data.info()"
   ]
  },
  {
   "cell_type": "code",
   "execution_count": 7,
   "metadata": {},
   "outputs": [
    {
     "data": {
      "text/plain": [
       "Index(['title', 'post_body', 'comment_body', 'comment_score', 'post_url',\n",
       "       'created', 'subreddit', 'label', 'post_score', 'post_num_comments',\n",
       "       'author', 'comment_author', 'post_created', 'post_flair',\n",
       "       'upvote_ratio', 'over_18', 'is_self_post', 'author_premium',\n",
       "       'distinguished', 'all_awardings', 'num_crossposts',\n",
       "       'total_awards_received', 'post_thumbnail', 'link_flair_text', 'post_id',\n",
       "       'comment_id', 'author_flair_text'],\n",
       "      dtype='object')"
      ]
     },
     "execution_count": 7,
     "metadata": {},
     "output_type": "execute_result"
    }
   ],
   "source": [
    "data.columns"
   ]
  },
  {
   "cell_type": "markdown",
   "metadata": {},
   "source": [
    "Title breakdown\n",
    "title: The title of the Reddit post.\n",
    "\n",
    "post_body: The main text of the Reddit post.\n",
    "\n",
    "comment_body: Text of a comment on the post.\n",
    "comment_score: The score (upvotes - downvotes) of the comment.\n",
    "post_url: The URL to the Reddit post.\n",
    "created: The creation timestamp of the post.\n",
    "subreddit: The name of the subreddit where the post was made.\n",
    "label: A label or tag associated with the post (e.g., 'mental_health_issue').\n",
    "post_score: The score (upvotes - downvotes) of the post.\n",
    "post_num_comments: The number of comments on the post.\n",
    "author_premium: Indicates if the author has Reddit Premium.\n",
    "distinguished: Indicates if the post is distinguished (e.g., moderator or admin).\n",
    "all_awardings: Awards received by the post.\n",
    "num_crossposts: Number of times the post was crossposted.\n",
    "total_awards_received: Total awards received by the post.\n",
    "post_thumbnail: Thumbnail image associated with the post.\n",
    "link_flair_text: Text associated with the link flair (e.g., 'Venting').\n",
    "post_id: Unique identifier for the post.\n",
    "comment_id: Unique identifier for the comment.\n",
    "author_flair_text: Text associated with the author’s flair (if any)"
   ]
  },
  {
   "cell_type": "code",
   "execution_count": 8,
   "metadata": {},
   "outputs": [
    {
     "data": {
      "text/html": [
       "<div>\n",
       "<style scoped>\n",
       "    .dataframe tbody tr th:only-of-type {\n",
       "        vertical-align: middle;\n",
       "    }\n",
       "\n",
       "    .dataframe tbody tr th {\n",
       "        vertical-align: top;\n",
       "    }\n",
       "\n",
       "    .dataframe thead th {\n",
       "        text-align: right;\n",
       "    }\n",
       "</style>\n",
       "<table border=\"1\" class=\"dataframe\">\n",
       "  <thead>\n",
       "    <tr style=\"text-align: right;\">\n",
       "      <th></th>\n",
       "      <th>post_num_comments</th>\n",
       "      <th>upvote_ratio</th>\n",
       "      <th>total_awards_received</th>\n",
       "    </tr>\n",
       "  </thead>\n",
       "  <tbody>\n",
       "    <tr>\n",
       "      <th>count</th>\n",
       "      <td>92395.000000</td>\n",
       "      <td>92392.000000</td>\n",
       "      <td>92395.0</td>\n",
       "    </tr>\n",
       "    <tr>\n",
       "      <th>mean</th>\n",
       "      <td>294.855923</td>\n",
       "      <td>0.864616</td>\n",
       "      <td>0.0</td>\n",
       "    </tr>\n",
       "    <tr>\n",
       "      <th>std</th>\n",
       "      <td>399.616430</td>\n",
       "      <td>0.172152</td>\n",
       "      <td>0.0</td>\n",
       "    </tr>\n",
       "    <tr>\n",
       "      <th>min</th>\n",
       "      <td>1.000000</td>\n",
       "      <td>0.060000</td>\n",
       "      <td>0.0</td>\n",
       "    </tr>\n",
       "    <tr>\n",
       "      <th>25%</th>\n",
       "      <td>43.000000</td>\n",
       "      <td>0.840000</td>\n",
       "      <td>0.0</td>\n",
       "    </tr>\n",
       "    <tr>\n",
       "      <th>50%</th>\n",
       "      <td>139.000000</td>\n",
       "      <td>0.930000</td>\n",
       "      <td>0.0</td>\n",
       "    </tr>\n",
       "    <tr>\n",
       "      <th>75%</th>\n",
       "      <td>389.000000</td>\n",
       "      <td>0.970000</td>\n",
       "      <td>0.0</td>\n",
       "    </tr>\n",
       "    <tr>\n",
       "      <th>max</th>\n",
       "      <td>2523.000000</td>\n",
       "      <td>1.000000</td>\n",
       "      <td>0.0</td>\n",
       "    </tr>\n",
       "  </tbody>\n",
       "</table>\n",
       "</div>"
      ],
      "text/plain": [
       "       post_num_comments  upvote_ratio  total_awards_received\n",
       "count       92395.000000  92392.000000                92395.0\n",
       "mean          294.855923      0.864616                    0.0\n",
       "std           399.616430      0.172152                    0.0\n",
       "min             1.000000      0.060000                    0.0\n",
       "25%            43.000000      0.840000                    0.0\n",
       "50%           139.000000      0.930000                    0.0\n",
       "75%           389.000000      0.970000                    0.0\n",
       "max          2523.000000      1.000000                    0.0"
      ]
     },
     "execution_count": 8,
     "metadata": {},
     "output_type": "execute_result"
    }
   ],
   "source": [
    "data.describe()"
   ]
  },
  {
   "cell_type": "markdown",
   "metadata": {},
   "source": [
    "Dropping columns"
   ]
  },
  {
   "cell_type": "code",
   "execution_count": 9,
   "metadata": {},
   "outputs": [
    {
     "data": {
      "text/html": [
       "<div>\n",
       "<style scoped>\n",
       "    .dataframe tbody tr th:only-of-type {\n",
       "        vertical-align: middle;\n",
       "    }\n",
       "\n",
       "    .dataframe tbody tr th {\n",
       "        vertical-align: top;\n",
       "    }\n",
       "\n",
       "    .dataframe thead th {\n",
       "        text-align: right;\n",
       "    }\n",
       "</style>\n",
       "<table border=\"1\" class=\"dataframe\">\n",
       "  <thead>\n",
       "    <tr style=\"text-align: right;\">\n",
       "      <th></th>\n",
       "      <th>title</th>\n",
       "      <th>post_body</th>\n",
       "      <th>comment_body</th>\n",
       "      <th>comment_score</th>\n",
       "      <th>subreddit</th>\n",
       "      <th>label</th>\n",
       "      <th>post_score</th>\n",
       "      <th>post_num_comments</th>\n",
       "      <th>post_flair</th>\n",
       "      <th>upvote_ratio</th>\n",
       "      <th>over_18</th>\n",
       "      <th>num_crossposts</th>\n",
       "      <th>total_awards_received</th>\n",
       "    </tr>\n",
       "  </thead>\n",
       "  <tbody>\n",
       "    <tr>\n",
       "      <th>0</th>\n",
       "      <td>I don't know what's wrong with me</td>\n",
       "      <td>I'm finding it really hard to keep myself toge...</td>\n",
       "      <td>Have you got a therapist on board? Sounds like...</td>\n",
       "      <td>2</td>\n",
       "      <td>mentalhealth</td>\n",
       "      <td>mental_health_issue</td>\n",
       "      <td>1</td>\n",
       "      <td>1.0</td>\n",
       "      <td>Venting</td>\n",
       "      <td>1.0</td>\n",
       "      <td>False</td>\n",
       "      <td>0</td>\n",
       "      <td>0.0</td>\n",
       "    </tr>\n",
       "    <tr>\n",
       "      <th>1</th>\n",
       "      <td>Friends who distance themselves from you or cu...</td>\n",
       "      <td>Please tell me if I sound entitled or selfish....</td>\n",
       "      <td>I think it’s a combination of factors, and I s...</td>\n",
       "      <td>2</td>\n",
       "      <td>mentalhealth</td>\n",
       "      <td>mental_health_issue</td>\n",
       "      <td>1</td>\n",
       "      <td>1.0</td>\n",
       "      <td>Venting</td>\n",
       "      <td>1.0</td>\n",
       "      <td>False</td>\n",
       "      <td>0</td>\n",
       "      <td>0.0</td>\n",
       "    </tr>\n",
       "    <tr>\n",
       "      <th>2</th>\n",
       "      <td>sometimes my brain just keeps telling me bad t...</td>\n",
       "      <td>Does anyone else ever get like this? Or have a...</td>\n",
       "      <td>When I have a panic attack, I tend to think th...</td>\n",
       "      <td>1</td>\n",
       "      <td>mentalhealth</td>\n",
       "      <td>mental_health_issue</td>\n",
       "      <td>2</td>\n",
       "      <td>2.0</td>\n",
       "      <td>Venting</td>\n",
       "      <td>1.0</td>\n",
       "      <td>False</td>\n",
       "      <td>0</td>\n",
       "      <td>0.0</td>\n",
       "    </tr>\n",
       "    <tr>\n",
       "      <th>3</th>\n",
       "      <td>sometimes my brain just keeps telling me bad t...</td>\n",
       "      <td>Does anyone else ever get like this? Or have a...</td>\n",
       "      <td>Im wondering if it was simply a panic attack. ...</td>\n",
       "      <td>2</td>\n",
       "      <td>mentalhealth</td>\n",
       "      <td>mental_health_issue</td>\n",
       "      <td>2</td>\n",
       "      <td>2.0</td>\n",
       "      <td>Venting</td>\n",
       "      <td>1.0</td>\n",
       "      <td>False</td>\n",
       "      <td>0</td>\n",
       "      <td>0.0</td>\n",
       "    </tr>\n",
       "    <tr>\n",
       "      <th>4</th>\n",
       "      <td>Need objective support. I’m in over my head</td>\n",
       "      <td>I feel in over my head and I’m not sure what t...</td>\n",
       "      <td>Please consider seeing a psychologist. Good luck!</td>\n",
       "      <td>1</td>\n",
       "      <td>mentalhealth</td>\n",
       "      <td>mental_health_issue</td>\n",
       "      <td>1</td>\n",
       "      <td>4.0</td>\n",
       "      <td>Need Support</td>\n",
       "      <td>1.0</td>\n",
       "      <td>False</td>\n",
       "      <td>0</td>\n",
       "      <td>0.0</td>\n",
       "    </tr>\n",
       "  </tbody>\n",
       "</table>\n",
       "</div>"
      ],
      "text/plain": [
       "                                               title  \\\n",
       "0                  I don't know what's wrong with me   \n",
       "1  Friends who distance themselves from you or cu...   \n",
       "2  sometimes my brain just keeps telling me bad t...   \n",
       "3  sometimes my brain just keeps telling me bad t...   \n",
       "4        Need objective support. I’m in over my head   \n",
       "\n",
       "                                           post_body  \\\n",
       "0  I'm finding it really hard to keep myself toge...   \n",
       "1  Please tell me if I sound entitled or selfish....   \n",
       "2  Does anyone else ever get like this? Or have a...   \n",
       "3  Does anyone else ever get like this? Or have a...   \n",
       "4  I feel in over my head and I’m not sure what t...   \n",
       "\n",
       "                                        comment_body comment_score  \\\n",
       "0  Have you got a therapist on board? Sounds like...             2   \n",
       "1  I think it’s a combination of factors, and I s...             2   \n",
       "2  When I have a panic attack, I tend to think th...             1   \n",
       "3  Im wondering if it was simply a panic attack. ...             2   \n",
       "4  Please consider seeing a psychologist. Good luck!             1   \n",
       "\n",
       "      subreddit                label post_score  post_num_comments  \\\n",
       "0  mentalhealth  mental_health_issue          1                1.0   \n",
       "1  mentalhealth  mental_health_issue          1                1.0   \n",
       "2  mentalhealth  mental_health_issue          2                2.0   \n",
       "3  mentalhealth  mental_health_issue          2                2.0   \n",
       "4  mentalhealth  mental_health_issue          1                4.0   \n",
       "\n",
       "     post_flair  upvote_ratio over_18 num_crossposts  total_awards_received  \n",
       "0       Venting           1.0   False              0                    0.0  \n",
       "1       Venting           1.0   False              0                    0.0  \n",
       "2       Venting           1.0   False              0                    0.0  \n",
       "3       Venting           1.0   False              0                    0.0  \n",
       "4  Need Support           1.0   False              0                    0.0  "
      ]
     },
     "execution_count": 9,
     "metadata": {},
     "output_type": "execute_result"
    }
   ],
   "source": [
    "columns_to_drop = [\n",
    "    'post_url', 'post_thumbnail', 'distinguished', 'all_awardings', \n",
    "    'link_flair_text', 'author_flair_text', 'author_premium', 'is_self_post', \n",
    "    'created', 'post_created', 'post_id', 'comment_id', 'author', 'comment_author'\n",
    "]\n",
    "df = data.drop(columns=columns_to_drop)\n",
    "df.head()"
   ]
  },
  {
   "cell_type": "code",
   "execution_count": 11,
   "metadata": {},
   "outputs": [
    {
     "data": {
      "text/plain": [
       "Index(['title', 'post_body', 'comment_body', 'comment_score', 'subreddit',\n",
       "       'label', 'post_score', 'post_num_comments', 'post_flair',\n",
       "       'upvote_ratio', 'over_18', 'num_crossposts', 'total_awards_received'],\n",
       "      dtype='object')"
      ]
     },
     "execution_count": 11,
     "metadata": {},
     "output_type": "execute_result"
    }
   ],
   "source": [
    "df.columns"
   ]
  },
  {
   "cell_type": "code",
   "execution_count": 12,
   "metadata": {},
   "outputs": [
    {
     "data": {
      "text/plain": [
       "title                       12\n",
       "post_body                28680\n",
       "comment_body                18\n",
       "comment_score               18\n",
       "subreddit                   24\n",
       "label                       24\n",
       "post_score                  24\n",
       "post_num_comments           24\n",
       "post_flair               57205\n",
       "upvote_ratio                27\n",
       "over_18                     24\n",
       "num_crossposts              24\n",
       "total_awards_received       24\n",
       "dtype: int64"
      ]
     },
     "execution_count": 12,
     "metadata": {},
     "output_type": "execute_result"
    }
   ],
   "source": [
    "df.isnull().sum()"
   ]
  },
  {
   "cell_type": "code",
   "execution_count": 16,
   "metadata": {},
   "outputs": [],
   "source": [
    "df = df.drop(columns=['post_flair'], errors='ignore')"
   ]
  },
  {
   "cell_type": "code",
   "execution_count": 17,
   "metadata": {},
   "outputs": [],
   "source": [
    "df['post_body'].fillna(\"\", inplace=True)\n",
    "df['comment_body'].fillna(\"\", inplace=True)\n",
    "df['title'].fillna(\"No Title\", inplace=True)\n"
   ]
  },
  {
   "cell_type": "code",
   "execution_count": 18,
   "metadata": {},
   "outputs": [],
   "source": [
    "df['subreddit'].fillna(\"Unknown\", inplace=True)\n",
    "df['label'].fillna(\"Unknown\", inplace=True)\n",
    "df['over_18'].fillna(\"Unknown\", inplace=True)\n"
   ]
  },
  {
   "cell_type": "code",
   "execution_count": 20,
   "metadata": {},
   "outputs": [],
   "source": [
    "# Convert columns to numeric, setting non-numeric entries to NaN\n",
    "numeric_columns = ['comment_score', 'post_score', 'upvote_ratio', 'num_crossposts', 'total_awards_received', 'post_num_comments']\n",
    "for col in numeric_columns:\n",
    "    df[col] = pd.to_numeric(df[col], errors='coerce')\n",
    "\n",
    "# Now fill missing values with the median for each column\n",
    "for col in numeric_columns:\n",
    "    df[col].fillna(df[col].median(), inplace=True)\n"
   ]
  },
  {
   "cell_type": "code",
   "execution_count": 21,
   "metadata": {},
   "outputs": [
    {
     "data": {
      "text/plain": [
       "title                    0\n",
       "post_body                0\n",
       "comment_body             0\n",
       "comment_score            0\n",
       "subreddit                0\n",
       "label                    0\n",
       "post_score               0\n",
       "post_num_comments        0\n",
       "upvote_ratio             0\n",
       "over_18                  0\n",
       "num_crossposts           0\n",
       "total_awards_received    0\n",
       "dtype: int64"
      ]
     },
     "execution_count": 21,
     "metadata": {},
     "output_type": "execute_result"
    }
   ],
   "source": [
    "df.isnull().sum()"
   ]
  },
  {
   "cell_type": "code",
   "execution_count": 22,
   "metadata": {},
   "outputs": [
    {
     "name": "stdout",
     "output_type": "stream",
     "text": [
      "Number of duplicate rows: 2277\n"
     ]
    }
   ],
   "source": [
    "duplicate_count = df.duplicated().sum()\n",
    "print(f\"Number of duplicate rows: {duplicate_count}\")"
   ]
  },
  {
   "cell_type": "code",
   "execution_count": 23,
   "metadata": {},
   "outputs": [],
   "source": [
    "df.drop_duplicates(inplace=True)"
   ]
  },
  {
   "cell_type": "code",
   "execution_count": 24,
   "metadata": {},
   "outputs": [
    {
     "name": "stdout",
     "output_type": "stream",
     "text": [
      "Number of duplicate rows: 0\n"
     ]
    }
   ],
   "source": [
    "duplicate_count = df.duplicated().sum()\n",
    "print(f\"Number of duplicate rows: {duplicate_count}\")"
   ]
  },
  {
   "cell_type": "code",
   "execution_count": null,
   "metadata": {},
   "outputs": [],
   "source": []
  }
 ],
 "metadata": {
  "kernelspec": {
   "display_name": "learn-env",
   "language": "python",
   "name": "python3"
  },
  "language_info": {
   "codemirror_mode": {
    "name": "ipython",
    "version": 3
   },
   "file_extension": ".py",
   "mimetype": "text/x-python",
   "name": "python",
   "nbconvert_exporter": "python",
   "pygments_lexer": "ipython3",
   "version": "3.8.20"
  }
 },
 "nbformat": 4,
 "nbformat_minor": 2
}
