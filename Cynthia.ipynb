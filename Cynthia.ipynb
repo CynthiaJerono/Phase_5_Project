{
 "cells": [
  {
   "cell_type": "markdown",
   "metadata": {},
   "source": [
    "My plan;\n",
    "1. Introduction.\n",
    "2. Add Objectives\n",
    "3.List the Features of the Data set \n",
    "4. Data Understanding.\n",
    "5."
   ]
  },
  {
   "cell_type": "markdown",
   "metadata": {},
   "source": [
    "Data Understanding"
   ]
  },
  {
   "cell_type": "code",
   "execution_count": 1,
   "metadata": {},
   "outputs": [],
   "source": [
    "import pandas as pd\n",
    "import numpy as np\n",
    "import seaborn as sns\n",
    "import matplotlib.pyplot as plt\n",
    "%matplotlib inline\n",
    "from wordcloud import WordCloud\n",
    "#Ignore warnings\n",
    "import warnings\n",
    "warnings.filterwarnings('ignore')\n",
    "# Data Understanding\n",
    "# loading the dataset using the compression zip\n",
    "\n",
    "\n",
    "data = pd.read_csv('Data/broad_reddit_search_with_labels.csv')   # Dataset\n"
   ]
  },
  {
   "cell_type": "code",
   "execution_count": 2,
   "metadata": {},
   "outputs": [
    {
     "name": "stdout",
     "output_type": "stream",
     "text": [
      "neutral                50616\n",
      "happy                  34459\n",
      "mental_health_issue     7320\n",
      "Name: label, dtype: int64\n"
     ]
    }
   ],
   "source": [
    "class_counts = data['label'].value_counts()\n",
    "\n",
    "# Display the counts\n",
    "print(class_counts)"
   ]
  },
  {
   "cell_type": "code",
   "execution_count": 3,
   "metadata": {},
   "outputs": [
    {
     "data": {
      "text/plain": [
       "<Axes: >"
      ]
     },
     "execution_count": 3,
     "metadata": {},
     "output_type": "execute_result"
    },
    {
     "data": {
      "image/png": "[encoded data removed]",
      "text/plain": [
       "<Figure size 432x288 with 1 Axes>"
      ]
     },
     "metadata": {
      "needs_background": "light"
     },
     "output_type": "display_data"
    }
   ],
   "source": [
    "# Plot the results above on a bar graph \n",
    "data[\"label\"].value_counts().plot(kind=\"bar\", color=[\"salmon\", \"lightblue\"])"
   ]
  },
  {
   "cell_type": "code",
   "execution_count": 4,
   "metadata": {},
   "outputs": [
    {
     "name": "stdout",
     "output_type": "stream",
     "text": [
      "AskWomen              21266\n",
      "CasualConversation    17925\n",
      "MadeMeSmile           15766\n",
      "AskMen                12909\n",
      "GetMotivated           5659\n",
      "happy                  4915\n",
      "TrueOffMyChest         3699\n",
      "BipolarReddit          3077\n",
      "AskReddit              2936\n",
      "Anxiety                1261\n",
      "OffMyChest             1133\n",
      "mentalhealth            663\n",
      "SuicideWatch            608\n",
      "Depression              578\n",
      "Name: subreddit, dtype: int64\n"
     ]
    }
   ],
   "source": [
    "subreddit_counts = data['subreddit'].value_counts()\n",
    "print(subreddit_counts)\n"
   ]
  },
  {
   "cell_type": "code",
   "execution_count": 5,
   "metadata": {},
   "outputs": [
    {
     "data": {
      "text/plain": [
       "<Axes: >"
      ]
     },
     "execution_count": 5,
     "metadata": {},
     "output_type": "execute_result"
    },
    {
     "data": {
      "image/png": "[encoded data removed]",
      "text/plain": [
       "<Figure size 432x288 with 1 Axes>"
      ]
     },
     "metadata": {
      "needs_background": "light"
     },
     "output_type": "display_data"
    }
   ],
   "source": [
    "# Plot the results above on a bar graph \n",
    "data[\"subreddit\"].value_counts().plot(kind=\"bar\", color=[\"salmon\", \"lightblue\"])"
   ]
  },
  {
   "cell_type": "markdown",
   "metadata": {},
   "source": [
    "Count by Label and Subreddit:\n",
    "\n",
    "Purpose: The first code helps you count how many times each label appears in each subreddit.\n",
    "Outcome: A bar graph that displays the count of each label per subreddit, where each subreddit is represented by a different color."
   ]
  },
  {
   "cell_type": "code",
   "execution_count": 6,
   "metadata": {},
   "outputs": [
    {
     "name": "stdout",
     "output_type": "stream",
     "text": [
      "label                subreddit         \n",
      "happy                CasualConversation     8119\n",
      "                     GetMotivated           5659\n",
      "                     MadeMeSmile           15766\n",
      "                     happy                  4915\n",
      "mental_health_issue  Anxiety                1261\n",
      "                     BipolarReddit          3077\n",
      "                     Depression              578\n",
      "                     OffMyChest             1133\n",
      "                     SuicideWatch            608\n",
      "                     mentalhealth            663\n",
      "neutral              AskMen                12909\n",
      "                     AskReddit              2936\n",
      "                     AskWomen              21266\n",
      "                     CasualConversation     9806\n",
      "                     TrueOffMyChest         3699\n",
      "dtype: int64\n"
     ]
    }
   ],
   "source": [
    "label_subreddit_counts = data.groupby(['label', 'subreddit']).size()\n",
    "print(label_subreddit_counts)\n"
   ]
  },
  {
   "cell_type": "code",
   "execution_count": 7,
   "metadata": {},
   "outputs": [
    {
     "data": {
      "image/png": "[encoded data removed]",
      "text/plain": [
       "<Figure size 864x432 with 1 Axes>"
      ]
     },
     "metadata": {
      "needs_background": "light"
     },
     "output_type": "display_data"
    }
   ],
   "source": [
    "# Plot the results in a bar chart with separate colors for each label\n",
    "label_subreddit_counts.plot(kind=\"bar\", color=[\"salmon\", \"lightblue\"], figsize=(12, 6))\n",
    "\n",
    "# Set plot title and labels\n",
    "plt.title(\"Counts of Each Label by Subreddit\")\n",
    "plt.xlabel(\"Label\")\n",
    "plt.ylabel(\"Count\")\n",
    "plt.legend(title=\"Subreddit\")\n",
    "plt.xticks(rotation=45)\n",
    "plt.show()"
   ]
  },
  {
   "cell_type": "markdown",
   "metadata": {},
   "source": [
    "Count of High-Score Posts:\n",
    "\n",
    "Purpose: The second code snippet attempts to count how many \"mental_health_issue\" posts have a post_score greater than 10, and plot this count as a bar graph.\n",
    "Outcome: A single-bar graph that shows how many \"mental_health_issue\" posts have a post_score greater than 10."
   ]
  },
  {
   "cell_type": "code",
   "execution_count": 8,
   "metadata": {},
   "outputs": [
    {
     "name": "stdout",
     "output_type": "stream",
     "text": [
      "Count of mental_health_issue posts with post_score > 10: 4125\n"
     ]
    }
   ],
   "source": [
    "high_score_counts = data[(data['label'] == 'mental_health_issue') & (data['post_score'] > 10)].shape[0]\n",
    "print(f\"Count of mental_health_issue posts with post_score > 10: {high_score_counts}\")\n"
   ]
  },
  {
   "cell_type": "code",
   "execution_count": 9,
   "metadata": {},
   "outputs": [
    {
     "data": {
      "image/png": "[encoded data removed]",
      "text/plain": [
       "<Figure size 432x288 with 1 Axes>"
      ]
     },
     "metadata": {
      "needs_background": "light"
     },
     "output_type": "display_data"
    }
   ],
   "source": [
    "# Alternative bar plot\n",
    "plt.barh(['mental_health_issue (post_score > 10)'], [high_score_counts], color='skyblue')\n",
    "plt.title(\"Count of 'mental_health_issue' Posts with Post Score > 10\")\n",
    "plt.xlabel(\"Count\")\n",
    "plt.ylabel(\"Label and Score Condition\")\n",
    "plt.show()\n"
   ]
  },
  {
   "cell_type": "code",
   "execution_count": 10,
   "metadata": {},
   "outputs": [
    {
     "name": "stdout",
     "output_type": "stream",
     "text": [
      "int64\n",
      "                         title  \\\n",
      "30  i hate being small chested   \n",
      "31  i hate being small chested   \n",
      "32  i hate being small chested   \n",
      "33  i hate being small chested   \n",
      "34  i hate being small chested   \n",
      "\n",
      "                                            post_body  \\\n",
      "30  This shouldn’t be having such a bad impact on ...   \n",
      "31  This shouldn’t be having such a bad impact on ...   \n",
      "32  This shouldn’t be having such a bad impact on ...   \n",
      "33  This shouldn’t be having such a bad impact on ...   \n",
      "34  This shouldn’t be having such a bad impact on ...   \n",
      "\n",
      "                                         comment_body  comment_score  \\\n",
      "30  You’re only 16 years old, your body isn’t done...             19   \n",
      "31  Idk if this will help you feel better or not, ...             39   \n",
      "32  Silver lining. Less back problems in your future.             88   \n",
      "33  Do you have a mom, female family or friend you...             12   \n",
      "34                        I’m 24 and they never came😭             12   \n",
      "\n",
      "                                             post_url       created  \\\n",
      "30  https://www.reddit.com/r/mentalhealth/comments...  1.730430e+09   \n",
      "31  https://www.reddit.com/r/mentalhealth/comments...  1.730428e+09   \n",
      "32  https://www.reddit.com/r/mentalhealth/comments...  1.730430e+09   \n",
      "33  https://www.reddit.com/r/mentalhealth/comments...  1.730427e+09   \n",
      "34  https://www.reddit.com/r/mentalhealth/comments...  1.730440e+09   \n",
      "\n",
      "       subreddit                label  post_score  post_num_comments  ...  \\\n",
      "30  mentalhealth  mental_health_issue          58                101  ...   \n",
      "31  mentalhealth  mental_health_issue          58                101  ...   \n",
      "32  mentalhealth  mental_health_issue          58                101  ...   \n",
      "33  mentalhealth  mental_health_issue          58                101  ...   \n",
      "34  mentalhealth  mental_health_issue          58                101  ...   \n",
      "\n",
      "   author_premium distinguished  all_awardings num_crossposts  \\\n",
      "30          False           NaN             []              0   \n",
      "31          False           NaN             []              0   \n",
      "32          False           NaN             []              0   \n",
      "33          False           NaN             []              0   \n",
      "34          False           NaN             []              0   \n",
      "\n",
      "    total_awards_received  post_thumbnail  link_flair_text  post_id  \\\n",
      "30                      0            self          Venting  1ggv4mx   \n",
      "31                      0            self          Venting  1ggv4mx   \n",
      "32                      0            self          Venting  1ggv4mx   \n",
      "33                      0            self          Venting  1ggv4mx   \n",
      "34                      0            self          Venting  1ggv4mx   \n",
      "\n",
      "    comment_id author_flair_text  \n",
      "30     lusv5cr               NaN  \n",
      "31     lusr9vm               NaN  \n",
      "32     lusvhjo               NaN  \n",
      "33     luspudj               NaN  \n",
      "34     lutey0l               NaN  \n",
      "\n",
      "[5 rows x 27 columns]\n",
      "Count of mental_health_issue posts with post_score > 10: 4125\n"
     ]
    }
   ],
   "source": [
    "# Check the data type of 'post_score'\n",
    "print(data['post_score'].dtype)\n",
    "\n",
    "# Check if there are any 'mental_health_issue' posts with 'post_score' > 10\n",
    "filtered_data = data[(data['label'] == 'mental_health_issue') & (data['post_score'] > 10)]\n",
    "print(filtered_data.head())  # Display first few rows to verify\n",
    "\n",
    "# If 'post_score' is not numeric, convert it\n",
    "if data['post_score'].dtype == 'object':\n",
    "    data['post_score'] = pd.to_numeric(data['post_score'], errors='coerce')\n",
    "\n",
    "# Re-run the high score count\n",
    "high_score_counts = data[(data['label'] == 'mental_health_issue') & (data['post_score'] > 10)].shape[0]\n",
    "print(f\"Count of mental_health_issue posts with post_score > 10: {high_score_counts}\")\n"
   ]
  },
  {
   "cell_type": "code",
   "execution_count": 11,
   "metadata": {},
   "outputs": [
    {
     "name": "stdout",
     "output_type": "stream",
     "text": [
      "label\n",
      "happy                  10\n",
      "mental_health_issue     9\n",
      "neutral                18\n",
      "Name: author_flair_text, dtype: int64\n"
     ]
    }
   ],
   "source": [
    "unique_authors_per_label = data.groupby('label')['author_flair_text'].nunique()\n",
    "print(unique_authors_per_label)\n"
   ]
  },
  {
   "cell_type": "code",
   "execution_count": 12,
   "metadata": {},
   "outputs": [
    {
     "data": {
      "image/png": "[encoded data removed]",
      "text/plain": [
       "<Figure size 864x432 with 1 Axes>"
      ]
     },
     "metadata": {
      "needs_background": "light"
     },
     "output_type": "display_data"
    }
   ],
   "source": [
    "# Plot the results in a bar chart with separate colors for each label\n",
    "unique_authors_per_label.plot(kind=\"bar\", color=[\"salmon\", \"lightblue\"], figsize=(12, 6))\n",
    "\n",
    "# Set plot title and labels\n",
    "plt.title(\"unique values in a subset:\")\n",
    "plt.xlabel(\"Label\")\n",
    "plt.ylabel(\"Count\")\n",
    "plt.legend(title=\"author_flair_text\")\n",
    "plt.xticks(rotation=45)\n",
    "plt.show()"
   ]
  },
  {
   "cell_type": "code",
   "execution_count": 13,
   "metadata": {},
   "outputs": [
    {
     "data": {
      "image/png": "[encoded data removed]",
      "text/plain": [
       "<Figure size 1008x720 with 6 Axes>"
      ]
     },
     "metadata": {
      "needs_background": "light"
     },
     "output_type": "display_data"
    }
   ],
   "source": [
    "\n",
    "\n",
    "# Define numerical columns to visualize\n",
    "numerical_features = [\n",
    "    'comment_score', 'post_score', 'post_num_comments', \n",
    "    'upvote_ratio', 'num_crossposts', 'total_awards_received'\n",
    "]\n",
    "\n",
    "# Set up the matplotlib figure\n",
    "plt.figure(figsize=(14, 10))\n",
    "\n",
    "# Plot distributions for each numerical feature\n",
    "for i, feature in enumerate(numerical_features, 1):\n",
    "    plt.subplot(3, 2, i)  # Adjusted for 6 features (3 rows, 2 columns)\n",
    "    sns.histplot(data[feature], kde=True, bins=30, color='skyblue')\n",
    "    plt.title(f'Distribution of {feature}')\n",
    "    plt.xlabel(feature)\n",
    "    plt.ylabel('Frequency')\n",
    "\n",
    "plt.tight_layout()\n",
    "plt.show()\n"
   ]
  },
  {
   "cell_type": "code",
   "execution_count": 14,
   "metadata": {},
   "outputs": [
    {
     "data": {
      "text/html": [
       "<div>\n",
       "<style scoped>\n",
       "    .dataframe tbody tr th:only-of-type {\n",
       "        vertical-align: middle;\n",
       "    }\n",
       "\n",
       "    .dataframe tbody tr th {\n",
       "        vertical-align: top;\n",
       "    }\n",
       "\n",
       "    .dataframe thead th {\n",
       "        text-align: right;\n",
       "    }\n",
       "</style>\n",
       "<table border=\"1\" class=\"dataframe\">\n",
       "  <thead>\n",
       "    <tr style=\"text-align: right;\">\n",
       "      <th></th>\n",
       "      <th>title</th>\n",
       "      <th>post_body</th>\n",
       "      <th>comment_body</th>\n",
       "      <th>comment_score</th>\n",
       "      <th>post_url</th>\n",
       "      <th>created</th>\n",
       "      <th>subreddit</th>\n",
       "      <th>label</th>\n",
       "      <th>post_score</th>\n",
       "      <th>post_num_comments</th>\n",
       "      <th>...</th>\n",
       "      <th>author_premium</th>\n",
       "      <th>distinguished</th>\n",
       "      <th>all_awardings</th>\n",
       "      <th>num_crossposts</th>\n",
       "      <th>total_awards_received</th>\n",
       "      <th>post_thumbnail</th>\n",
       "      <th>link_flair_text</th>\n",
       "      <th>post_id</th>\n",
       "      <th>comment_id</th>\n",
       "      <th>author_flair_text</th>\n",
       "    </tr>\n",
       "  </thead>\n",
       "  <tbody>\n",
       "    <tr>\n",
       "      <th>0</th>\n",
       "      <td>I don't know what's wrong with me</td>\n",
       "      <td>I'm finding it really hard to keep myself toge...</td>\n",
       "      <td>Have you got a therapist on board? Sounds like...</td>\n",
       "      <td>2</td>\n",
       "      <td>https://www.reddit.com/r/mentalhealth/comments...</td>\n",
       "      <td>1.730484e+09</td>\n",
       "      <td>mentalhealth</td>\n",
       "      <td>mental_health_issue</td>\n",
       "      <td>1</td>\n",
       "      <td>1</td>\n",
       "      <td>...</td>\n",
       "      <td>False</td>\n",
       "      <td>NaN</td>\n",
       "      <td>[]</td>\n",
       "      <td>0</td>\n",
       "      <td>0</td>\n",
       "      <td>self</td>\n",
       "      <td>Venting</td>\n",
       "      <td>1ghb2bs</td>\n",
       "      <td>luw5fgj</td>\n",
       "      <td>NaN</td>\n",
       "    </tr>\n",
       "    <tr>\n",
       "      <th>1</th>\n",
       "      <td>Friends who distance themselves from you or cu...</td>\n",
       "      <td>Please tell me if I sound entitled or selfish....</td>\n",
       "      <td>I think it’s a combination of factors, and I s...</td>\n",
       "      <td>2</td>\n",
       "      <td>https://www.reddit.com/r/mentalhealth/comments...</td>\n",
       "      <td>1.730480e+09</td>\n",
       "      <td>mentalhealth</td>\n",
       "      <td>mental_health_issue</td>\n",
       "      <td>1</td>\n",
       "      <td>1</td>\n",
       "      <td>...</td>\n",
       "      <td>False</td>\n",
       "      <td>NaN</td>\n",
       "      <td>[]</td>\n",
       "      <td>0</td>\n",
       "      <td>0</td>\n",
       "      <td>self</td>\n",
       "      <td>Venting</td>\n",
       "      <td>1gh9prb</td>\n",
       "      <td>luvspbv</td>\n",
       "      <td>NaN</td>\n",
       "    </tr>\n",
       "    <tr>\n",
       "      <th>2</th>\n",
       "      <td>sometimes my brain just keeps telling me bad t...</td>\n",
       "      <td>Does anyone else ever get like this? Or have a...</td>\n",
       "      <td>When I have a panic attack, I tend to think th...</td>\n",
       "      <td>1</td>\n",
       "      <td>https://www.reddit.com/r/mentalhealth/comments...</td>\n",
       "      <td>1.730486e+09</td>\n",
       "      <td>mentalhealth</td>\n",
       "      <td>mental_health_issue</td>\n",
       "      <td>2</td>\n",
       "      <td>2</td>\n",
       "      <td>...</td>\n",
       "      <td>False</td>\n",
       "      <td>NaN</td>\n",
       "      <td>[]</td>\n",
       "      <td>0</td>\n",
       "      <td>0</td>\n",
       "      <td>self</td>\n",
       "      <td>Venting</td>\n",
       "      <td>1gh98yg</td>\n",
       "      <td>luwcwu7</td>\n",
       "      <td>NaN</td>\n",
       "    </tr>\n",
       "    <tr>\n",
       "      <th>3</th>\n",
       "      <td>sometimes my brain just keeps telling me bad t...</td>\n",
       "      <td>Does anyone else ever get like this? Or have a...</td>\n",
       "      <td>Im wondering if it was simply a panic attack. ...</td>\n",
       "      <td>2</td>\n",
       "      <td>https://www.reddit.com/r/mentalhealth/comments...</td>\n",
       "      <td>1.730487e+09</td>\n",
       "      <td>mentalhealth</td>\n",
       "      <td>mental_health_issue</td>\n",
       "      <td>2</td>\n",
       "      <td>2</td>\n",
       "      <td>...</td>\n",
       "      <td>False</td>\n",
       "      <td>NaN</td>\n",
       "      <td>[]</td>\n",
       "      <td>0</td>\n",
       "      <td>0</td>\n",
       "      <td>self</td>\n",
       "      <td>Venting</td>\n",
       "      <td>1gh98yg</td>\n",
       "      <td>luwep2n</td>\n",
       "      <td>NaN</td>\n",
       "    </tr>\n",
       "    <tr>\n",
       "      <th>4</th>\n",
       "      <td>Need objective support. I’m in over my head</td>\n",
       "      <td>I feel in over my head and I’m not sure what t...</td>\n",
       "      <td>Please consider seeing a psychologist. Good luck!</td>\n",
       "      <td>1</td>\n",
       "      <td>https://www.reddit.com/r/mentalhealth/comments...</td>\n",
       "      <td>1.730477e+09</td>\n",
       "      <td>mentalhealth</td>\n",
       "      <td>mental_health_issue</td>\n",
       "      <td>1</td>\n",
       "      <td>4</td>\n",
       "      <td>...</td>\n",
       "      <td>False</td>\n",
       "      <td>NaN</td>\n",
       "      <td>[]</td>\n",
       "      <td>0</td>\n",
       "      <td>0</td>\n",
       "      <td>self</td>\n",
       "      <td>Need Support</td>\n",
       "      <td>1gh8q6w</td>\n",
       "      <td>luvir86</td>\n",
       "      <td>NaN</td>\n",
       "    </tr>\n",
       "  </tbody>\n",
       "</table>\n",
       "<p>5 rows × 27 columns</p>\n",
       "</div>"
      ],
      "text/plain": [
       "                                               title  \\\n",
       "0                  I don't know what's wrong with me   \n",
       "1  Friends who distance themselves from you or cu...   \n",
       "2  sometimes my brain just keeps telling me bad t...   \n",
       "3  sometimes my brain just keeps telling me bad t...   \n",
       "4        Need objective support. I’m in over my head   \n",
       "\n",
       "                                           post_body  \\\n",
       "0  I'm finding it really hard to keep myself toge...   \n",
       "1  Please tell me if I sound entitled or selfish....   \n",
       "2  Does anyone else ever get like this? Or have a...   \n",
       "3  Does anyone else ever get like this? Or have a...   \n",
       "4  I feel in over my head and I’m not sure what t...   \n",
       "\n",
       "                                        comment_body  comment_score  \\\n",
       "0  Have you got a therapist on board? Sounds like...              2   \n",
       "1  I think it’s a combination of factors, and I s...              2   \n",
       "2  When I have a panic attack, I tend to think th...              1   \n",
       "3  Im wondering if it was simply a panic attack. ...              2   \n",
       "4  Please consider seeing a psychologist. Good luck!              1   \n",
       "\n",
       "                                            post_url       created  \\\n",
       "0  https://www.reddit.com/r/mentalhealth/comments...  1.730484e+09   \n",
       "1  https://www.reddit.com/r/mentalhealth/comments...  1.730480e+09   \n",
       "2  https://www.reddit.com/r/mentalhealth/comments...  1.730486e+09   \n",
       "3  https://www.reddit.com/r/mentalhealth/comments...  1.730487e+09   \n",
       "4  https://www.reddit.com/r/mentalhealth/comments...  1.730477e+09   \n",
       "\n",
       "      subreddit                label  post_score  post_num_comments  ...  \\\n",
       "0  mentalhealth  mental_health_issue           1                  1  ...   \n",
       "1  mentalhealth  mental_health_issue           1                  1  ...   \n",
       "2  mentalhealth  mental_health_issue           2                  2  ...   \n",
       "3  mentalhealth  mental_health_issue           2                  2  ...   \n",
       "4  mentalhealth  mental_health_issue           1                  4  ...   \n",
       "\n",
       "  author_premium distinguished  all_awardings num_crossposts  \\\n",
       "0          False           NaN             []              0   \n",
       "1          False           NaN             []              0   \n",
       "2          False           NaN             []              0   \n",
       "3          False           NaN             []              0   \n",
       "4          False           NaN             []              0   \n",
       "\n",
       "   total_awards_received  post_thumbnail  link_flair_text  post_id  \\\n",
       "0                      0            self          Venting  1ghb2bs   \n",
       "1                      0            self          Venting  1gh9prb   \n",
       "2                      0            self          Venting  1gh98yg   \n",
       "3                      0            self          Venting  1gh98yg   \n",
       "4                      0            self     Need Support  1gh8q6w   \n",
       "\n",
       "   comment_id author_flair_text  \n",
       "0     luw5fgj               NaN  \n",
       "1     luvspbv               NaN  \n",
       "2     luwcwu7               NaN  \n",
       "3     luwep2n               NaN  \n",
       "4     luvir86               NaN  \n",
       "\n",
       "[5 rows x 27 columns]"
      ]
     },
     "execution_count": 14,
     "metadata": {},
     "output_type": "execute_result"
    }
   ],
   "source": [
    "# display the first 5 rows of the labels\n",
    "data.head()\n"
   ]
  },
  {
   "cell_type": "code",
   "execution_count": 15,
   "metadata": {},
   "outputs": [
    {
     "name": "stdout",
     "output_type": "stream",
     "text": [
      "Index(['title', 'post_body', 'comment_body', 'comment_score', 'post_url',\n",
      "       'created', 'subreddit', 'label', 'post_score', 'post_num_comments',\n",
      "       'author', 'comment_author', 'post_created', 'post_flair',\n",
      "       'upvote_ratio', 'over_18', 'is_self_post', 'author_premium',\n",
      "       'distinguished', 'all_awardings', 'num_crossposts',\n",
      "       'total_awards_received', 'post_thumbnail', 'link_flair_text', 'post_id',\n",
      "       'comment_id', 'author_flair_text'],\n",
      "      dtype='object')\n"
     ]
    }
   ],
   "source": [
    "print(data.columns)\n"
   ]
  },
  {
   "cell_type": "code",
   "execution_count": 16,
   "metadata": {},
   "outputs": [
    {
     "name": "stdout",
     "output_type": "stream",
     "text": [
      "['title', 'post_body', 'comment_body', 'comment_score', 'post_url', 'created', 'subreddit', 'label', 'post_score', 'post_num_comments', 'author', 'comment_author', 'post_created', 'post_flair', 'upvote_ratio', 'over_18', 'is_self_post', 'author_premium', 'distinguished', 'all_awardings', 'num_crossposts', 'total_awards_received', 'post_thumbnail', 'link_flair_text', 'post_id', 'comment_id', 'author_flair_text']\n",
      "title                     object\n",
      "post_body                 object\n",
      "comment_body              object\n",
      "comment_score              int64\n",
      "post_url                  object\n",
      "created                  float64\n",
      "subreddit                 object\n",
      "label                     object\n",
      "post_score                 int64\n",
      "post_num_comments          int64\n",
      "author                    object\n",
      "comment_author            object\n",
      "post_created             float64\n",
      "post_flair                object\n",
      "upvote_ratio             float64\n",
      "over_18                     bool\n",
      "is_self_post                bool\n",
      "author_premium              bool\n",
      "distinguished            float64\n",
      "all_awardings             object\n",
      "num_crossposts             int64\n",
      "total_awards_received      int64\n",
      "post_thumbnail            object\n",
      "link_flair_text           object\n",
      "post_id                   object\n",
      "comment_id                object\n",
      "author_flair_text         object\n",
      "dtype: object\n"
     ]
    }
   ],
   "source": [
    "# Check for exact column names\n",
    "print(data.columns.tolist())\n",
    "\n",
    "\n",
    "# Check data types\n",
    "print(data.dtypes)\n"
   ]
  },
  {
   "cell_type": "code",
   "execution_count": 17,
   "metadata": {},
   "outputs": [
    {
     "name": "stdout",
     "output_type": "stream",
     "text": [
      "89507\n",
      "                                               title  \\\n",
      "0                  I don't know what's wrong with me   \n",
      "1  Friends who distance themselves from you or cu...   \n",
      "2  sometimes my brain just keeps telling me bad t...   \n",
      "3  sometimes my brain just keeps telling me bad t...   \n",
      "4        Need objective support. I’m in over my head   \n",
      "\n",
      "                                           post_body  \\\n",
      "0  I'm finding it really hard to keep myself toge...   \n",
      "1  Please tell me if I sound entitled or selfish....   \n",
      "2  Does anyone else ever get like this? Or have a...   \n",
      "3  Does anyone else ever get like this? Or have a...   \n",
      "4  I feel in over my head and I’m not sure what t...   \n",
      "\n",
      "                                        comment_body  comment_score  \\\n",
      "0  Have you got a therapist on board? Sounds like...              2   \n",
      "1  I think it’s a combination of factors, and I s...              2   \n",
      "2  When I have a panic attack, I tend to think th...              1   \n",
      "3  Im wondering if it was simply a panic attack. ...              2   \n",
      "4  Please consider seeing a psychologist. Good luck!              1   \n",
      "\n",
      "                                            post_url       created  \\\n",
      "0  https://www.reddit.com/r/mentalhealth/comments...  1.730484e+09   \n",
      "1  https://www.reddit.com/r/mentalhealth/comments...  1.730480e+09   \n",
      "2  https://www.reddit.com/r/mentalhealth/comments...  1.730486e+09   \n",
      "3  https://www.reddit.com/r/mentalhealth/comments...  1.730487e+09   \n",
      "4  https://www.reddit.com/r/mentalhealth/comments...  1.730477e+09   \n",
      "\n",
      "      subreddit                label  post_score  post_num_comments  ...  \\\n",
      "0  mentalhealth  mental_health_issue           1                  1  ...   \n",
      "1  mentalhealth  mental_health_issue           1                  1  ...   \n",
      "2  mentalhealth  mental_health_issue           2                  2  ...   \n",
      "3  mentalhealth  mental_health_issue           2                  2  ...   \n",
      "4  mentalhealth  mental_health_issue           1                  4  ...   \n",
      "\n",
      "  author_premium distinguished  all_awardings num_crossposts  \\\n",
      "0          False           NaN             []              0   \n",
      "1          False           NaN             []              0   \n",
      "2          False           NaN             []              0   \n",
      "3          False           NaN             []              0   \n",
      "4          False           NaN             []              0   \n",
      "\n",
      "   total_awards_received  post_thumbnail  link_flair_text  post_id  \\\n",
      "0                      0            self          Venting  1ghb2bs   \n",
      "1                      0            self          Venting  1gh9prb   \n",
      "2                      0            self          Venting  1gh98yg   \n",
      "3                      0            self          Venting  1gh98yg   \n",
      "4                      0            self     Need Support  1gh8q6w   \n",
      "\n",
      "   comment_id author_flair_text  \n",
      "0     luw5fgj               NaN  \n",
      "1     luvspbv               NaN  \n",
      "2     luwcwu7               NaN  \n",
      "3     luwep2n               NaN  \n",
      "4     luvir86               NaN  \n",
      "\n",
      "[5 rows x 27 columns]\n"
     ]
    }
   ],
   "source": [
    "# Check for duplicates\n",
    "print(data['post_id'].duplicated().sum())\n",
    "\n",
    "# Display first few rows of each DataFrame\n",
    "print(data.head())\n"
   ]
  },
  {
   "cell_type": "code",
   "execution_count": 18,
   "metadata": {},
   "outputs": [
    {
     "name": "stdout",
     "output_type": "stream",
     "text": [
      "1330\n",
      "                                               title  \\\n",
      "0                  I don't know what's wrong with me   \n",
      "1  Friends who distance themselves from you or cu...   \n",
      "2  sometimes my brain just keeps telling me bad t...   \n",
      "3  sometimes my brain just keeps telling me bad t...   \n",
      "4        Need objective support. I’m in over my head   \n",
      "\n",
      "                                           post_body  \\\n",
      "0  I'm finding it really hard to keep myself toge...   \n",
      "1  Please tell me if I sound entitled or selfish....   \n",
      "2  Does anyone else ever get like this? Or have a...   \n",
      "3  Does anyone else ever get like this? Or have a...   \n",
      "4  I feel in over my head and I’m not sure what t...   \n",
      "\n",
      "                                        comment_body  comment_score  \\\n",
      "0  Have you got a therapist on board? Sounds like...              2   \n",
      "1  I think it’s a combination of factors, and I s...              2   \n",
      "2  When I have a panic attack, I tend to think th...              1   \n",
      "3  Im wondering if it was simply a panic attack. ...              2   \n",
      "4  Please consider seeing a psychologist. Good luck!              1   \n",
      "\n",
      "                                            post_url       created  \\\n",
      "0  https://www.reddit.com/r/mentalhealth/comments...  1.730484e+09   \n",
      "1  https://www.reddit.com/r/mentalhealth/comments...  1.730480e+09   \n",
      "2  https://www.reddit.com/r/mentalhealth/comments...  1.730486e+09   \n",
      "3  https://www.reddit.com/r/mentalhealth/comments...  1.730487e+09   \n",
      "4  https://www.reddit.com/r/mentalhealth/comments...  1.730477e+09   \n",
      "\n",
      "      subreddit                label  post_score  post_num_comments  ...  \\\n",
      "0  mentalhealth  mental_health_issue           1                  1  ...   \n",
      "1  mentalhealth  mental_health_issue           1                  1  ...   \n",
      "2  mentalhealth  mental_health_issue           2                  2  ...   \n",
      "3  mentalhealth  mental_health_issue           2                  2  ...   \n",
      "4  mentalhealth  mental_health_issue           1                  4  ...   \n",
      "\n",
      "  author_premium distinguished  all_awardings num_crossposts  \\\n",
      "0          False           NaN             []              0   \n",
      "1          False           NaN             []              0   \n",
      "2          False           NaN             []              0   \n",
      "3          False           NaN             []              0   \n",
      "4          False           NaN             []              0   \n",
      "\n",
      "   total_awards_received  post_thumbnail  link_flair_text  post_id  \\\n",
      "0                      0            self          Venting  1ghb2bs   \n",
      "1                      0            self          Venting  1gh9prb   \n",
      "2                      0            self          Venting  1gh98yg   \n",
      "3                      0            self          Venting  1gh98yg   \n",
      "4                      0            self     Need Support  1gh8q6w   \n",
      "\n",
      "   comment_id author_flair_text  \n",
      "0     luw5fgj               NaN  \n",
      "1     luvspbv               NaN  \n",
      "2     luwcwu7               NaN  \n",
      "3     luwep2n               NaN  \n",
      "4     luvir86               NaN  \n",
      "\n",
      "[5 rows x 27 columns]\n"
     ]
    }
   ],
   "source": [
    "# Check for duplicates\n",
    "print(data['comment_id'].duplicated().sum())\n",
    "\n",
    "# Display first few rows of each DataFrame\n",
    "print(data.head())"
   ]
  },
  {
   "cell_type": "code",
   "execution_count": 19,
   "metadata": {},
   "outputs": [],
   "source": [
    "import pandas as pd\n",
    "\n",
    "def data_shape(data):\n",
    "    \"\"\"Simple function to provide the shape of the data\"\"\"\n",
    "    print(f\"The DataFrame has:\\n\\t* {data.shape[0]} rows\\n\\t* {data.shape[1]} columns\")\n",
    "\n",
    "# Example usage:\n",
    "# Assuming you have a DataFrame named 'df'\n",
    "# data_shape(df)"
   ]
  },
  {
   "cell_type": "code",
   "execution_count": 20,
   "metadata": {},
   "outputs": [],
   "source": [
    "def data_info(data):\n",
    "    \"\"\"Simple function to provide the info of the data\"\"\"\n",
    "    print(data.info(), '\\n')\n",
    "    "
   ]
  },
  {
   "cell_type": "code",
   "execution_count": 21,
   "metadata": {},
   "outputs": [],
   "source": [
    "def print_column_types(data):\n",
    "    \"\"\"Print categorical and numerical columns in a dataset\"\"\"\n",
    "    # Identify categorical and numerical columns\n",
    "    categorical_cols = []\n",
    "    numerical_cols = []\n",
    "    \n",
    "    for column in data.columns:\n",
    "        if data[column].dtype == 'object':\n",
    "            categorical_cols.append(column)\n",
    "        else:\n",
    "            numerical_cols.append(column)\n",
    "    \n",
    "    # Print categorical columns\n",
    "    out = print(f\"Categorical Columns:\", categorical_cols,'\\n')\n",
    "     \n",
    "    # Print numerical columns\n",
    "    out = print(f\"Numerical Columns:\", numerical_cols,'\\n')\n",
    "    \n",
    "    return out "
   ]
  },
  {
   "cell_type": "code",
   "execution_count": 22,
   "metadata": {},
   "outputs": [],
   "source": [
    "import numpy as np  # Ensure NumPy is imported for rounding\n",
    "\n",
    "def identify_duplicates(data):\n",
    "    \"\"\"Identify and report the number of duplicate rows in the DataFrame.\"\"\"\n",
    "    # Count duplicated rows directly using pandas\n",
    "    num_duplicates = data.duplicated().sum()\n",
    "    \n",
    "    if num_duplicates == 0:\n",
    "        print(\"The Data has no duplicates.\\n\")\n",
    "    else:\n",
    "        # Calculate percentage of duplicated rows\n",
    "        duplicates_percentage = np.round((num_duplicates / len(data)) * 100, 3)\n",
    "        print(f\"The Data has {num_duplicates} duplicated rows.\")\n",
    "        print(f\"This constitutes {duplicates_percentage}% of the data set.\\n\")\n",
    "\n",
    "# Example usage:\n",
    "# Assuming you have a DataFrame named 'df'\n",
    "# identify_duplicates(df)"
   ]
  },
  {
   "cell_type": "code",
   "execution_count": 23,
   "metadata": {},
   "outputs": [],
   "source": [
    "def data_describe(data):\n",
    "    \"\"\"Simple function to check the descriptive values of the data\"\"\"\n",
    "    print(data.describe(), '\\n')"
   ]
  },
  {
   "cell_type": "code",
   "execution_count": 24,
   "metadata": {},
   "outputs": [],
   "source": [
    "# helper function to check for unique values in a column\n",
    "def find_unique_values(data):\n",
    "        print(data.nunique(),'\\n')\n",
    "    "
   ]
  },
  {
   "cell_type": "code",
   "execution_count": 25,
   "metadata": {},
   "outputs": [],
   "source": [
    "def explore(data):\n",
    "    \"\"\"Group of functions to explore data \"\"\"\n",
    "    data_shape(data)\n",
    "    data_info(data)\n",
    "    print_column_types(data)\n",
    "    data_describe(data)"
   ]
  },
  {
   "cell_type": "code",
   "execution_count": 26,
   "metadata": {},
   "outputs": [
    {
     "name": "stdout",
     "output_type": "stream",
     "text": [
      "The DataFrame has:\n",
      "\t* 92395 rows\n",
      "\t* 27 columns\n",
      "<class 'pandas.core.frame.DataFrame'>\n",
      "RangeIndex: 92395 entries, 0 to 92394\n",
      "Data columns (total 27 columns):\n",
      " #   Column                 Non-Null Count  Dtype  \n",
      "---  ------                 --------------  -----  \n",
      " 0   title                  92395 non-null  object \n",
      " 1   post_body              63730 non-null  object \n",
      " 2   comment_body           92395 non-null  object \n",
      " 3   comment_score          92395 non-null  int64  \n",
      " 4   post_url               92395 non-null  object \n",
      " 5   created                92395 non-null  float64\n",
      " 6   subreddit              92395 non-null  object \n",
      " 7   label                  92395 non-null  object \n",
      " 8   post_score             92395 non-null  int64  \n",
      " 9   post_num_comments      92395 non-null  int64  \n",
      " 10  author                 92395 non-null  object \n",
      " 11  comment_author         92395 non-null  object \n",
      " 12  post_created           92395 non-null  float64\n",
      " 13  post_flair             35211 non-null  object \n",
      " 14  upvote_ratio           92395 non-null  float64\n",
      " 15  over_18                92395 non-null  bool   \n",
      " 16  is_self_post           92395 non-null  bool   \n",
      " 17  author_premium         92395 non-null  bool   \n",
      " 18  distinguished          0 non-null      float64\n",
      " 19  all_awardings          92395 non-null  object \n",
      " 20  num_crossposts         92395 non-null  int64  \n",
      " 21  total_awards_received  92395 non-null  int64  \n",
      " 22  post_thumbnail         92395 non-null  object \n",
      " 23  link_flair_text        35211 non-null  object \n",
      " 24  post_id                92395 non-null  object \n",
      " 25  comment_id             92395 non-null  object \n",
      " 26  author_flair_text      4515 non-null   object \n",
      "dtypes: bool(3), float64(4), int64(5), object(15)\n",
      "memory usage: 17.2+ MB\n",
      "None \n",
      "\n",
      "Categorical Columns: ['title', 'post_body', 'comment_body', 'post_url', 'subreddit', 'label', 'author', 'comment_author', 'post_flair', 'all_awardings', 'post_thumbnail', 'link_flair_text', 'post_id', 'comment_id', 'author_flair_text'] \n",
      "\n",
      "Numerical Columns: ['comment_score', 'created', 'post_score', 'post_num_comments', 'post_created', 'upvote_ratio', 'over_18', 'is_self_post', 'author_premium', 'distinguished', 'num_crossposts', 'total_awards_received'] \n",
      "\n",
      "       comment_score       created    post_score  post_num_comments  \\\n",
      "count   92395.000000  9.239500e+04  92395.000000       92395.000000   \n",
      "mean       13.769403  1.716089e+09   4843.402468         294.855955   \n",
      "std       129.183400  2.430551e+07  14386.577006         399.616407   \n",
      "min      -550.000000  1.654815e+09      0.000000           1.000000   \n",
      "25%         1.000000  1.726120e+09     26.000000          43.000000   \n",
      "50%         2.000000  1.728860e+09    193.000000         139.000000   \n",
      "75%         4.000000  1.730050e+09   1109.000000         389.000000   \n",
      "max     12680.000000  1.730494e+09  86196.000000        2523.000000   \n",
      "\n",
      "       post_created  upvote_ratio  distinguished  num_crossposts  \\\n",
      "count  9.239500e+04  92395.000000            0.0    92395.000000   \n",
      "mean   1.716041e+09      0.864621            NaN        0.529401   \n",
      "std    2.432998e+07      0.172151            NaN        1.993058   \n",
      "min    1.654815e+09      0.060000            NaN        0.000000   \n",
      "25%    1.726107e+09      0.840000            NaN        0.000000   \n",
      "50%    1.728828e+09      0.930000            NaN        0.000000   \n",
      "75%    1.730029e+09      0.970000            NaN        0.000000   \n",
      "max    1.730493e+09      1.000000            NaN       20.000000   \n",
      "\n",
      "       total_awards_received  \n",
      "count                92395.0  \n",
      "mean                     0.0  \n",
      "std                      0.0  \n",
      "min                      0.0  \n",
      "25%                      0.0  \n",
      "50%                      0.0  \n",
      "75%                      0.0  \n",
      "max                      0.0   \n",
      "\n"
     ]
    }
   ],
   "source": [
    "explore(data)\n"
   ]
  },
  {
   "cell_type": "code",
   "execution_count": 27,
   "metadata": {},
   "outputs": [
    {
     "name": "stdout",
     "output_type": "stream",
     "text": [
      "<class 'pandas.core.frame.DataFrame'>\n",
      "RangeIndex: 92395 entries, 0 to 92394\n",
      "Data columns (total 27 columns):\n",
      " #   Column                 Non-Null Count  Dtype  \n",
      "---  ------                 --------------  -----  \n",
      " 0   title                  92395 non-null  object \n",
      " 1   post_body              63730 non-null  object \n",
      " 2   comment_body           92395 non-null  object \n",
      " 3   comment_score          92395 non-null  int64  \n",
      " 4   post_url               92395 non-null  object \n",
      " 5   created                92395 non-null  float64\n",
      " 6   subreddit              92395 non-null  object \n",
      " 7   label                  92395 non-null  object \n",
      " 8   post_score             92395 non-null  int64  \n",
      " 9   post_num_comments      92395 non-null  int64  \n",
      " 10  author                 92395 non-null  object \n",
      " 11  comment_author         92395 non-null  object \n",
      " 12  post_created           92395 non-null  float64\n",
      " 13  post_flair             35211 non-null  object \n",
      " 14  upvote_ratio           92395 non-null  float64\n",
      " 15  over_18                92395 non-null  bool   \n",
      " 16  is_self_post           92395 non-null  bool   \n",
      " 17  author_premium         92395 non-null  bool   \n",
      " 18  distinguished          0 non-null      float64\n",
      " 19  all_awardings          92395 non-null  object \n",
      " 20  num_crossposts         92395 non-null  int64  \n",
      " 21  total_awards_received  92395 non-null  int64  \n",
      " 22  post_thumbnail         92395 non-null  object \n",
      " 23  link_flair_text        35211 non-null  object \n",
      " 24  post_id                92395 non-null  object \n",
      " 25  comment_id             92395 non-null  object \n",
      " 26  author_flair_text      4515 non-null   object \n",
      "dtypes: bool(3), float64(4), int64(5), object(15)\n",
      "memory usage: 17.2+ MB\n"
     ]
    }
   ],
   "source": [
    "data.info()"
   ]
  },
  {
   "cell_type": "code",
   "execution_count": 28,
   "metadata": {},
   "outputs": [
    {
     "data": {
      "text/plain": [
       "title                        0\n",
       "post_body                28665\n",
       "comment_body                 0\n",
       "comment_score                0\n",
       "post_url                     0\n",
       "created                      0\n",
       "subreddit                    0\n",
       "label                        0\n",
       "post_score                   0\n",
       "post_num_comments            0\n",
       "author                       0\n",
       "comment_author               0\n",
       "post_created                 0\n",
       "post_flair               57184\n",
       "upvote_ratio                 0\n",
       "over_18                      0\n",
       "is_self_post                 0\n",
       "author_premium               0\n",
       "distinguished            92395\n",
       "all_awardings                0\n",
       "num_crossposts               0\n",
       "total_awards_received        0\n",
       "post_thumbnail               0\n",
       "link_flair_text          57184\n",
       "post_id                      0\n",
       "comment_id                   0\n",
       "author_flair_text        87880\n",
       "dtype: int64"
      ]
     },
     "execution_count": 28,
     "metadata": {},
     "output_type": "execute_result"
    }
   ],
   "source": [
    "# Are there any missing values?\n",
    "data.isna().sum()"
   ]
  },
  {
   "cell_type": "markdown",
   "metadata": {},
   "source": [
    "Analysis\n",
    "High Missing Values (Candidates for Dropping):\n",
    "\n",
    "post_flair (57,184 missing values)\n",
    "\n",
    "distinguished (92,395 missing values)\n",
    "\n",
    "link_flair_text (57,184 missing values)\n",
    "\n",
    "author_flair_text (87,880 missing values)\n",
    "\n",
    "This are a quick drop as  we analyse other columns further."
   ]
  },
  {
   "cell_type": "markdown",
   "metadata": {},
   "source": [
    "Columns with 0 Missing Values we (Retain):\n",
    "\n",
    "These include essential columns like title, label, subreddit, post_score, etc., which are likely critical for analysis."
   ]
  },
  {
   "cell_type": "markdown",
   "metadata": {},
   "source": [
    "3. Data Preparation"
   ]
  },
  {
   "cell_type": "markdown",
   "metadata": {},
   "source": [
    "Load the Data and Inspect Column Names\n",
    "\n",
    "Get a sense of the data by checking column names and understanding their descriptions."
   ]
  },
  {
   "cell_type": "code",
   "execution_count": 30,
   "metadata": {},
   "outputs": [
    {
     "name": "stdout",
     "output_type": "stream",
     "text": [
      "Column Names: Index(['title', 'post_body', 'comment_body', 'comment_score', 'post_url',\n",
      "       'created', 'subreddit', 'label', 'post_score', 'post_num_comments',\n",
      "       'author', 'comment_author', 'post_created', 'post_flair',\n",
      "       'upvote_ratio', 'over_18', 'is_self_post', 'author_premium',\n",
      "       'distinguished', 'all_awardings', 'num_crossposts',\n",
      "       'total_awards_received', 'post_thumbnail', 'link_flair_text', 'post_id',\n",
      "       'comment_id', 'author_flair_text'],\n",
      "      dtype='object')\n",
      "                                               title  \\\n",
      "0                  I don't know what's wrong with me   \n",
      "1  Friends who distance themselves from you or cu...   \n",
      "2  sometimes my brain just keeps telling me bad t...   \n",
      "3  sometimes my brain just keeps telling me bad t...   \n",
      "4        Need objective support. I’m in over my head   \n",
      "\n",
      "                                           post_body  \\\n",
      "0  I'm finding it really hard to keep myself toge...   \n",
      "1  Please tell me if I sound entitled or selfish....   \n",
      "2  Does anyone else ever get like this? Or have a...   \n",
      "3  Does anyone else ever get like this? Or have a...   \n",
      "4  I feel in over my head and I’m not sure what t...   \n",
      "\n",
      "                                        comment_body  comment_score  \\\n",
      "0  Have you got a therapist on board? Sounds like...              2   \n",
      "1  I think it’s a combination of factors, and I s...              2   \n",
      "2  When I have a panic attack, I tend to think th...              1   \n",
      "3  Im wondering if it was simply a panic attack. ...              2   \n",
      "4  Please consider seeing a psychologist. Good luck!              1   \n",
      "\n",
      "                                            post_url       created  \\\n",
      "0  https://www.reddit.com/r/mentalhealth/comments...  1.730484e+09   \n",
      "1  https://www.reddit.com/r/mentalhealth/comments...  1.730480e+09   \n",
      "2  https://www.reddit.com/r/mentalhealth/comments...  1.730486e+09   \n",
      "3  https://www.reddit.com/r/mentalhealth/comments...  1.730487e+09   \n",
      "4  https://www.reddit.com/r/mentalhealth/comments...  1.730477e+09   \n",
      "\n",
      "      subreddit                label  post_score  post_num_comments  ...  \\\n",
      "0  mentalhealth  mental_health_issue           1                  1  ...   \n",
      "1  mentalhealth  mental_health_issue           1                  1  ...   \n",
      "2  mentalhealth  mental_health_issue           2                  2  ...   \n",
      "3  mentalhealth  mental_health_issue           2                  2  ...   \n",
      "4  mentalhealth  mental_health_issue           1                  4  ...   \n",
      "\n",
      "  author_premium distinguished  all_awardings num_crossposts  \\\n",
      "0          False           NaN             []              0   \n",
      "1          False           NaN             []              0   \n",
      "2          False           NaN             []              0   \n",
      "3          False           NaN             []              0   \n",
      "4          False           NaN             []              0   \n",
      "\n",
      "   total_awards_received  post_thumbnail  link_flair_text  post_id  \\\n",
      "0                      0            self          Venting  1ghb2bs   \n",
      "1                      0            self          Venting  1gh9prb   \n",
      "2                      0            self          Venting  1gh98yg   \n",
      "3                      0            self          Venting  1gh98yg   \n",
      "4                      0            self     Need Support  1gh8q6w   \n",
      "\n",
      "   comment_id author_flair_text  \n",
      "0     luw5fgj               NaN  \n",
      "1     luvspbv               NaN  \n",
      "2     luwcwu7               NaN  \n",
      "3     luwep2n               NaN  \n",
      "4     luvir86               NaN  \n",
      "\n",
      "[5 rows x 27 columns]\n"
     ]
    }
   ],
   "source": [
    "\n",
    "\n",
    "# Display column names and sample data\n",
    "print(\"Column Names:\", data.columns)\n",
    "print(data.head())\n"
   ]
  },
  {
   "cell_type": "markdown",
   "metadata": {},
   "source": [
    "Often, columns with similar names might hold related or overlapping information.\n",
    "python\n",
    "Copy code\n"
   ]
  },
  {
   "cell_type": "code",
   "execution_count": 31,
   "metadata": {},
   "outputs": [
    {
     "name": "stdout",
     "output_type": "stream",
     "text": [
      "Columns with similar names: ['label']\n"
     ]
    }
   ],
   "source": [
    "similar_columns = [col for col in data.columns if 'keyword' in col.lower() or 'label' in col.lower()]\n",
    "print(\"Columns with similar names:\", similar_columns)\n"
   ]
  },
  {
   "cell_type": "markdown",
   "metadata": {},
   "source": [
    "Check for High Correlation (for Numeric Columns)\n",
    "\n",
    "Calculate the correlation matrix to find highly correlated numeric columns (correlation close to +1 or -1)."
   ]
  },
  {
   "cell_type": "code",
   "execution_count": 33,
   "metadata": {},
   "outputs": [
    {
     "name": "stdout",
     "output_type": "stream",
     "text": [
      "Highly correlated column pairs: [('created', 'post_created'), ('post_created', 'created')]\n"
     ]
    }
   ],
   "source": [
    "# Selecting only numerical columns\n",
    "numeric_df = data.select_dtypes(include='number')\n",
    "correlation_matrix = numeric_df.corr()\n",
    "\n",
    "# Identify pairs of highly correlated columns\n",
    "high_corr_pairs = [(col1, col2) for col1 in correlation_matrix.columns for col2 in correlation_matrix.columns if col1 != col2 and abs(correlation_matrix.loc[col1, col2]) > 0.8]\n",
    "print(\"Highly correlated column pairs:\", high_corr_pairs)\n"
   ]
  },
  {
   "cell_type": "markdown",
   "metadata": {},
   "source": [
    "Compare Unique Values in Categorical Columns\n",
    "\n",
    "For categorical columns, check if they contain similar unique values, which may indicate overlapping information"
   ]
  },
  {
   "cell_type": "code",
   "execution_count": 37,
   "metadata": {},
   "outputs": [
    {
     "name": "stdout",
     "output_type": "stream",
     "text": [
      "Unique values in 'title': 2874\n",
      "Unique values in 'post_body': 2260\n",
      "Unique values in 'comment_body': 84845\n",
      "Unique values in 'post_url': 2887\n",
      "Unique values in 'subreddit': 14\n",
      "Unique values in 'label': 3\n",
      "Unique values in 'author': 2587\n",
      "Unique values in 'comment_author': 47459\n",
      "Unique values in 'post_flair': 86\n",
      "Unique values in 'all_awardings': 1\n",
      "Unique values in 'post_thumbnail': 447\n",
      "Unique values in 'link_flair_text': 86\n",
      "Unique values in 'post_id': 2888\n",
      "Unique values in 'comment_id': 91065\n",
      "Unique values in 'author_flair_text': 33\n",
      "Categorical columns with identical unique values: [('post_flair', 'link_flair_text'), ('link_flair_text', 'post_flair')]\n"
     ]
    }
   ],
   "source": [
    "# Selecting only categorical columns\n",
    "categorical_data = data.select_dtypes(include='object')\n",
    "for col in categorical_data.columns:\n",
    "    print(f\"Unique values in '{col}': {categorical_data[col].nunique()}\")\n",
    "\n",
    "# Example of comparing two columns directly\n",
    "# Adjust as needed if there are specific columns to compare\n",
    "overlap_cats = [(col1, col2) for col1 in categorical_data.columns for col2 in categorical_data.columns if col1 != col2 and set(data[col1]) == set(data[col2])]\n",
    "print(\"Categorical columns with identical unique values:\", overlap_cats)\n"
   ]
  },
  {
   "cell_type": "markdown",
   "metadata": {},
   "source": [
    "Find Duplicated Columns (Exact Copies)\n",
    "\n",
    "Some columns might be exact duplicates of each other, especially after data extraction or merging."
   ]
  },
  {
   "cell_type": "code",
   "execution_count": 39,
   "metadata": {},
   "outputs": [
    {
     "name": "stdout",
     "output_type": "stream",
     "text": [
      "Duplicate columns: [('post_flair', 'link_flair_text')]\n"
     ]
    }
   ],
   "source": [
    "duplicate_columns = []\n",
    "for i in range(len(data.columns)):\n",
    "    for j in range(i + 1, len(data.columns)):\n",
    "        if data.iloc[:, i].equals(data.iloc[:, j]):\n",
    "            duplicate_columns.append((data.columns[i], data.columns[j]))\n",
    "\n",
    "print(\"Duplicate columns:\", duplicate_columns)\n"
   ]
  },
  {
   "cell_type": "markdown",
   "metadata": {},
   "source": [
    "Go ahead.\n",
    "Examining Unique Values and Sample Rows: Check a few rows and the unique values in each column to confirm whether created and post_created contain identical or near-identical timestamps."
   ]
  },
  {
   "cell_type": "code",
   "execution_count": 41,
   "metadata": {},
   "outputs": [
    {
     "name": "stdout",
     "output_type": "stream",
     "text": [
      "Unique values in 'created': 89626\n",
      "Unique values in 'post_created': 2887\n"
     ]
    },
    {
     "data": {
      "text/html": [
       "<div>\n",
       "<style scoped>\n",
       "    .dataframe tbody tr th:only-of-type {\n",
       "        vertical-align: middle;\n",
       "    }\n",
       "\n",
       "    .dataframe tbody tr th {\n",
       "        vertical-align: top;\n",
       "    }\n",
       "\n",
       "    .dataframe thead th {\n",
       "        text-align: right;\n",
       "    }\n",
       "</style>\n",
       "<table border=\"1\" class=\"dataframe\">\n",
       "  <thead>\n",
       "    <tr style=\"text-align: right;\">\n",
       "      <th></th>\n",
       "      <th>created</th>\n",
       "      <th>post_created</th>\n",
       "    </tr>\n",
       "  </thead>\n",
       "  <tbody>\n",
       "    <tr>\n",
       "      <th>0</th>\n",
       "      <td>1.730484e+09</td>\n",
       "      <td>1.730482e+09</td>\n",
       "    </tr>\n",
       "    <tr>\n",
       "      <th>1</th>\n",
       "      <td>1.730480e+09</td>\n",
       "      <td>1.730479e+09</td>\n",
       "    </tr>\n",
       "    <tr>\n",
       "      <th>2</th>\n",
       "      <td>1.730486e+09</td>\n",
       "      <td>1.730478e+09</td>\n",
       "    </tr>\n",
       "    <tr>\n",
       "      <th>3</th>\n",
       "      <td>1.730487e+09</td>\n",
       "      <td>1.730478e+09</td>\n",
       "    </tr>\n",
       "    <tr>\n",
       "      <th>4</th>\n",
       "      <td>1.730477e+09</td>\n",
       "      <td>1.730477e+09</td>\n",
       "    </tr>\n",
       "    <tr>\n",
       "      <th>5</th>\n",
       "      <td>1.730484e+09</td>\n",
       "      <td>1.730477e+09</td>\n",
       "    </tr>\n",
       "    <tr>\n",
       "      <th>6</th>\n",
       "      <td>1.730477e+09</td>\n",
       "      <td>1.730477e+09</td>\n",
       "    </tr>\n",
       "    <tr>\n",
       "      <th>7</th>\n",
       "      <td>1.730477e+09</td>\n",
       "      <td>1.730477e+09</td>\n",
       "    </tr>\n",
       "    <tr>\n",
       "      <th>8</th>\n",
       "      <td>1.730469e+09</td>\n",
       "      <td>1.730468e+09</td>\n",
       "    </tr>\n",
       "    <tr>\n",
       "      <th>9</th>\n",
       "      <td>1.730469e+09</td>\n",
       "      <td>1.730468e+09</td>\n",
       "    </tr>\n",
       "  </tbody>\n",
       "</table>\n",
       "</div>"
      ],
      "text/plain": [
       "        created  post_created\n",
       "0  1.730484e+09  1.730482e+09\n",
       "1  1.730480e+09  1.730479e+09\n",
       "2  1.730486e+09  1.730478e+09\n",
       "3  1.730487e+09  1.730478e+09\n",
       "4  1.730477e+09  1.730477e+09\n",
       "5  1.730484e+09  1.730477e+09\n",
       "6  1.730477e+09  1.730477e+09\n",
       "7  1.730477e+09  1.730477e+09\n",
       "8  1.730469e+09  1.730468e+09\n",
       "9  1.730469e+09  1.730468e+09"
      ]
     },
     "execution_count": 41,
     "metadata": {},
     "output_type": "execute_result"
    }
   ],
   "source": [
    "print(\"Unique values in 'created':\", data['created'].nunique())\n",
    "print(\"Unique values in 'post_created':\", data['post_created'].nunique())\n",
    "\n",
    "# Display a sample of these columns\n",
    "data[['created', 'post_created']].head(10)\n"
   ]
  },
  {
   "cell_type": "markdown",
   "metadata": {},
   "source": [
    "Checking Distribution of Comments per Post:\n",
    "\n",
    " checking how many comments are associated with each unique 'post_created' timestamp to understand activity levels per post."
   ]
  },
  {
   "cell_type": "code",
   "execution_count": 42,
   "metadata": {},
   "outputs": [
    {
     "name": "stdout",
     "output_type": "stream",
     "text": [
      "count    2887.000000\n",
      "mean       32.003810\n",
      "std        75.143206\n",
      "min         1.000000\n",
      "25%         3.000000\n",
      "50%         8.000000\n",
      "75%        26.000000\n",
      "max       770.000000\n",
      "dtype: float64\n"
     ]
    }
   ],
   "source": [
    "# Counting comments per post creation timestamp\n",
    "comments_per_post = data.groupby('post_created').size()\n",
    "print(comments_per_post.describe())  # Gives an idea of the distribution\n"
   ]
  },
  {
   "cell_type": "markdown",
   "metadata": {},
   "source": [
    "This distribution indicates that each unique post_created timestamp has a varying number of comments associated with it:\n",
    "\n",
    "Mean (32): On average, there are about 32 comments per unique post timestamp.\n",
    "\n",
    "Standard Deviation (75): The high standard deviation shows substantial variation in comment count per post, with some posts having significantly more comments than others.\n",
    "\n",
    "Minimum (1): Some posts have only 1 comment.\n",
    "\n",
    "25th Percentile (3) and Median (8): Half of the posts have fewer than 8 comments, suggesting that most posts receive relatively few comments.\n",
    "\n",
    "75th Percentile (26): 75% of posts have 26 comments or fewer.\n",
    "\n",
    "Maximum (770): The most commented post has 770 comments, indicating a few highly active posts skewing the distribution."
   ]
  },
  {
   "cell_type": "markdown",
   "metadata": {},
   "source": [
    "Lets create a visualised skewed destribution to check the spread and skewness."
   ]
  },
  {
   "cell_type": "code",
   "execution_count": 43,
   "metadata": {},
   "outputs": [
    {
     "data": {
      "image/png": "[encoded data removed]",
      "text/plain": [
       "<Figure size 720x432 with 1 Axes>"
      ]
     },
     "metadata": {
      "needs_background": "light"
     },
     "output_type": "display_data"
    },
    {
     "data": {
      "image/png": "[encoded data removed]",
      "text/plain": [
       "<Figure size 576x360 with 1 Axes>"
      ]
     },
     "metadata": {
      "needs_background": "light"
     },
     "output_type": "display_data"
    }
   ],
   "source": [
    "\n",
    "\n",
    "# Histogram\n",
    "plt.figure(figsize=(10, 6))\n",
    "sns.histplot(comments_per_post, bins=50, kde=True)\n",
    "plt.xlabel('Number of Comments per Post')\n",
    "plt.ylabel('Frequency')\n",
    "plt.title('Distribution of Comments per Post')\n",
    "plt.show()\n",
    "\n",
    "# Boxplot for Outlier Detection\n",
    "plt.figure(figsize=(8, 5))\n",
    "sns.boxplot(x=comments_per_post)\n",
    "plt.xlabel('Number of Comments per Post')\n",
    "plt.title('Boxplot of Comments per Post')\n",
    "plt.show()\n"
   ]
  },
  {
   "cell_type": "markdown",
   "metadata": {},
   "source": [
    "The histogram shows that the distribution of comments per post is highly skewed, with most posts having a low number of comments and a few posts receiving very high numbers of comments. This is common in datasets with social media metrics, where most posts get relatively little interaction, and a few go \"viral\" or receive a lot of attention.\n",
    "\n",
    "\n",
    "The boxplot confirms the presence of significant outliers, as shown by points well beyond the whiskers of the boxplot. These outliers correspond to posts with very high comment counts."
   ]
  },
  {
   "cell_type": "markdown",
   "metadata": {},
   "source": [
    "The next step is checking variance in each columns."
   ]
  },
  {
   "cell_type": "code",
   "execution_count": null,
   "metadata": {},
   "outputs": [
    {
     "name": "stdout",
     "output_type": "stream",
     "text": [
      "Low variance columns: ['distinguished', 'all_awardings', 'total_awards_received']\n",
      "Columns to drop: ['post_flair', 'distinguished', 'link_flair_text', 'author_flair_text', 'distinguished', 'all_awardings', 'total_awards_received']\n"
     ]
    }
   ],
   "source": [
    "missing_values = data.isnull().sum()\n",
    "\n",
    "\n",
    "#  Check variance in each column\n",
    "low_variance_cols = [col for col in data.columns if data[col].nunique() <= 1]\n",
    "print(\"Low variance columns:\", low_variance_cols)\n",
    "\n",
    "#  Drop columns with excessive missing values or low variance\n",
    "columns_to_drop = missing_values[missing_values > 0.5 * len(data)].index.tolist() + low_variance_cols\n",
    "print(\"Columns to drop:\", columns_to_drop)\n",
    "\n",
    "# Drop the identified columns (if this is the intent)\n",
    "data_cleaned = data.drop(columns=columns_to_drop, errors='ignore')\n"
   ]
  },
  {
   "cell_type": "markdown",
   "metadata": {},
   "source": [
    "The above has provided columns with low variance and suggested the ones to drop"
   ]
  },
  {
   "cell_type": "markdown",
   "metadata": {},
   "source": [
    "The above with the addition of colums to drop we create a consolidated list."
   ]
  },
  {
   "cell_type": "markdown",
   "metadata": {},
   "source": [
    "DROPPING COLUMNS"
   ]
  },
  {
   "cell_type": "code",
   "execution_count": 77,
   "metadata": {},
   "outputs": [],
   "source": [
    "columns_to_drop = [\n",
    "    'post_flair',\n",
    "    'distinguished', \n",
    "     'distinguised',# Listed twice but handled once in drop\n",
    "    'link_flair_text',\n",
    "    'author_flair_text',\n",
    "    'all_awardings',\n",
    "    'total_awards_received'\n",
    "    'total_awards_received'\n",
    "]\n",
    "\n",
    "# Drop these columns from the DataFrame\n",
    "data_cleaned = data.drop(columns=columns_to_drop, errors='ignore')\n"
   ]
  },
  {
   "cell_type": "markdown",
   "metadata": {},
   "source": [
    "Rationale\n",
    "\n",
    "post_flair, distinguished, link_flair_text, author_flair_text: High missing values (>50%), not useful for analysis.\n",
    "\n",
    "all_awardings, total_awards_received: Low variance, likely uninformative for distinguishing posts or comments."
   ]
  },
  {
   "cell_type": "code",
   "execution_count": 49,
   "metadata": {},
   "outputs": [
    {
     "data": {
      "text/plain": [
       "(92395, 21)"
      ]
     },
     "execution_count": 49,
     "metadata": {},
     "output_type": "execute_result"
    }
   ],
   "source": [
    "dfn = data.drop(columns_to_drop, axis = 1)\n",
    "dfn.shape"
   ]
  },
  {
   "cell_type": "code",
   "execution_count": 50,
   "metadata": {},
   "outputs": [
    {
     "name": "stdout",
     "output_type": "stream",
     "text": [
      "Categorical Columns: ['title', 'post_body', 'comment_body', 'post_url', 'subreddit', 'label', 'author', 'comment_author', 'post_thumbnail', 'post_id', 'comment_id'] \n",
      "\n",
      "Numerical Columns: ['comment_score', 'created', 'post_score', 'post_num_comments', 'post_created', 'upvote_ratio', 'over_18', 'is_self_post', 'author_premium', 'num_crossposts'] \n",
      "\n"
     ]
    }
   ],
   "source": [
    "print_column_types(dfn)"
   ]
  },
  {
   "cell_type": "markdown",
   "metadata": {},
   "source": [
    "4.Data Cleaning(handling missing values, duplicates and outliers-show visualizations)"
   ]
  },
  {
   "cell_type": "code",
   "execution_count": 51,
   "metadata": {},
   "outputs": [],
   "source": [
    "# helper function to check for missing values\n",
    "\n",
    "def data_missing(data):\n",
    "    \"\"\"Identify if the data has missing values\"\"\"\n",
    "    # identify columns with missing values\n",
    "    missing_cols = data.columns[data.isnull().any()]\n",
    "    # calculate number of missing values in each column\n",
    "    missing_sum = data[missing_cols].isnull().sum()\n",
    "    # calculate percentage of missing values in each column\n",
    "    missing_pct = data[missing_cols].isnull().sum() / data.shape[0] * 100\n",
    "\n",
    "    # check if there are missing values\n",
    "    if len(missing_cols) == 0:\n",
    "        out = print(\"The data has no missing values.\")\n",
    "    else:\n",
    "        out = print(f\"The data has missing values in the following columns:\\n{missing_cols}\\n\\nThe total number of missing values in each column:\\n{missing_sum}\\n \\n{missing_pct}\\n\")\n",
    "    return out"
   ]
  },
  {
   "cell_type": "code",
   "execution_count": 52,
   "metadata": {},
   "outputs": [
    {
     "name": "stdout",
     "output_type": "stream",
     "text": [
      "The data has missing values in the following columns:\n",
      "Index(['post_body'], dtype='object')\n",
      "\n",
      "The total number of missing values in each column:\n",
      "post_body    28665\n",
      "dtype: int64\n",
      " \n",
      "post_body    31.024406\n",
      "dtype: float64\n",
      "\n"
     ]
    }
   ],
   "source": [
    "data_missing(dfn)"
   ]
  },
  {
   "cell_type": "markdown",
   "metadata": {},
   "source": [
    "I will keep it to analyse if it will impact our data\n",
    "But i will fill the missing values with a place holder."
   ]
  },
  {
   "cell_type": "code",
   "execution_count": 53,
   "metadata": {},
   "outputs": [],
   "source": [
    "data['post_body'].fillna(\"Missing\", inplace=True)\n"
   ]
  },
  {
   "cell_type": "markdown",
   "metadata": {},
   "source": [
    "recheck."
   ]
  },
  {
   "cell_type": "code",
   "execution_count": 55,
   "metadata": {},
   "outputs": [
    {
     "data": {
      "text/plain": [
       "0"
      ]
     },
     "execution_count": 55,
     "metadata": {},
     "output_type": "execute_result"
    }
   ],
   "source": [
    "data['post_body'].isnull().sum()"
   ]
  },
  {
   "cell_type": "markdown",
   "metadata": {},
   "source": [
    "this confirms that there are no missing values in the column."
   ]
  },
  {
   "cell_type": "markdown",
   "metadata": {},
   "source": [
    "DUPLICATED DATA"
   ]
  },
  {
   "cell_type": "code",
   "execution_count": 56,
   "metadata": {},
   "outputs": [],
   "source": [
    "# helper function to check for duplicates\n",
    "\n",
    "def identify_duplicates(data):\n",
    "    \"\"\"Simple function to identify any duplicates\"\"\"\n",
    "    # identify the duplicates (dataframename.duplicated() , can add .sum() to get total count)\n",
    "    # empty list to store Bool results from duplicated\n",
    "    duplicates = []\n",
    "    for i in data.duplicated():\n",
    "        duplicates.append(i)\n",
    "    # identify if there is any duplicates. (If there is any we expect a True value in the list duplicates)\n",
    "    duplicates_set = set(duplicates) \n",
    "    if (len(duplicates_set) == 1):\n",
    "        out = print(\"The Data has no duplicates\", '\\n')\n",
    "    else:\n",
    "        no_true = 0\n",
    "        for val in duplicates:\n",
    "            if (val == True):\n",
    "                no_true += 1\n",
    "        # percentage of the data represented by duplicates \n",
    "        duplicates_percentage = np.round(((no_true / len(data)) * 100), 3)\n",
    "        out = print(f\"The Data has {no_true} duplicated rows.\\nThis constitutes {duplicates_percentage}% of the data set.\", '\\n')"
   ]
  },
  {
   "cell_type": "code",
   "execution_count": 57,
   "metadata": {},
   "outputs": [
    {
     "name": "stdout",
     "output_type": "stream",
     "text": [
      "The Data has no duplicates \n",
      "\n"
     ]
    }
   ],
   "source": [
    "identify_duplicates(dfn)"
   ]
  },
  {
   "cell_type": "markdown",
   "metadata": {},
   "source": [
    "Outliers\n",
    "\n",
    "Outliers are data points that significantly deviate from the majority of the other data points in a dataset.\n",
    "\n",
    "There can be several causes for the presence of outliers:\n",
    "\n",
    "Natural variation\n",
    "\n",
    "Data entry errors\n",
    "\n",
    "Anomalous observations\n",
    "\n",
    "Sampling issues\n",
    "\n",
    "Data processing errors"
   ]
  },
  {
   "cell_type": "code",
   "execution_count": 60,
   "metadata": {},
   "outputs": [],
   "source": [
    "\n",
    "\n",
    "def evaluate_outliers(data, sample_size=1000, columns_per_row=3):\n",
    "    \"\"\"Function to evaluate outliers in numeric columns and plot their distributions side by side.\"\"\"\n",
    "    \n",
    "    # Select numeric columns\n",
    "    numeric_columns = data.select_dtypes(include='number').columns\n",
    "    \n",
    "    # Randomly sample the data\n",
    "    data_sample = data.sample(n=min(sample_size, len(data)), random_state=42)\n",
    "    \n",
    "    # Calculate the number of rows needed\n",
    "    num_plots = len(numeric_columns)\n",
    "    num_rows = (num_plots + columns_per_row - 1) // columns_per_row  # Round up division\n",
    "    \n",
    "    # Create subplots\n",
    "    fig, axes = plt.subplots(num_rows, columns_per_row, figsize=(columns_per_row * 5, num_rows * 4))\n",
    "    axes = axes.flatten()  # Flatten in case of single row\n",
    "\n",
    "    # Iterate over numeric columns and create boxplots\n",
    "    for i, column in enumerate(numeric_columns):\n",
    "        ax = axes[i]\n",
    "        ax.boxplot(data_sample[column], notch=True, sym='r.')\n",
    "        ax.set_xlabel(column)\n",
    "        ax.set_ylabel('Value')\n",
    "        ax.set_title(f'Boxplot of {column}')\n",
    "    \n",
    "    # Turn off any unused subplots\n",
    "    for j in range(i + 1, len(axes)):\n",
    "        axes[j].axis('off')\n",
    "    \n",
    "    plt.tight_layout()\n",
    "    plt.show()\n"
   ]
  },
  {
   "cell_type": "code",
   "execution_count": 61,
   "metadata": {},
   "outputs": [
    {
     "data": {
      "image/png": "[encoded data removed]",
      "text/plain": [
       "<Figure size 1080x864 with 9 Axes>"
      ]
     },
     "metadata": {
      "needs_background": "light"
     },
     "output_type": "display_data"
    }
   ],
   "source": [
    "evaluate_outliers(dfn)"
   ]
  },
  {
   "cell_type": "markdown",
   "metadata": {},
   "source": [
    "Observations:\n",
    "\n",
    "The presence of outliers is visible as red points beyond the whiskers in all boxplots.\n",
    "\n",
    "Most of the data points for these variables are concentrated near the lower end of the scale (e.g., comment_score, post_score).\n",
    "\n",
    "Variables such as created and post_created appear to represent timestamps, with less variability in their distributions."
   ]
  },
  {
   "cell_type": "markdown",
   "metadata": {},
   "source": [
    "It would be helpful to further investigate the underlying data for these variables, focusing on extreme values or unusual patterns."
   ]
  },
  {
   "cell_type": "markdown",
   "metadata": {},
   "source": [
    "StATISTICAL IDENTIFICATION OF OUTLIERS"
   ]
  },
  {
   "cell_type": "code",
   "execution_count": 65,
   "metadata": {},
   "outputs": [
    {
     "name": "stdout",
     "output_type": "stream",
     "text": [
      "                                                   title  \\\n",
      "30                            i hate being small chested   \n",
      "31                            i hate being small chested   \n",
      "32                            i hate being small chested   \n",
      "33                            i hate being small chested   \n",
      "34                            i hate being small chested   \n",
      "...                                                  ...   \n",
      "92376  What is a mental health tip you thought was BS...   \n",
      "92380  What is a mental health tip you thought was BS...   \n",
      "92381  What is a mental health tip you thought was BS...   \n",
      "92382  What is a mental health tip you thought was BS...   \n",
      "92383  What is a mental health tip you thought was BS...   \n",
      "\n",
      "                                               post_body  \\\n",
      "30     This shouldn’t be having such a bad impact on ...   \n",
      "31     This shouldn’t be having such a bad impact on ...   \n",
      "32     This shouldn’t be having such a bad impact on ...   \n",
      "33     This shouldn’t be having such a bad impact on ...   \n",
      "34     This shouldn’t be having such a bad impact on ...   \n",
      "...                                                  ...   \n",
      "92376                                            Missing   \n",
      "92380                                            Missing   \n",
      "92381                                            Missing   \n",
      "92382                                            Missing   \n",
      "92383                                            Missing   \n",
      "\n",
      "                                            comment_body  comment_score  \\\n",
      "30     You’re only 16 years old, your body isn’t done...             19   \n",
      "31     Idk if this will help you feel better or not, ...             39   \n",
      "32     Silver lining. Less back problems in your future.             88   \n",
      "33     Do you have a mom, female family or friend you...             12   \n",
      "34                           I’m 24 and they never came😭             12   \n",
      "...                                                  ...            ...   \n",
      "92376  I’m wanting to “rediscover” exercise at this s...             30   \n",
      "92380  Not sure of your age or interests but on the d...             67   \n",
      "92381  Personally I had to hit a low point and really...             29   \n",
      "92382  Get some good music and headphones, a very com...             27   \n",
      "92383  My psychiatrist has recommended gardening for ...             27   \n",
      "\n",
      "                                                post_url       created  \\\n",
      "30     https://www.reddit.com/r/mentalhealth/comments...  1.730430e+09   \n",
      "31     https://www.reddit.com/r/mentalhealth/comments...  1.730428e+09   \n",
      "32     https://www.reddit.com/r/mentalhealth/comments...  1.730430e+09   \n",
      "33     https://www.reddit.com/r/mentalhealth/comments...  1.730427e+09   \n",
      "34     https://www.reddit.com/r/mentalhealth/comments...  1.730440e+09   \n",
      "...                                                  ...           ...   \n",
      "92376  https://www.reddit.com/r/AskWomen/comments/v8t...  1.654829e+09   \n",
      "92380  https://www.reddit.com/r/AskWomen/comments/v8t...  1.654835e+09   \n",
      "92381  https://www.reddit.com/r/AskWomen/comments/v8t...  1.654835e+09   \n",
      "92382  https://www.reddit.com/r/AskWomen/comments/v8t...  1.654834e+09   \n",
      "92383  https://www.reddit.com/r/AskWomen/comments/v8t...  1.654859e+09   \n",
      "\n",
      "          subreddit                label  post_score  post_num_comments  ...  \\\n",
      "30     mentalhealth  mental_health_issue          58                101  ...   \n",
      "31     mentalhealth  mental_health_issue          58                101  ...   \n",
      "32     mentalhealth  mental_health_issue          58                101  ...   \n",
      "33     mentalhealth  mental_health_issue          58                101  ...   \n",
      "34     mentalhealth  mental_health_issue          58                101  ...   \n",
      "...             ...                  ...         ...                ...  ...   \n",
      "92376      AskWomen              neutral        2305                957  ...   \n",
      "92380      AskWomen              neutral        2305                957  ...   \n",
      "92381      AskWomen              neutral        2305                957  ...   \n",
      "92382      AskWomen              neutral        2305                957  ...   \n",
      "92383      AskWomen              neutral        2305                957  ...   \n",
      "\n",
      "      author_premium distinguished  all_awardings num_crossposts  \\\n",
      "30             False           NaN             []              0   \n",
      "31             False           NaN             []              0   \n",
      "32             False           NaN             []              0   \n",
      "33             False           NaN             []              0   \n",
      "34             False           NaN             []              0   \n",
      "...              ...           ...            ...            ...   \n",
      "92376          False           NaN             []              0   \n",
      "92380          False           NaN             []              0   \n",
      "92381          False           NaN             []              0   \n",
      "92382          False           NaN             []              0   \n",
      "92383          False           NaN             []              0   \n",
      "\n",
      "       total_awards_received  post_thumbnail  link_flair_text  post_id  \\\n",
      "30                         0            self          Venting  1ggv4mx   \n",
      "31                         0            self          Venting  1ggv4mx   \n",
      "32                         0            self          Venting  1ggv4mx   \n",
      "33                         0            self          Venting  1ggv4mx   \n",
      "34                         0            self          Venting  1ggv4mx   \n",
      "...                      ...             ...              ...      ...   \n",
      "92376                      0            nsfw              NaN   v8t45q   \n",
      "92380                      0            nsfw              NaN   v8t45q   \n",
      "92381                      0            nsfw              NaN   v8t45q   \n",
      "92382                      0            nsfw              NaN   v8t45q   \n",
      "92383                      0            nsfw              NaN   v8t45q   \n",
      "\n",
      "       comment_id author_flair_text  \n",
      "30        lusv5cr               NaN  \n",
      "31        lusr9vm               NaN  \n",
      "32        lusvhjo               NaN  \n",
      "33        luspudj               NaN  \n",
      "34        lutey0l               NaN  \n",
      "...           ...               ...  \n",
      "92376     ibt7acv               NaN  \n",
      "92380     ibthcfm               NaN  \n",
      "92381     ibtgqob               NaN  \n",
      "92382     ibteyis               NaN  \n",
      "92383     ibubkf2               NaN  \n",
      "\n",
      "[14907 rows x 27 columns]\n"
     ]
    }
   ],
   "source": [
    "\n",
    "# Example: Assuming `df` is your DataFrame\n",
    "def detect_outliers(df, column):\n",
    "    Q1 = data[column].quantile(0.25)\n",
    "    Q3 = data[column].quantile(0.75)\n",
    "    IQR = Q3 - Q1\n",
    "    lower_bound = Q1 - 1.5 * IQR\n",
    "    upper_bound = Q3 + 1.5 * IQR\n",
    "    return data[(df[column] < lower_bound) | (data[column] > upper_bound)]\n",
    "\n",
    "# Check outliers for a specific column\n",
    "outliers_comment_score = detect_outliers(data, 'comment_score')\n",
    "print(outliers_comment_score)\n"
   ]
  },
  {
   "cell_type": "markdown",
   "metadata": {},
   "source": [
    "INVESTIGATE OUTLIERS"
   ]
  },
  {
   "cell_type": "code",
   "execution_count": 66,
   "metadata": {},
   "outputs": [
    {
     "name": "stdout",
     "output_type": "stream",
     "text": [
      "       comment_score  post_score  upvote_ratio\n",
      "30                19          58          0.84\n",
      "31                39          58          0.84\n",
      "32                88          58          0.84\n",
      "33                12          58          0.84\n",
      "34                12          58          0.84\n",
      "...              ...         ...           ...\n",
      "92376             30        2305          0.99\n",
      "92380             67        2305          0.99\n",
      "92381             29        2305          0.99\n",
      "92382             27        2305          0.99\n",
      "92383             27        2305          0.99\n",
      "\n",
      "[14907 rows x 3 columns]\n"
     ]
    }
   ],
   "source": [
    "# View extreme rows\n",
    "print(outliers_comment_score[['comment_score', 'post_score', 'upvote_ratio']])\n"
   ]
  },
  {
   "cell_type": "markdown",
   "metadata": {},
   "source": [
    "3. Visualize Outliers in Context\n",
    "VISUALIZE OUTLIERS IN CONTEXT"
   ]
  },
  {
   "cell_type": "code",
   "execution_count": 67,
   "metadata": {},
   "outputs": [
    {
     "data": {
      "image/png": "[encoded data removed]",
      "text/plain": [
       "<Figure size 432x288 with 1 Axes>"
      ]
     },
     "metadata": {
      "needs_background": "light"
     },
     "output_type": "display_data"
    }
   ],
   "source": [
    "\n",
    "\n",
    "# Example: Visualize the relationship between post_score and num_crossposts\n",
    "sns.scatterplot(data=data, x='post_score', y='num_crossposts')\n",
    "plt.show()\n"
   ]
  },
  {
   "cell_type": "markdown",
   "metadata": {},
   "source": [
    " Investigate High-Impact Data Points"
   ]
  },
  {
   "cell_type": "markdown",
   "metadata": {},
   "source": [
    "Filtering"
   ]
  },
  {
   "cell_type": "code",
   "execution_count": 69,
   "metadata": {},
   "outputs": [],
   "source": [
    "filtered_df = data[~data.index.isin(outliers_comment_score.index)]\n"
   ]
  },
  {
   "cell_type": "markdown",
   "metadata": {},
   "source": [
    "Transformations: Apply log transformation for variables with large scales.\n",
    "\n",
    "\n"
   ]
  },
  {
   "cell_type": "code",
   "execution_count": 70,
   "metadata": {},
   "outputs": [],
   "source": [
    "data['log_post_score'] = np.log1p(data['post_score'])\n"
   ]
  },
  {
   "cell_type": "code",
   "execution_count": 75,
   "metadata": {},
   "outputs": [
    {
     "name": "stdout",
     "output_type": "stream",
     "text": [
      "                       comment_score   created  post_score  post_num_comments  \\\n",
      "comment_score               1.000000 -0.024023    0.062483           0.086523   \n",
      "created                    -0.024023  1.000000    0.165345          -0.176349   \n",
      "post_score                  0.062483  0.165345    1.000000           0.508231   \n",
      "post_num_comments           0.086523 -0.176349    0.508231           1.000000   \n",
      "post_created               -0.023839  0.999893    0.165456          -0.175934   \n",
      "upvote_ratio                0.031621 -0.014709    0.142600           0.227047   \n",
      "over_18                     0.023704 -0.983089   -0.166038           0.174339   \n",
      "is_self_post               -0.041081 -0.287788   -0.577749          -0.123657   \n",
      "author_premium              0.011597  0.054919    0.051891          -0.040679   \n",
      "distinguished                    NaN       NaN         NaN                NaN   \n",
      "num_crossposts              0.064917  0.113843    0.637860           0.350857   \n",
      "total_awards_received            NaN       NaN         NaN                NaN   \n",
      "log_post_score              0.083918  0.031922    0.602818           0.523449   \n",
      "\n",
      "                       post_created  upvote_ratio   over_18  is_self_post  \\\n",
      "comment_score             -0.023839      0.031621  0.023704     -0.041081   \n",
      "created                    0.999893     -0.014709 -0.983089     -0.287788   \n",
      "post_score                 0.165456      0.142600 -0.166038     -0.577749   \n",
      "post_num_comments         -0.175934      0.227047  0.174339     -0.123657   \n",
      "post_created               1.000000     -0.014757 -0.983189     -0.287834   \n",
      "upvote_ratio              -0.014757      1.000000  0.020336     -0.256017   \n",
      "over_18                   -0.983189      0.020336  1.000000      0.291125   \n",
      "is_self_post              -0.287834     -0.256017  0.291125      1.000000   \n",
      "author_premium             0.054932      0.063315 -0.055345     -0.154693   \n",
      "distinguished                   NaN           NaN       NaN           NaN   \n",
      "num_crossposts             0.113916      0.104151 -0.110382     -0.405845   \n",
      "total_awards_received           NaN           NaN       NaN           NaN   \n",
      "log_post_score             0.032025      0.623250 -0.029346     -0.639992   \n",
      "\n",
      "                       author_premium  distinguished  num_crossposts  \\\n",
      "comment_score                0.011597            NaN        0.064917   \n",
      "created                      0.054919            NaN        0.113843   \n",
      "post_score                   0.051891            NaN        0.637860   \n",
      "post_num_comments           -0.040679            NaN        0.350857   \n",
      "post_created                 0.054932            NaN        0.113916   \n",
      "upvote_ratio                 0.063315            NaN        0.104151   \n",
      "over_18                     -0.055345            NaN       -0.110382   \n",
      "is_self_post                -0.154693            NaN       -0.405845   \n",
      "author_premium               1.000000            NaN        0.000485   \n",
      "distinguished                     NaN            NaN             NaN   \n",
      "num_crossposts               0.000485            NaN        1.000000   \n",
      "total_awards_received             NaN            NaN             NaN   \n",
      "log_post_score               0.098978            NaN        0.422306   \n",
      "\n",
      "                       total_awards_received  log_post_score  \n",
      "comment_score                            NaN        0.083918  \n",
      "created                                  NaN        0.031922  \n",
      "post_score                               NaN        0.602818  \n",
      "post_num_comments                        NaN        0.523449  \n",
      "post_created                             NaN        0.032025  \n",
      "upvote_ratio                             NaN        0.623250  \n",
      "over_18                                  NaN       -0.029346  \n",
      "is_self_post                             NaN       -0.639992  \n",
      "author_premium                           NaN        0.098978  \n",
      "distinguished                            NaN             NaN  \n",
      "num_crossposts                           NaN        0.422306  \n",
      "total_awards_received                    NaN             NaN  \n",
      "log_post_score                           NaN        1.000000  \n"
     ]
    }
   ],
   "source": [
    "# Correlation matrix\n",
    "correlation_matrix = data.corr()\n",
    "print(correlation_matrix)\n",
    "\n"
   ]
  }
 ],
 "metadata": {
  "kernelspec": {
   "display_name": "Python (learn-env)",
   "language": "python",
   "name": "learn-env"
  },
  "language_info": {
   "codemirror_mode": {
    "name": "ipython",
    "version": 3
   },
   "file_extension": ".py",
   "mimetype": "text/x-python",
   "name": "python",
   "nbconvert_exporter": "python",
   "pygments_lexer": "ipython3",
   "version": "3.8.5"
  }
 },
 "nbformat": 4,
 "nbformat_minor": 2
}
