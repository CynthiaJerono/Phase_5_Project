{
 "cells": [
  {
   "cell_type": "markdown",
   "metadata": {},
   "source": [
    "**CAPSTONE PROJECT MENTAL HEALTH ISSUE IDENTIFICATION SYSTEM**\n",
    "\n",
    "Please fill out:\n",
    "* Student names: \n",
    "* Student pace:  **PART TIME**\n",
    "* Scheduled project review date/time: **18/11/2024**\n",
    "* Instructor name: ****"
   ]
  },
  {
   "cell_type": "markdown",
   "metadata": {},
   "source": [
    "**1.BUSINESS UNDERSTANDING**"
   ]
  },
  {
   "cell_type": "markdown",
   "metadata": {},
   "source": [
    "**1.  Introduction**\n",
    "\n",
    "Mental health has become an urgent public health concern across the globe, and Kenya is no exception. Approximately 25% of outpatients and 40% of inpatients in Kenyan healthcare facilities are affected by mental health conditions, according to the Kenyan National Commission of Human Rights. Depression, substance abuse, stress, and anxiety disorders are among the most commonly diagnosed mental health issues in hospital settings, a reflection of an alarming national trend. The situation is compounded by limited data on mental health, neurological issues, and substance use (MNS) in Kenya, making it challenging to address these concerns effectively.\n",
    "\n",
    "\n",
    "The World Health Organization (WHO) ranks Kenya among the African nations with the highest depression rates, with estimates suggesting that around two million Kenyans are impacted by depression alone. Disturbingly, one in four Kenyans will experience a mental health disorder at some point in their lives.\n",
    "\n",
    "\n",
    "Given the urgent need to address mental health concerns, this project aims to leverage artificial intelligence to identify and analyze mental health indicators within social media text.\n",
    "\n",
    "By capturing and analyzing patterns of mental health issues expressed in public discourse, the project seeks to provide insights that can inform policymakers, healthcare providers, and support systems. In doing so, it contributes to a broader understanding of mental health in Kenya and aligns with the national objective of prioritizing mental well-being.\n",
    "\n",
    "**Problem Statement**\n",
    "\n",
    "\n",
    "\n",
    "\n",
    "\n",
    "\n"
   ]
  },
  {
   "cell_type": "markdown",
   "metadata": {},
   "source": [
    "Mental health issues like depression, anxiety, and suicidal tendencies often go unnoticed in daily conversations, especially in online forums, social media posts, or text-based support systems. Existing tools are either too general or overly reliant on structured input, missing subtle signs of mental distress embedded in unstructured conversations. This project aims to identify potential mental health concerns based on users’ language and conversational patterns in online texts."
   ]
  },
  {
   "cell_type": "markdown",
   "metadata": {},
   "source": [
    "**Goals and Objectives**"
   ]
  },
  {
   "cell_type": "markdown",
   "metadata": {},
   "source": [
    "**1.Identify and Categorize Mental Health Issues:**\n",
    "\n",
    "Develop a model that can accurately classify different mental health issues (e.g., depression, anxiety, suicidal tendencies) based on text data in Reddit posts and comments.\n",
    "\n",
    "**2.Analyze Language Patterns Linked to Mental Distress:**\n",
    "\n",
    " Detect and analyze linguistic features and conversational patterns commonly associated with mental health issues to help distinguish subtle indicators of distress.\n",
    "\n",
    " **3.Assess Sentiment and Emotional Intensity:**\n",
    " \n",
    "  Implement sentiment analysis to assess the emotional intensity and tone of the posts and comments, helping to prioritize urgent cases or severe distress\n",
    "\n",
    "  **4.Provide Actionable Insights for Intervention:**\n",
    "  \n",
    "   Generate insights that could support mental health professionals and social media moderators in identifying and addressing potential cases of mental health crises on forums and social platforms."
   ]
  },
  {
   "cell_type": "markdown",
   "metadata": {},
   "source": [
    "**STAKEHOLDERS**"
   ]
  },
  {
   "cell_type": "markdown",
   "metadata": {},
   "source": [
    " ### 1.Government and Health Agencies ###\n",
    "\n",
    "i. **Ministry of Health (Kenya)**: As a primary body responsible for public health policies, they are key stakeholders in using the project's insights to shape mental health policies and interventions.\n",
    "\n",
    "ii. **Kenyan National Commission on Human Rights**: Involved in advocacy for better mental health services and safeguarding human rights for those affected by mental health issues.\n",
    "\n",
    "iii. **National Authority for the Campaign Against Alcohol and Drug Abuse (NACADA)**: Given the links between substance abuse and mental health, NACADA's involvement could help tailor intervention programs.\n",
    "\n",
    "### 2.Healthcare Providers ###\n",
    "\n",
    "i. **Psychiatrists, Psychologists, and Therapists**: As frontline workers in diagnosing and treating mental health disorders, they would benefit from insights into prevalent issues and potential trends in patient symptoms.\n",
    "\n",
    "ii. **Healthcare Facilities (Hospitals, Clinics)**: Understanding the mental health landscape can help facilities prepare resources and adapt treatment protocols to better address patient needs.\n",
    "\n",
    "iii. **Public Health Organizations**: Including organizations like the World Health Organization (WHO), which can leverage findings to inform global and regional strategies on mental health.\n",
    "\n",
    " ### 3.Mental Health Advocacy Groups and NGOs ###\n",
    "\n",
    "i. **Basic Needs Kenya, Mental Health Kenya, and Befrienders Kenya**: These advocacy groups work on awareness, support, and outreach programs, so insights from the project can help them tailor their initiatives and better support affected individuals.\n",
    "\n",
    "ii. **Kenya Red Cross**: Often involved in providing mental health support during crises, they could use the data to identify areas with higher mental health needs.\n",
    "\n",
    "### 4.Policy Makers and Legislators ###\n",
    "\n",
    "i. **National Assembly's Health Committee**: To help in reviewing and proposing mental health legislation that aligns with the insights gathered from the analysis.\n",
    "\n",
    "ii. **County Health Administrators**: Local level officials who can use insights for tailored mental health programs at the community level.\n"
   ]
  },
  {
   "cell_type": "markdown",
   "metadata": {},
   "source": [
    "**2.DATA COLLECTION**\n",
    "\n",
    "To gather a robust dataset for the Mindcheck project, we utilized the Reddit API through the Python Reddit API Wrapper (PRAW). This approach enabled us to collect a wide range of posts and comments relevant to mental health discussions, positive expressions, and neutral content, which would support the accurate identification and classification of mental health concerns.\n",
    "\n",
    "we used keyword-based search queries and collected up to 5,000 posts per subreddit. Each post’s title, body, comments, and metadata (e.g., author information, comment scores, timestamps, and subreddit details) were captured to support downstream text analysis. We also included additional post attributes, such as flair, upvote ratios, and crosspost counts, which may serve as helpful features in identifying mental health patterns.\n",
    "\n",
    "The final dataset was structured and saved as a CSV file for convenient access, providing a comprehensive sample of mental health, positive, and neutral content from Reddit. "
   ]
  },
  {
   "cell_type": "markdown",
   "metadata": {},
   "source": [
    "The data structure supports a comprehensive analysis of mental health discussions on social media, allowing for insights into engagement, sentiment, and topic categorization."
   ]
  },
  {
   "cell_type": "markdown",
   "metadata": {},
   "source": [
    "**DATA LOADING AND IMPORTING RELEVANT LIBRARIES**\n"
   ]
  },
  {
   "cell_type": "code",
   "execution_count": 6,
   "metadata": {},
   "outputs": [],
   "source": [
    "# IMPORTING RELEVANT LIBRARIES\n",
    "import pandas as pd\n",
    "import numpy as np\n",
    "import matplotlib.pyplot as plt\n",
    "import seaborn as sns\n",
    "from wordcloud import WordCloud\n",
    "from vaderSentiment.vaderSentiment import SentimentIntensityAnalyzer\n",
    "from sklearn.feature_extraction.text import TfidfVectorizer\n",
    "from sklearn.model_selection import train_test_split\n",
    "from sklearn.linear_model import LogisticRegression\n",
    "from sklearn.ensemble import RandomForestClassifier\n",
    "from sklearn.svm import SVC\n",
    "from sklearn.metrics import classification_report, accuracy_score, precision_score, recall_score, f1_score\n",
    "\n"
   ]
  },
  {
   "cell_type": "code",
   "execution_count": null,
   "metadata": {},
   "outputs": [],
   "source": [
    "#LOADING THE DATASET\n",
    "\n",
    "data = pd.read_csv(\"broad_reddit_search_with_labels.csv\")"
   ]
  },
  {
   "cell_type": "code",
   "execution_count": null,
   "metadata": {},
   "outputs": [],
   "source": [
    "#VIEW FIRST FIVE ROWS\n",
    "data.head()"
   ]
  },
  {
   "cell_type": "markdown",
   "metadata": {},
   "source": [
    "**2.2 DATA DESCRIPTION**"
   ]
  },
  {
   "cell_type": "code",
   "execution_count": null,
   "metadata": {},
   "outputs": [],
   "source": [
    "#GETTING GENERAL INFORMATION ON NON-NULL COUNTS AND DATA TYPES FOR PER COLUMN\n",
    "data.info()"
   ]
  },
  {
   "cell_type": "markdown",
   "metadata": {},
   "source": [
    "**Description of the data:**\n",
    "\n",
    "Total Entries: 92,395\n",
    "\n",
    "Columns: 27, with various data types including object (text), int64 (integer), float64 (floating-point), and bool (boolean).\n",
    "\n",
    "\n",
    "**Data Columns Overview**\n",
    "\n",
    "**1.Post and Comment Content:**\n",
    "\n",
    "**title:**\n",
    " The title of the post, which may provide a summary of the content.\n",
    "**post_body**\n",
    " The main content or body of the post.\n",
    "\n",
    "**comment_body:** \n",
    "The content of a specific comment on the post.\n",
    "\n",
    "**2.Engagement and Score:**\n",
    "\n",
    "**post_score:** \n",
    "The score or upvotes received by the post, which may indicate popularity.\n",
    "**comment_score:**\n",
    "The score or upvotes received by the comment.\n",
    "**upvote_ratio:**\n",
    "The ratio of upvotes to total votes for the post.\n",
    "**number of_crossposts:**\n",
    "The number of times this post has been cross-posted to other subreddits.\n",
    "**post_num_comments:** \n",
    "The number of comments on the post, indicating engagement.\n",
    "\n",
    "**3.Metadata:**\n",
    "\n",
    "**post_url:** The URL of the post, useful for tracking or referencing.\n",
    "**created:** The timestamp when the post or comment was created.\n",
    "**subreddit:** The subreddit where the post or comment was made, which helps in filtering data by community focus.\n",
    "**label:** This could represent a manual or model-assigned label (e.g., sentiment, topic, or mental health category).\n",
    "\n",
    "**4.User Information:**\n",
    "**author:** The username of the post’s author.\n",
    "**comment_author:** The username of the comment’s author.\n",
    "**author_premium:** Indicates if the author has a premium account.\n",
    "**distinguished:** A flag indicating if the post is from a moderator or other special status.\n",
    "\n",
    "\n",
    "**5.Post and Comment Attributes:**\n",
    "\n",
    "**over_18:** A flag indicating if the content is marked as NSFW (Not Safe For Work).\n",
    "is_self_post: Indicates if the post is a self-post (text-only) rather than a link.\n",
    "**post_flair and link_flair_text:** Text tags applied to the post, which may reflect topic categories or sentiments.\n",
    "**author_flair_text:** A flair assigned to the author, possibly indicating affiliation or status in the subreddit.\n",
    "\n",
    "**6.Awards and Other Engagement Indicators:**\n",
    "\n",
    "**all_awardings and total_awards_received** Data on awards given to the post or comment, reflecting user appreciation.\n",
    "**post_thumbnail:** A thumbnail image associated with the post, if available.\n",
    "\n",
    "**7.Identifiers:**\n",
    "post_id and comment_id: Unique identifiers for each post and comment, respectively. These help in tracking specific posts or comments.\n"
   ]
  },
  {
   "cell_type": "code",
   "execution_count": null,
   "metadata": {},
   "outputs": [],
   "source": [
    "#GETTING GENERAL INFORMATION ON NON-NULL COUNTS AND DATA TYPES FOR PER COLUMN\n",
    "data.info()"
   ]
  },
  {
   "cell_type": "code",
   "execution_count": null,
   "metadata": {},
   "outputs": [],
   "source": [
    "#CHECK NUMBER OF ROWS AND COLUMNS\n",
    "data.shape"
   ]
  },
  {
   "cell_type": "markdown",
   "metadata": {},
   "source": [
    "The data set has 92395 rowns and 27 columns"
   ]
  },
  {
   "cell_type": "markdown",
   "metadata": {},
   "source": [
    "**DROPPING IRRELEVANT COLUMNS**"
   ]
  },
  {
   "cell_type": "markdown",
   "metadata": {},
   "source": [
    "Based on our project goal of identifying and understanding mental health discussions in social media text:We gruoped the columns into Relevant and Irrelevant columns:\n",
    "\n",
    "**Relevant Columns(11)**\n",
    "\n",
    "**Text Content:** title, post_body, comment_body - Primary text fields for analyzing mental health topics and sentiment.\n",
    "\n",
    "**Engagement Metrics:** post_score, comment_score, upvote_ratio - Indicate community engagement and post relevance.\n",
    "\n",
    "**Categorization:** label, subreddit, post_flair, link_flair_text - Useful for identifying mental health categories, topics, or sentiment.\n",
    "\n",
    "**Timestamp:** created - Helps in analyzing trends over time.\n",
    "\n",
    "**Less Relevant Columns(16)**\n",
    "\n",
    "**Identifiers and URLs:** post_url, post_id, comment_id, author, comment_author - Useful for tracking but not for text analysis.\n",
    "\n",
    "**Other Metadata:** over_18, is_self_post, author premium,distinguished, post_thumbnail, all_awardings, total_awards_received, author_flair_text - Provide limited insight into mental health content."
   ]
  },
  {
   "cell_type": "code",
   "execution_count": null,
   "metadata": {},
   "outputs": [],
   "source": [
    "#Dropping Columns\n",
    "# List of columns to drop  based on our analysis\n",
    "columns_to_drop = [\n",
    "    'post_url', 'post_id', 'comment_id', 'author', 'comment_author',\n",
    "    'post_num_comments', 'over_18','author_premium','is_self_post', 'distinguished',\n",
    "    'post_thumbnail', 'all_awardings', 'total_awards_received',\n",
    "    'author_flair_text', 'num_crossposts', 'all_awardings'\n",
    "]\n",
    "\n",
    "# Dropping irrelevant columns from the DataFrame\n",
    "data = data.drop(columns=columns_to_drop)\n",
    "\n",
    "# Display the DataFrame to verify\n",
    "data.head()\n"
   ]
  }
 ],
 "metadata": {
  "kernelspec": {
   "display_name": "learn-env",
   "language": "python",
   "name": "python3"
  },
  "language_info": {
   "codemirror_mode": {
    "name": "ipython",
    "version": 3
   },
   "file_extension": ".py",
   "mimetype": "text/x-python",
   "name": "python",
   "nbconvert_exporter": "python",
   "pygments_lexer": "ipython3",
   "version": "3.8.5"
  }
 },
 "nbformat": 4,
 "nbformat_minor": 2
}
